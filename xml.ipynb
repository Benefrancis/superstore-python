{
 "cells": [
  {
   "cell_type": "code",
   "execution_count": 1,
   "id": "initial_id",
   "metadata": {
    "collapsed": true,
    "ExecuteTime": {
     "end_time": "2023-12-23T17:42:17.764894800Z",
     "start_time": "2023-12-23T17:42:16.958112900Z"
    }
   },
   "outputs": [],
   "source": [
    "import pandas as pd"
   ]
  },
  {
   "cell_type": "markdown",
   "source": [
    "O que é XML?\n",
    "Esse nome é uma sigla da expressão em inglês Extensible Markup Language, ou \"Linguagem de marcação estendida\". Sua estrutura de tags é muito parecida com o HTML.\n",
    "\n",
    "No nosso arquivo, temos uma tag logo no início chamada <data>. Essa é a tag raiz que indica o início do documento. Em seguida temos uma tag chamada <row>, \"linha\" em português. Para cada linha, temos várias tags que contêm as informações que estarão em cada uma das colunas.\n",
    "\n",
    "Na primeira linha, por exemplo, temos as seguintes informações:"
   ],
   "metadata": {
    "collapsed": false
   },
   "id": "3e900842dce37db"
  },
  {
   "cell_type": "code",
   "execution_count": 2,
   "outputs": [
    {
     "data": {
      "text/plain": "     index                                        Poster_Link  \\\n0        0  https://m.media-amazon.com/images/M/MV5BMDFkYT...   \n1        1  https://m.media-amazon.com/images/M/MV5BM2MyNj...   \n2        2  https://m.media-amazon.com/images/M/MV5BMTMxNT...   \n3        3  https://m.media-amazon.com/images/M/MV5BMWMwMG...   \n4        4  https://m.media-amazon.com/images/M/MV5BMWU4N2...   \n..     ...                                                ...   \n995    995  https://m.media-amazon.com/images/M/MV5BNGEwMT...   \n996    996  https://m.media-amazon.com/images/M/MV5BODk3Yj...   \n997    997  https://m.media-amazon.com/images/M/MV5BM2U3Yz...   \n998    998  https://m.media-amazon.com/images/M/MV5BZTBmMj...   \n999    999  https://m.media-amazon.com/images/M/MV5BMTY5OD...   \n\n                 Series_Title Released_Year Certificate  Runtime  \\\n0    The Shawshank Redemption          1994           A  142 min   \n1               The Godfather          1972           A  175 min   \n2             The Dark Knight          2008          UA  152 min   \n3      The Godfather: Part II          1974           A  202 min   \n4                12 Angry Men          1957           U   96 min   \n..                        ...           ...         ...      ...   \n995    Breakfast at Tiffany's          1961           A  115 min   \n996                     Giant          1956           G  201 min   \n997     From Here to Eternity          1953      Passed  118 min   \n998                  Lifeboat          1944        None   97 min   \n999              The 39 Steps          1935        None   86 min   \n\n                        Genre  IMDB_Rating  \\\n0                       Drama          9.3   \n1                Crime, Drama          9.2   \n2        Action, Crime, Drama          9.0   \n3                Crime, Drama          9.0   \n4                Crime, Drama          9.0   \n..                        ...          ...   \n995    Comedy, Drama, Romance          7.6   \n996            Drama, Western          7.6   \n997       Drama, Romance, War          7.6   \n998                Drama, War          7.6   \n999  Crime, Mystery, Thriller          7.6   \n\n                                              Overview  Meta_score  \\\n0    Two imprisoned men bond over a number of years...        80.0   \n1    An organized crime dynasty's aging patriarch t...       100.0   \n2    When the menace known as the Joker wreaks havo...        84.0   \n3    The early life and career of Vito Corleone in ...        90.0   \n4    A jury holdout attempts to prevent a miscarria...        96.0   \n..                                                 ...         ...   \n995  A young New York socialite becomes interested ...        76.0   \n996  Sprawling epic covering the life of a Texas ca...        84.0   \n997  In Hawaii in 1941, a private is cruelly punish...        85.0   \n998  Several survivors of a torpedoed merchant ship...        78.0   \n999  A man in London tries to help a counter-espion...        93.0   \n\n                 Director              Star1              Star2  \\\n0          Frank Darabont        Tim Robbins     Morgan Freeman   \n1    Francis Ford Coppola      Marlon Brando          Al Pacino   \n2       Christopher Nolan     Christian Bale       Heath Ledger   \n3    Francis Ford Coppola          Al Pacino     Robert De Niro   \n4            Sidney Lumet        Henry Fonda        Lee J. Cobb   \n..                    ...                ...                ...   \n995         Blake Edwards     Audrey Hepburn     George Peppard   \n996        George Stevens   Elizabeth Taylor        Rock Hudson   \n997        Fred Zinnemann     Burt Lancaster   Montgomery Clift   \n998      Alfred Hitchcock  Tallulah Bankhead        John Hodiak   \n999      Alfred Hitchcock       Robert Donat  Madeleine Carroll   \n\n              Star3           Star4  No_of_Votes        Gross  \n0        Bob Gunton  William Sadler      2343110   28,341,469  \n1        James Caan    Diane Keaton      1620367  134,966,411  \n2     Aaron Eckhart   Michael Caine      2303232  534,858,444  \n3     Robert Duvall    Diane Keaton      1129952   57,300,000  \n4     Martin Balsam    John Fiedler       689845    4,360,000  \n..              ...             ...          ...          ...  \n995   Patricia Neal     Buddy Ebsen       166544         None  \n996      James Dean   Carroll Baker        34075         None  \n997    Deborah Kerr      Donna Reed        43374   30,500,000  \n998   Walter Slezak  William Bendix        26471         None  \n999  Lucie Mannheim  Godfrey Tearle        51853         None  \n\n[1000 rows x 17 columns]",
      "text/html": "<div>\n<style scoped>\n    .dataframe tbody tr th:only-of-type {\n        vertical-align: middle;\n    }\n\n    .dataframe tbody tr th {\n        vertical-align: top;\n    }\n\n    .dataframe thead th {\n        text-align: right;\n    }\n</style>\n<table border=\"1\" class=\"dataframe\">\n  <thead>\n    <tr style=\"text-align: right;\">\n      <th></th>\n      <th>index</th>\n      <th>Poster_Link</th>\n      <th>Series_Title</th>\n      <th>Released_Year</th>\n      <th>Certificate</th>\n      <th>Runtime</th>\n      <th>Genre</th>\n      <th>IMDB_Rating</th>\n      <th>Overview</th>\n      <th>Meta_score</th>\n      <th>Director</th>\n      <th>Star1</th>\n      <th>Star2</th>\n      <th>Star3</th>\n      <th>Star4</th>\n      <th>No_of_Votes</th>\n      <th>Gross</th>\n    </tr>\n  </thead>\n  <tbody>\n    <tr>\n      <th>0</th>\n      <td>0</td>\n      <td>https://m.media-amazon.com/images/M/MV5BMDFkYT...</td>\n      <td>The Shawshank Redemption</td>\n      <td>1994</td>\n      <td>A</td>\n      <td>142 min</td>\n      <td>Drama</td>\n      <td>9.3</td>\n      <td>Two imprisoned men bond over a number of years...</td>\n      <td>80.0</td>\n      <td>Frank Darabont</td>\n      <td>Tim Robbins</td>\n      <td>Morgan Freeman</td>\n      <td>Bob Gunton</td>\n      <td>William Sadler</td>\n      <td>2343110</td>\n      <td>28,341,469</td>\n    </tr>\n    <tr>\n      <th>1</th>\n      <td>1</td>\n      <td>https://m.media-amazon.com/images/M/MV5BM2MyNj...</td>\n      <td>The Godfather</td>\n      <td>1972</td>\n      <td>A</td>\n      <td>175 min</td>\n      <td>Crime, Drama</td>\n      <td>9.2</td>\n      <td>An organized crime dynasty's aging patriarch t...</td>\n      <td>100.0</td>\n      <td>Francis Ford Coppola</td>\n      <td>Marlon Brando</td>\n      <td>Al Pacino</td>\n      <td>James Caan</td>\n      <td>Diane Keaton</td>\n      <td>1620367</td>\n      <td>134,966,411</td>\n    </tr>\n    <tr>\n      <th>2</th>\n      <td>2</td>\n      <td>https://m.media-amazon.com/images/M/MV5BMTMxNT...</td>\n      <td>The Dark Knight</td>\n      <td>2008</td>\n      <td>UA</td>\n      <td>152 min</td>\n      <td>Action, Crime, Drama</td>\n      <td>9.0</td>\n      <td>When the menace known as the Joker wreaks havo...</td>\n      <td>84.0</td>\n      <td>Christopher Nolan</td>\n      <td>Christian Bale</td>\n      <td>Heath Ledger</td>\n      <td>Aaron Eckhart</td>\n      <td>Michael Caine</td>\n      <td>2303232</td>\n      <td>534,858,444</td>\n    </tr>\n    <tr>\n      <th>3</th>\n      <td>3</td>\n      <td>https://m.media-amazon.com/images/M/MV5BMWMwMG...</td>\n      <td>The Godfather: Part II</td>\n      <td>1974</td>\n      <td>A</td>\n      <td>202 min</td>\n      <td>Crime, Drama</td>\n      <td>9.0</td>\n      <td>The early life and career of Vito Corleone in ...</td>\n      <td>90.0</td>\n      <td>Francis Ford Coppola</td>\n      <td>Al Pacino</td>\n      <td>Robert De Niro</td>\n      <td>Robert Duvall</td>\n      <td>Diane Keaton</td>\n      <td>1129952</td>\n      <td>57,300,000</td>\n    </tr>\n    <tr>\n      <th>4</th>\n      <td>4</td>\n      <td>https://m.media-amazon.com/images/M/MV5BMWU4N2...</td>\n      <td>12 Angry Men</td>\n      <td>1957</td>\n      <td>U</td>\n      <td>96 min</td>\n      <td>Crime, Drama</td>\n      <td>9.0</td>\n      <td>A jury holdout attempts to prevent a miscarria...</td>\n      <td>96.0</td>\n      <td>Sidney Lumet</td>\n      <td>Henry Fonda</td>\n      <td>Lee J. Cobb</td>\n      <td>Martin Balsam</td>\n      <td>John Fiedler</td>\n      <td>689845</td>\n      <td>4,360,000</td>\n    </tr>\n    <tr>\n      <th>...</th>\n      <td>...</td>\n      <td>...</td>\n      <td>...</td>\n      <td>...</td>\n      <td>...</td>\n      <td>...</td>\n      <td>...</td>\n      <td>...</td>\n      <td>...</td>\n      <td>...</td>\n      <td>...</td>\n      <td>...</td>\n      <td>...</td>\n      <td>...</td>\n      <td>...</td>\n      <td>...</td>\n      <td>...</td>\n    </tr>\n    <tr>\n      <th>995</th>\n      <td>995</td>\n      <td>https://m.media-amazon.com/images/M/MV5BNGEwMT...</td>\n      <td>Breakfast at Tiffany's</td>\n      <td>1961</td>\n      <td>A</td>\n      <td>115 min</td>\n      <td>Comedy, Drama, Romance</td>\n      <td>7.6</td>\n      <td>A young New York socialite becomes interested ...</td>\n      <td>76.0</td>\n      <td>Blake Edwards</td>\n      <td>Audrey Hepburn</td>\n      <td>George Peppard</td>\n      <td>Patricia Neal</td>\n      <td>Buddy Ebsen</td>\n      <td>166544</td>\n      <td>None</td>\n    </tr>\n    <tr>\n      <th>996</th>\n      <td>996</td>\n      <td>https://m.media-amazon.com/images/M/MV5BODk3Yj...</td>\n      <td>Giant</td>\n      <td>1956</td>\n      <td>G</td>\n      <td>201 min</td>\n      <td>Drama, Western</td>\n      <td>7.6</td>\n      <td>Sprawling epic covering the life of a Texas ca...</td>\n      <td>84.0</td>\n      <td>George Stevens</td>\n      <td>Elizabeth Taylor</td>\n      <td>Rock Hudson</td>\n      <td>James Dean</td>\n      <td>Carroll Baker</td>\n      <td>34075</td>\n      <td>None</td>\n    </tr>\n    <tr>\n      <th>997</th>\n      <td>997</td>\n      <td>https://m.media-amazon.com/images/M/MV5BM2U3Yz...</td>\n      <td>From Here to Eternity</td>\n      <td>1953</td>\n      <td>Passed</td>\n      <td>118 min</td>\n      <td>Drama, Romance, War</td>\n      <td>7.6</td>\n      <td>In Hawaii in 1941, a private is cruelly punish...</td>\n      <td>85.0</td>\n      <td>Fred Zinnemann</td>\n      <td>Burt Lancaster</td>\n      <td>Montgomery Clift</td>\n      <td>Deborah Kerr</td>\n      <td>Donna Reed</td>\n      <td>43374</td>\n      <td>30,500,000</td>\n    </tr>\n    <tr>\n      <th>998</th>\n      <td>998</td>\n      <td>https://m.media-amazon.com/images/M/MV5BZTBmMj...</td>\n      <td>Lifeboat</td>\n      <td>1944</td>\n      <td>None</td>\n      <td>97 min</td>\n      <td>Drama, War</td>\n      <td>7.6</td>\n      <td>Several survivors of a torpedoed merchant ship...</td>\n      <td>78.0</td>\n      <td>Alfred Hitchcock</td>\n      <td>Tallulah Bankhead</td>\n      <td>John Hodiak</td>\n      <td>Walter Slezak</td>\n      <td>William Bendix</td>\n      <td>26471</td>\n      <td>None</td>\n    </tr>\n    <tr>\n      <th>999</th>\n      <td>999</td>\n      <td>https://m.media-amazon.com/images/M/MV5BMTY5OD...</td>\n      <td>The 39 Steps</td>\n      <td>1935</td>\n      <td>None</td>\n      <td>86 min</td>\n      <td>Crime, Mystery, Thriller</td>\n      <td>7.6</td>\n      <td>A man in London tries to help a counter-espion...</td>\n      <td>93.0</td>\n      <td>Alfred Hitchcock</td>\n      <td>Robert Donat</td>\n      <td>Madeleine Carroll</td>\n      <td>Lucie Mannheim</td>\n      <td>Godfrey Tearle</td>\n      <td>51853</td>\n      <td>None</td>\n    </tr>\n  </tbody>\n</table>\n<p>1000 rows × 17 columns</p>\n</div>"
     },
     "execution_count": 2,
     "metadata": {},
     "output_type": "execute_result"
    }
   ],
   "source": [
    "dados_imdb = pd.read_xml('data/imdb_top_1000.xml')\n",
    "dados_imdb"
   ],
   "metadata": {
    "collapsed": false,
    "ExecuteTime": {
     "end_time": "2023-12-23T17:42:54.720517300Z",
     "start_time": "2023-12-23T17:42:54.548376400Z"
    }
   },
   "id": "ca004c7bbb87f09c"
  },
  {
   "cell_type": "markdown",
   "source": [
    "Escrevendo um arquivo XML\n",
    "Fizemos a leitura de um arquivo XML e entendemos sua estrutura! Agora, podemos escrever no formato XML.\n",
    "\n",
    "Para isso, numa nova célula, vamos escrever o nome da nossa variável dados_imdb e usar a função to_xml(''). Dentro dos parênteses e aspas, damos o nome do arquivo, como \"filmes_imdb.xml\":"
   ],
   "metadata": {
    "collapsed": false
   },
   "id": "2afd4795b2fe7a48"
  },
  {
   "cell_type": "code",
   "execution_count": 3,
   "outputs": [],
   "source": [
    "dados_imdb.to_xml('data/filmes_imdb.xml')"
   ],
   "metadata": {
    "collapsed": false,
    "ExecuteTime": {
     "end_time": "2023-12-23T17:43:33.300297300Z",
     "start_time": "2023-12-23T17:43:33.183786700Z"
    }
   },
   "id": "8c2ba4b00ac5efda"
  },
  {
   "cell_type": "markdown",
   "source": [
    "Ao executar essa célula, salvamos um arquivo no formato XML. Verificamos um novo arquivo chamado filmes_imdb.xml no menu de Arquivos!\n",
    "\n",
    "Essa função to_xml(), para salvar no formato XML, é muito útil quando trabalhamos com bancos de dados ou outros sistemas que se integrem facilmente a esse formato."
   ],
   "metadata": {
    "collapsed": false
   },
   "id": "31005aa136432316"
  }
 ],
 "metadata": {
  "kernelspec": {
   "display_name": "Python 3",
   "language": "python",
   "name": "python3"
  },
  "language_info": {
   "codemirror_mode": {
    "name": "ipython",
    "version": 2
   },
   "file_extension": ".py",
   "mimetype": "text/x-python",
   "name": "python",
   "nbconvert_exporter": "python",
   "pygments_lexer": "ipython2",
   "version": "2.7.6"
  }
 },
 "nbformat": 4,
 "nbformat_minor": 5
}
