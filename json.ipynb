{
 "cells": [
  {
   "cell_type": "code",
   "execution_count": 1,
   "id": "initial_id",
   "metadata": {
    "collapsed": true,
    "ExecuteTime": {
     "end_time": "2023-12-23T17:06:32.255734200Z",
     "start_time": "2023-12-23T17:06:31.454678600Z"
    }
   },
   "outputs": [],
   "source": [
    "import pandas as pd"
   ]
  },
  {
   "cell_type": "markdown",
   "source": [
    "Agora, temos um hospital que deseja acessar os dados de pacientes, mas os arquivos estão todos no formato JSON. Dessa forma, é difícil extrair informações relevantes a partir dos dados. O nosso objetivo será usar a biblioteca Pandas para ler e manipular esses arquivos."
   ],
   "metadata": {
    "collapsed": false
   },
   "id": "20e39736a7351813"
  },
  {
   "cell_type": "code",
   "execution_count": 2,
   "outputs": [
    {
     "data": {
      "text/plain": "     ID_paciente Doenca_cardiaca    IMC Fumante Consumo_alcool  AVC  \\\n0              0             Nao  16.60     Sim            Nao  Nao   \n1              1             Nao  20.34     Nao            Nao  Sim   \n2              2             Nao  26.58     Sim            Nao  Nao   \n3              3             Nao  24.21     Nao            Nao  Nao   \n4              4             Nao  23.71     Nao            Nao  Nao   \n..           ...             ...    ...     ...            ...  ...   \n995          995             Nao  28.29     Sim            Nao  Nao   \n996          996             Nao  25.69     Sim            Nao  Nao   \n997          997             Sim  26.99     Nao            Nao  Nao   \n998          998             Nao  44.29     Nao            Nao  Nao   \n999          999             Nao  25.83     Nao            Nao  Nao   \n\n     Saude_fisica  Saude_mental Dificuldade_caminhar Sexo_biologico  \\\n0               3            30                  Nao       Feminino   \n1               0             0                  Nao       Feminino   \n2              20            30                  Nao      Masculino   \n3               0             0                  Nao       Feminino   \n4              28             0                  Sim       Feminino   \n..            ...           ...                  ...            ...   \n995            10            20                  Nao       Feminino   \n996             0             0                  Nao       Feminino   \n997             1             0                  Nao      Masculino   \n998            30             0                  Sim       Feminino   \n999             0             0                  Nao      Masculino   \n\n    Faixa_etaria    Raca Diabetes Atividade_fisica Saude_geral  Horas_sono  \\\n0          55-59  Branca      Sim              Sim   Muito boa           5   \n1        80 ou +  Branca      Nao              Sim   Muito boa           7   \n2          65-69  Branca      Sim              Sim    Razoavel           8   \n3          75-79  Branca      Nao               No         Boa           6   \n4          40-44  Branca      Nao              Sim   Muito boa           8   \n..           ...     ...      ...              ...         ...         ...   \n995        65-69   Preta      Sim              Sim    Razoavel           8   \n996        75-79  Branca      Nao              Sim   Excelente           8   \n997        70-74  Branca      Nao              Sim   Muito boa           8   \n998        70-74  Branca      Sim               No         Boa           6   \n999        70-74   Preta      Sim               No   Excelente           7   \n\n    Asma Doenca_renal Cancer_pele  \n0    Sim          Nao         Sim  \n1    Nao          Nao         Nao  \n2    Sim          Nao         Nao  \n3    Nao          Nao         Sim  \n4    Nao          Nao         Nao  \n..   ...          ...         ...  \n995  Nao          Nao         Nao  \n996  Nao          Nao         Nao  \n997  Nao          Nao         Nao  \n998  Sim          Nao         Nao  \n999  Nao          Nao         Nao  \n\n[1000 rows x 19 columns]",
      "text/html": "<div>\n<style scoped>\n    .dataframe tbody tr th:only-of-type {\n        vertical-align: middle;\n    }\n\n    .dataframe tbody tr th {\n        vertical-align: top;\n    }\n\n    .dataframe thead th {\n        text-align: right;\n    }\n</style>\n<table border=\"1\" class=\"dataframe\">\n  <thead>\n    <tr style=\"text-align: right;\">\n      <th></th>\n      <th>ID_paciente</th>\n      <th>Doenca_cardiaca</th>\n      <th>IMC</th>\n      <th>Fumante</th>\n      <th>Consumo_alcool</th>\n      <th>AVC</th>\n      <th>Saude_fisica</th>\n      <th>Saude_mental</th>\n      <th>Dificuldade_caminhar</th>\n      <th>Sexo_biologico</th>\n      <th>Faixa_etaria</th>\n      <th>Raca</th>\n      <th>Diabetes</th>\n      <th>Atividade_fisica</th>\n      <th>Saude_geral</th>\n      <th>Horas_sono</th>\n      <th>Asma</th>\n      <th>Doenca_renal</th>\n      <th>Cancer_pele</th>\n    </tr>\n  </thead>\n  <tbody>\n    <tr>\n      <th>0</th>\n      <td>0</td>\n      <td>Nao</td>\n      <td>16.60</td>\n      <td>Sim</td>\n      <td>Nao</td>\n      <td>Nao</td>\n      <td>3</td>\n      <td>30</td>\n      <td>Nao</td>\n      <td>Feminino</td>\n      <td>55-59</td>\n      <td>Branca</td>\n      <td>Sim</td>\n      <td>Sim</td>\n      <td>Muito boa</td>\n      <td>5</td>\n      <td>Sim</td>\n      <td>Nao</td>\n      <td>Sim</td>\n    </tr>\n    <tr>\n      <th>1</th>\n      <td>1</td>\n      <td>Nao</td>\n      <td>20.34</td>\n      <td>Nao</td>\n      <td>Nao</td>\n      <td>Sim</td>\n      <td>0</td>\n      <td>0</td>\n      <td>Nao</td>\n      <td>Feminino</td>\n      <td>80 ou +</td>\n      <td>Branca</td>\n      <td>Nao</td>\n      <td>Sim</td>\n      <td>Muito boa</td>\n      <td>7</td>\n      <td>Nao</td>\n      <td>Nao</td>\n      <td>Nao</td>\n    </tr>\n    <tr>\n      <th>2</th>\n      <td>2</td>\n      <td>Nao</td>\n      <td>26.58</td>\n      <td>Sim</td>\n      <td>Nao</td>\n      <td>Nao</td>\n      <td>20</td>\n      <td>30</td>\n      <td>Nao</td>\n      <td>Masculino</td>\n      <td>65-69</td>\n      <td>Branca</td>\n      <td>Sim</td>\n      <td>Sim</td>\n      <td>Razoavel</td>\n      <td>8</td>\n      <td>Sim</td>\n      <td>Nao</td>\n      <td>Nao</td>\n    </tr>\n    <tr>\n      <th>3</th>\n      <td>3</td>\n      <td>Nao</td>\n      <td>24.21</td>\n      <td>Nao</td>\n      <td>Nao</td>\n      <td>Nao</td>\n      <td>0</td>\n      <td>0</td>\n      <td>Nao</td>\n      <td>Feminino</td>\n      <td>75-79</td>\n      <td>Branca</td>\n      <td>Nao</td>\n      <td>No</td>\n      <td>Boa</td>\n      <td>6</td>\n      <td>Nao</td>\n      <td>Nao</td>\n      <td>Sim</td>\n    </tr>\n    <tr>\n      <th>4</th>\n      <td>4</td>\n      <td>Nao</td>\n      <td>23.71</td>\n      <td>Nao</td>\n      <td>Nao</td>\n      <td>Nao</td>\n      <td>28</td>\n      <td>0</td>\n      <td>Sim</td>\n      <td>Feminino</td>\n      <td>40-44</td>\n      <td>Branca</td>\n      <td>Nao</td>\n      <td>Sim</td>\n      <td>Muito boa</td>\n      <td>8</td>\n      <td>Nao</td>\n      <td>Nao</td>\n      <td>Nao</td>\n    </tr>\n    <tr>\n      <th>...</th>\n      <td>...</td>\n      <td>...</td>\n      <td>...</td>\n      <td>...</td>\n      <td>...</td>\n      <td>...</td>\n      <td>...</td>\n      <td>...</td>\n      <td>...</td>\n      <td>...</td>\n      <td>...</td>\n      <td>...</td>\n      <td>...</td>\n      <td>...</td>\n      <td>...</td>\n      <td>...</td>\n      <td>...</td>\n      <td>...</td>\n      <td>...</td>\n    </tr>\n    <tr>\n      <th>995</th>\n      <td>995</td>\n      <td>Nao</td>\n      <td>28.29</td>\n      <td>Sim</td>\n      <td>Nao</td>\n      <td>Nao</td>\n      <td>10</td>\n      <td>20</td>\n      <td>Nao</td>\n      <td>Feminino</td>\n      <td>65-69</td>\n      <td>Preta</td>\n      <td>Sim</td>\n      <td>Sim</td>\n      <td>Razoavel</td>\n      <td>8</td>\n      <td>Nao</td>\n      <td>Nao</td>\n      <td>Nao</td>\n    </tr>\n    <tr>\n      <th>996</th>\n      <td>996</td>\n      <td>Nao</td>\n      <td>25.69</td>\n      <td>Sim</td>\n      <td>Nao</td>\n      <td>Nao</td>\n      <td>0</td>\n      <td>0</td>\n      <td>Nao</td>\n      <td>Feminino</td>\n      <td>75-79</td>\n      <td>Branca</td>\n      <td>Nao</td>\n      <td>Sim</td>\n      <td>Excelente</td>\n      <td>8</td>\n      <td>Nao</td>\n      <td>Nao</td>\n      <td>Nao</td>\n    </tr>\n    <tr>\n      <th>997</th>\n      <td>997</td>\n      <td>Sim</td>\n      <td>26.99</td>\n      <td>Nao</td>\n      <td>Nao</td>\n      <td>Nao</td>\n      <td>1</td>\n      <td>0</td>\n      <td>Nao</td>\n      <td>Masculino</td>\n      <td>70-74</td>\n      <td>Branca</td>\n      <td>Nao</td>\n      <td>Sim</td>\n      <td>Muito boa</td>\n      <td>8</td>\n      <td>Nao</td>\n      <td>Nao</td>\n      <td>Nao</td>\n    </tr>\n    <tr>\n      <th>998</th>\n      <td>998</td>\n      <td>Nao</td>\n      <td>44.29</td>\n      <td>Nao</td>\n      <td>Nao</td>\n      <td>Nao</td>\n      <td>30</td>\n      <td>0</td>\n      <td>Sim</td>\n      <td>Feminino</td>\n      <td>70-74</td>\n      <td>Branca</td>\n      <td>Sim</td>\n      <td>No</td>\n      <td>Boa</td>\n      <td>6</td>\n      <td>Sim</td>\n      <td>Nao</td>\n      <td>Nao</td>\n    </tr>\n    <tr>\n      <th>999</th>\n      <td>999</td>\n      <td>Nao</td>\n      <td>25.83</td>\n      <td>Nao</td>\n      <td>Nao</td>\n      <td>Nao</td>\n      <td>0</td>\n      <td>0</td>\n      <td>Nao</td>\n      <td>Masculino</td>\n      <td>70-74</td>\n      <td>Preta</td>\n      <td>Sim</td>\n      <td>No</td>\n      <td>Excelente</td>\n      <td>7</td>\n      <td>Nao</td>\n      <td>Nao</td>\n      <td>Nao</td>\n    </tr>\n  </tbody>\n</table>\n<p>1000 rows × 19 columns</p>\n</div>"
     },
     "execution_count": 2,
     "metadata": {},
     "output_type": "execute_result"
    }
   ],
   "source": [
    "dados_pacientes = pd.read_json('data/pacientes.json')\n",
    "dados_pacientes"
   ],
   "metadata": {
    "collapsed": false,
    "ExecuteTime": {
     "end_time": "2023-12-23T17:06:54.688581300Z",
     "start_time": "2023-12-23T17:06:54.624129300Z"
    }
   },
   "id": "263880f039fde69a"
  },
  {
   "cell_type": "markdown",
   "source": [
    "O data frame é composto por mil linhas e 19 colunas com informações de pacientes. Alguns dados disponíveis são:\n",
    "\n",
    "ID de paciente;\n",
    "Se a pessoa tem alguma doença cardíaca;\n",
    "O seu IMC;\n",
    "Se é fumante;\n",
    "Se consome álcool;\n",
    "Faixa etária;\n",
    "Raça/etnia.\n",
    "Além destas, existe uma série de outras informações sobre a saúde física e mental de cada paciente."
   ],
   "metadata": {
    "collapsed": false
   },
   "id": "87845d622221d819"
  },
  {
   "cell_type": "code",
   "execution_count": 3,
   "outputs": [
    {
     "data": {
      "text/plain": "                                    Pesquisa   Ano  \\\n0  Principais Indicadores de Doenca Cardiaca  2020   \n1  Principais Indicadores de Doenca Cardiaca  2020   \n2  Principais Indicadores de Doenca Cardiaca  2020   \n\n                                           Pacientes  \n0  {'ID': '01', 'Faixa_etaria': '55-59', 'Sexo_bi...  \n1  {'ID': '02', 'Faixa_etaria': '80 ou +', 'Sexo_...  \n2  {'ID': '03', 'Faixa_etaria': '65-69', 'Sexo_bi...  ",
      "text/html": "<div>\n<style scoped>\n    .dataframe tbody tr th:only-of-type {\n        vertical-align: middle;\n    }\n\n    .dataframe tbody tr th {\n        vertical-align: top;\n    }\n\n    .dataframe thead th {\n        text-align: right;\n    }\n</style>\n<table border=\"1\" class=\"dataframe\">\n  <thead>\n    <tr style=\"text-align: right;\">\n      <th></th>\n      <th>Pesquisa</th>\n      <th>Ano</th>\n      <th>Pacientes</th>\n    </tr>\n  </thead>\n  <tbody>\n    <tr>\n      <th>0</th>\n      <td>Principais Indicadores de Doenca Cardiaca</td>\n      <td>2020</td>\n      <td>{'ID': '01', 'Faixa_etaria': '55-59', 'Sexo_bi...</td>\n    </tr>\n    <tr>\n      <th>1</th>\n      <td>Principais Indicadores de Doenca Cardiaca</td>\n      <td>2020</td>\n      <td>{'ID': '02', 'Faixa_etaria': '80 ou +', 'Sexo_...</td>\n    </tr>\n    <tr>\n      <th>2</th>\n      <td>Principais Indicadores de Doenca Cardiaca</td>\n      <td>2020</td>\n      <td>{'ID': '03', 'Faixa_etaria': '65-69', 'Sexo_bi...</td>\n    </tr>\n  </tbody>\n</table>\n</div>"
     },
     "execution_count": 3,
     "metadata": {},
     "output_type": "execute_result"
    }
   ],
   "source": [
    "dados_pacientes_2 = pd.read_json('data/pacientes_2.json')\n",
    "dados_pacientes_2 "
   ],
   "metadata": {
    "collapsed": false,
    "ExecuteTime": {
     "end_time": "2023-12-23T17:07:48.376814600Z",
     "start_time": "2023-12-23T17:07:48.358741800Z"
    }
   },
   "id": "f4dbe23402aa42cc"
  },
  {
   "cell_type": "markdown",
   "source": [
    "O resultado é uma tabela com três colunas. A primeira coluna, intitulada \"Pesquisa\", tem as mesmas informações em todas as linhas, ou seja, o texto \"Principais Indicadores de Doença Cardíaca\". A segunda coluna exibe o ano em que a pesquisa foi feita e a última coluna, chamada \"Pacientes\", agrupou todas as informações de cada paciente em uma única célula.\n",
    "Com isso, não conseguimos obter a separação de cada dado, tampouco ler todas as informações disponíveis, uma vez que o conteúdo da célula está cortado (conseguimos ver o ID e a faixa etária).\n",
    "\n",
    "Este é um caso típico de informações aninhadas. Não há separação das colunas e das linhas de maneira a facilitar a leitura e a manipulação dos dados. Será que existe alguma forma de normalizar essas informações com a Biblioteca Pandas?\n",
    "\n",
    "Anteriormente, tentamos fazer a leitura de um arquivo JSON com informações aninhadas na coluna \"Paciente\". Antes de normalizar os dados desta coluna, vamos entender a estrutura do arquivo JSON.\n",
    "\n",
    "Para isso, abriremos o editor de textos em JSON jsoncrack.com  no navegador. Selecionaremos a opção \"Go to editor\", no centro da tela.\n",
    "\n",
    "Seremos redirecionados a uma nova janela com o editor de texto JSON. Na lateral esquerda, selecionaremos a primeira opção, representada por um ícone de folha de papel com a ponta dobrada (\"Import File\"). Uma nova aba surgirá na tela e clicaremos na opção \"Click Here to Upload JSON\".\n",
    "\n",
    "Em seguida, escolheremos o arquivo \"pacientes_2\", clicaremos em \"Abrir\" e depois em \"Import\". O arquivo JSON carregará no editor. Do lado direito, visualizaremos a estrutura do arquivo em código. Porém, o lado direito exibe uma estrutura em forma de fluxograma.\n",
    "\n",
    "Se ampliarmos a estrutura, perceberemos há um primeiro quadrado indicando que se trata de uma pesquisa chamada \"Principais Indicadores de Doença Cardíaca\" feita no ano de 2020.\n",
    "\n",
    "Neste ano, a pesquisa dispunha de informações de três pacientes (próximo item no fluxograma). Esse item se conecta a três caixas de texto, com as informações de cada paciente. Se ampliarmos uma das caixas, observaremos as seguintes informações dispostas em sequência:\n",
    "\n",
    "ID;\n",
    "Faixa etária;\n",
    "Sexo biológico;\n",
    "Raça;\n",
    "IMC;\n",
    "Se é fumante ou não;\n",
    "Se consome álcool;\n",
    "Indicador de saúde física;\n",
    "Indicador de saúde mental;\n",
    "Se ela tem dificuldade para caminhar;\n",
    "Se pratica atividade física;\n",
    "Seu estado de saúde geral;\n",
    "Média de horas de sono por dia.\n",
    "Para cada pessoa, há uma lista com os problemas de saúde. Por exemplo, a pessoa com o ID \"01\" tem diabetes, asma e câncer de pele.\n",
    "\n",
    "Isso nos mostra a estrutura completa do arquivo. Sabendo disso, queremos obter as informações das pessoas, ou seja, de cada paciente.\n",
    "\n",
    "Para normalizar esses dados, voltaremos ao Google Colab e criaremos uma variável chamada df_normalizado. Ela será igual pd., seguida de uma função que normaliza os dados em formato JSON (json_normalize()). Dentro dos parênteses da função, passaremos o data frame que desejamos normalizar (dados_pacientes_2).\n",
    "\n",
    "Em seguida, abriremos colchetes ([]) e, dentro deles, abriremos aspas simples, para indicar qual coluna deve ser normalizada, Pacientes.\n"
   ],
   "metadata": {
    "collapsed": false
   },
   "id": "25c2d1b94044c78"
  },
  {
   "cell_type": "code",
   "execution_count": 5,
   "outputs": [
    {
     "data": {
      "text/plain": "   ID Faixa_etaria Sexo_biologico    Raça    IMC Fumante Consumo_alcool  \\\n0  01        55-59       Feminino  Branca  16.60     Sim            Nao   \n1  02      80 ou +       Feminino  Branca  20.34     Nao            Nao   \n2  03        65-69      Masculino  Branca  26.58     Sim            Nao   \n\n   Saude_fisica  Saude_mental Dificuldade_caminhar Atividade_fisica  \\\n0             3            30                  Nao              Sim   \n1             0             0                  Nao              Sim   \n2            20            30                  Nao              Sim   \n\n  Saude_geral  Horas_sono                Problemas_saude  \n0   Muito boa           5  [Diabetes, Asma, Cancer_pele]  \n1   Muito boa           7                          [AVC]  \n2   Muito boa           8               [diabetes, Asma]  ",
      "text/html": "<div>\n<style scoped>\n    .dataframe tbody tr th:only-of-type {\n        vertical-align: middle;\n    }\n\n    .dataframe tbody tr th {\n        vertical-align: top;\n    }\n\n    .dataframe thead th {\n        text-align: right;\n    }\n</style>\n<table border=\"1\" class=\"dataframe\">\n  <thead>\n    <tr style=\"text-align: right;\">\n      <th></th>\n      <th>ID</th>\n      <th>Faixa_etaria</th>\n      <th>Sexo_biologico</th>\n      <th>Raça</th>\n      <th>IMC</th>\n      <th>Fumante</th>\n      <th>Consumo_alcool</th>\n      <th>Saude_fisica</th>\n      <th>Saude_mental</th>\n      <th>Dificuldade_caminhar</th>\n      <th>Atividade_fisica</th>\n      <th>Saude_geral</th>\n      <th>Horas_sono</th>\n      <th>Problemas_saude</th>\n    </tr>\n  </thead>\n  <tbody>\n    <tr>\n      <th>0</th>\n      <td>01</td>\n      <td>55-59</td>\n      <td>Feminino</td>\n      <td>Branca</td>\n      <td>16.60</td>\n      <td>Sim</td>\n      <td>Nao</td>\n      <td>3</td>\n      <td>30</td>\n      <td>Nao</td>\n      <td>Sim</td>\n      <td>Muito boa</td>\n      <td>5</td>\n      <td>[Diabetes, Asma, Cancer_pele]</td>\n    </tr>\n    <tr>\n      <th>1</th>\n      <td>02</td>\n      <td>80 ou +</td>\n      <td>Feminino</td>\n      <td>Branca</td>\n      <td>20.34</td>\n      <td>Nao</td>\n      <td>Nao</td>\n      <td>0</td>\n      <td>0</td>\n      <td>Nao</td>\n      <td>Sim</td>\n      <td>Muito boa</td>\n      <td>7</td>\n      <td>[AVC]</td>\n    </tr>\n    <tr>\n      <th>2</th>\n      <td>03</td>\n      <td>65-69</td>\n      <td>Masculino</td>\n      <td>Branca</td>\n      <td>26.58</td>\n      <td>Sim</td>\n      <td>Nao</td>\n      <td>20</td>\n      <td>30</td>\n      <td>Nao</td>\n      <td>Sim</td>\n      <td>Muito boa</td>\n      <td>8</td>\n      <td>[diabetes, Asma]</td>\n    </tr>\n  </tbody>\n</table>\n</div>"
     },
     "execution_count": 5,
     "metadata": {},
     "output_type": "execute_result"
    }
   ],
   "source": [
    "df_normalizado = pd.json_normalize(dados_pacientes_2['Pacientes'])\n",
    "df_normalizado"
   ],
   "metadata": {
    "collapsed": false,
    "ExecuteTime": {
     "end_time": "2023-12-23T17:13:27.215068700Z",
     "start_time": "2023-12-23T17:13:27.186881200Z"
    }
   },
   "id": "4d0a4aeabcbfb3e0"
  },
  {
   "cell_type": "markdown",
   "source": [
    "Normalização de dados é um processo importante em ciência de dados que tem como objetivo organizar e padronizar dados para facilitar a análise e comparação entre eles. Quando se trata de dados no formato JSON (JavaScript Object Notation - Notação de Objetos JavaScript), é comum que eles estejam aninhados, o que pode dificultar sua análise e manipulação.\n",
    "\n",
    "A biblioteca Pandas possui uma função chamada json_normalize() que permite a transformação dos dados em um formato tabular, facilitando a visualização e análise das informações. A seguir vamos aprender como usar essa função para normalizar diferentes tipos de JSON em DataFrames."
   ],
   "metadata": {
    "collapsed": false
   },
   "id": "c97f4fdd21a78a4e"
  },
  {
   "cell_type": "code",
   "execution_count": 7,
   "outputs": [
    {
     "data": {
      "text/plain": "{'Pesquisa': 'Principais Indicadores de Doenca Cardiaca',\n 'Ano': 2020,\n 'Pacientes': [{'ID': '01',\n   'Faixa_etaria': '55-59',\n   'Sexo_biologico': 'Feminino',\n   'RaÃ§a': 'Branca',\n   'IMC': 16.6,\n   'Fumante': 'Sim',\n   'Consumo_alcool': 'Nao',\n   'Saude_fisica': 3,\n   'Saude_mental': 30,\n   'Dificuldade_caminhar': 'Nao',\n   'Atividade_fisica': 'Sim',\n   'Saude_geral': 'Muito boa',\n   'Horas_sono': 5,\n   'Problemas_saude': ['Diabetes', 'Asma', 'Cancer_pele']},\n  {'ID': '02',\n   'Faixa_etaria': '80 ou +',\n   'Sexo_biologico': 'Feminino',\n   'RaÃ§a': 'Branca',\n   'IMC': 20.34,\n   'Fumante': 'Nao',\n   'Consumo_alcool': 'Nao',\n   'Saude_fisica': 0,\n   'Saude_mental': 0,\n   'Dificuldade_caminhar': 'Nao',\n   'Atividade_fisica': 'Sim',\n   'Saude_geral': 'Muito boa',\n   'Horas_sono': 7,\n   'Problemas_saude': ['AVC']},\n  {'ID': '03',\n   'Faixa_etaria': '65-69',\n   'Sexo_biologico': 'Masculino',\n   'RaÃ§a': 'Branca',\n   'IMC': 26.58,\n   'Fumante': 'Sim',\n   'Consumo_alcool': 'Nao',\n   'Saude_fisica': 20,\n   'Saude_mental': 30,\n   'Dificuldade_caminhar': 'Nao',\n   'Atividade_fisica': 'Sim',\n   'Saude_geral': 'Muito boa',\n   'Horas_sono': 8,\n   'Problemas_saude': ['diabetes', 'Asma']}]}"
     },
     "execution_count": 7,
     "metadata": {},
     "output_type": "execute_result"
    }
   ],
   "source": [
    "#Importando a biblioteca Pandas\n",
    "import pandas as pd\n",
    "\n",
    "#Importando o módulo JSON\n",
    "import json\n",
    "\n",
    "#Lendo o arquivo json usando o módulo Python JSON\n",
    "with open('data/pacientes_2.json','r') as f:\n",
    "    dados = json.loads(f.read())\n",
    "\n",
    "#Normalizando os dados com os parâmetros record_path e meta\n",
    "pd.json_normalize(dados, record_path='Pacientes', meta=['Pesquisa', 'Ano'])\n",
    "dados"
   ],
   "metadata": {
    "collapsed": false,
    "ExecuteTime": {
     "end_time": "2023-12-23T17:16:35.734814800Z",
     "start_time": "2023-12-23T17:16:35.719854900Z"
    }
   },
   "id": "95bc6359a4ca2255"
  },
  {
   "cell_type": "code",
   "execution_count": 9,
   "outputs": [],
   "source": [
    "df_normalizado.to_json('data/historico_pacientes_normalizado.json')"
   ],
   "metadata": {
    "collapsed": false,
    "ExecuteTime": {
     "end_time": "2023-12-23T17:18:06.496205900Z",
     "start_time": "2023-12-23T17:18:06.474177100Z"
    }
   },
   "id": "5bbaa180020a2e9b"
  },
  {
   "cell_type": "markdown",
   "source": [
    "Executaremos esta célula e, se abrirmos novamente o ícone de pasta do lado esquerdo (pasta \"Arquivos\"), observaremos o arquivo \"historico_pacientes_normalizado\" em meio à lista de arquivos abertos. Clicando no ícone de três pontos, é possível fazer download, renomear o arquivo, exclui-lo, copiar o caminho ou atualizá-lo.\n",
    "\n",
    "Clicaremos em \"Copiar caminho\" e fecharemos a aba esquerda. Para fazer a leitura do arquivo que acabamos de salvar, escreveremos pd.read_json('/content/historico_pacientes_normalizado.json'). Ao executar esta célula, obteremos o data frame normalizado.\n",
    "\n",
    "Aqui vai uma dica importante: salvamos o arquivo em formato JSON, mas você também pode salvar o seu arquivo em formato CSV ou EXCEL, podendo usá-los para facilitar análises futuras. Assim, você não precisará 'salvar ou converter o mesmo arquivo várias vezes."
   ],
   "metadata": {
    "collapsed": false
   },
   "id": "c5b1d5bf1283c138"
  },
  {
   "cell_type": "markdown",
   "source": [
    "Para obter dados no formato JSON podemos utilizar uma API (Application Programming Interface). Ela é uma interface de programação de aplicação que permite a comunicação entre diferentes programas ou sistemas."
   ],
   "metadata": {
    "collapsed": false
   },
   "id": "f0e436f93b363946"
  },
  {
   "cell_type": "markdown",
   "source": [
    "Existem vários formatos que podem ser usados em APIs e um dos mais comuns é o JSON (JavaScript Object Notation). O JSON é um formato leve de troca de informações entre sistemas que utiliza uma notação baseada em objetos do JavaScript.\n",
    "\n",
    "Nós temos a seguinte situação-problema:\n",
    "\n",
    "“Uma empresa de alimentos saudáveis está enfrentando um problema com a popularidade de seus produtos. Apesar de oferecer opções saudáveis, muitos(as) clientes estão relutantes em comprar os produtos devido à falta de informação sobre os valores nutricionais das frutas que são utilizadas na produção dos alimentos”.\n",
    "\n",
    "Nesta situação podemos acessar uma API chamada Fruitvice para coletar informações detalhadas sobre os valores nutricionais das frutas que são usadas nos produtos. Com essas informações, a empresa pode atualizar suas embalagens e materiais de marketing para destacar os valores nutricionais das frutas e, assim, atrair mais clientes que buscam opções saudáveis. Além disso, a empresa pode utilizar as informações para desenvolver novos produtos que atendam ainda mais às necessidades nutricionais de sua clientela.\n",
    "\n",
    "Uma maneira comum de acessar APIs é por meio da biblioteca requests. Para isso, também é necessário importar o módulo json:"
   ],
   "metadata": {
    "collapsed": false
   },
   "id": "ad1bcfdab0c57a1f"
  },
  {
   "cell_type": "code",
   "execution_count": null,
   "outputs": [],
   "source": [],
   "metadata": {
    "collapsed": false
   },
   "id": "2e9f6394963bcc45"
  }
 ],
 "metadata": {
  "kernelspec": {
   "display_name": "Python 3",
   "language": "python",
   "name": "python3"
  },
  "language_info": {
   "codemirror_mode": {
    "name": "ipython",
    "version": 2
   },
   "file_extension": ".py",
   "mimetype": "text/x-python",
   "name": "python",
   "nbconvert_exporter": "python",
   "pygments_lexer": "ipython2",
   "version": "2.7.6"
  }
 },
 "nbformat": 4,
 "nbformat_minor": 5
}
