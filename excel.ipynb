{
 "cells": [
  {
   "cell_type": "code",
   "execution_count": 1,
   "id": "initial_id",
   "metadata": {
    "collapsed": true,
    "ExecuteTime": {
     "end_time": "2023-12-23T16:44:21.474472100Z",
     "start_time": "2023-12-23T16:44:20.664033300Z"
    }
   },
   "outputs": [],
   "source": [
    "import pandas as pd"
   ]
  },
  {
   "cell_type": "code",
   "execution_count": 2,
   "outputs": [],
   "source": [
    "url = 'data/emissoes_CO2.xlsx'"
   ],
   "metadata": {
    "collapsed": false,
    "ExecuteTime": {
     "end_time": "2023-12-23T16:45:14.076368900Z",
     "start_time": "2023-12-23T16:45:14.065854900Z"
    }
   },
   "id": "f084fdc6166896e1"
  },
  {
   "cell_type": "code",
   "execution_count": 3,
   "outputs": [],
   "source": [
    "co2 = pd.read_excel(url)"
   ],
   "metadata": {
    "collapsed": false,
    "ExecuteTime": {
     "end_time": "2023-12-23T16:46:53.158234500Z",
     "start_time": "2023-12-23T16:46:23.132204800Z"
    }
   },
   "id": "3c6d8677e049c934"
  },
  {
   "cell_type": "code",
   "execution_count": 4,
   "outputs": [
    {
     "data": {
      "text/plain": "              País ISO 3166-1 alpha-3   Ano         Total        Carvão  \\\n0      Afeganistão                AFG  1750  0.000000e+00           NaN   \n1      Afeganistão                AFG  1751  0.000000e+00           NaN   \n2      Afeganistão                AFG  1752  0.000000e+00           NaN   \n3      Afeganistão                AFG  1753  0.000000e+00           NaN   \n4      Afeganistão                AFG  1754  0.000000e+00           NaN   \n...            ...                ...   ...           ...           ...   \n63099       Global                WLD  2017  3.609674e+10  1.450697e+10   \n63100       Global                WLD  2018  3.682651e+10  1.474683e+10   \n63101       Global                WLD  2019  3.708256e+10  1.472598e+10   \n63102       Global                WLD  2020  3.526409e+10  1.417456e+10   \n63103       Global                WLD  2021  3.712385e+10  1.497960e+10   \n\n               Oléo           Gás       Cimento       Queima        Outro  \\\n0               NaN           NaN           NaN          NaN          NaN   \n1               NaN           NaN           NaN          NaN          NaN   \n2               NaN           NaN           NaN          NaN          NaN   \n3               NaN           NaN           NaN          NaN          NaN   \n4               NaN           NaN           NaN          NaN          NaN   \n...             ...           ...           ...          ...          ...   \n63099  1.224263e+10  7.144928e+09  1.507923e+09  391992176.0  302294047.0   \n63100  1.226602e+10  7.529847e+09  1.569218e+09  412115746.0  302478706.0   \n63101  1.234565e+10  7.647528e+09  1.617507e+09  439253991.0  306638573.0   \n63102  1.119181e+10  7.556290e+09  1.637538e+09  407583673.0  296301685.0   \n63103  1.183716e+10  7.921829e+09  1.672592e+09  416525563.0  296145746.0   \n\n       Per Capita  \n0             NaN  \n1             NaN  \n2             NaN  \n3             NaN  \n4             NaN  \n...           ...  \n63099   4749682.0  \n63100   4792753.0  \n63101   4775633.0  \n63102   4497423.0  \n63103   4693699.0  \n\n[63104 rows x 11 columns]",
      "text/html": "<div>\n<style scoped>\n    .dataframe tbody tr th:only-of-type {\n        vertical-align: middle;\n    }\n\n    .dataframe tbody tr th {\n        vertical-align: top;\n    }\n\n    .dataframe thead th {\n        text-align: right;\n    }\n</style>\n<table border=\"1\" class=\"dataframe\">\n  <thead>\n    <tr style=\"text-align: right;\">\n      <th></th>\n      <th>País</th>\n      <th>ISO 3166-1 alpha-3</th>\n      <th>Ano</th>\n      <th>Total</th>\n      <th>Carvão</th>\n      <th>Oléo</th>\n      <th>Gás</th>\n      <th>Cimento</th>\n      <th>Queima</th>\n      <th>Outro</th>\n      <th>Per Capita</th>\n    </tr>\n  </thead>\n  <tbody>\n    <tr>\n      <th>0</th>\n      <td>Afeganistão</td>\n      <td>AFG</td>\n      <td>1750</td>\n      <td>0.000000e+00</td>\n      <td>NaN</td>\n      <td>NaN</td>\n      <td>NaN</td>\n      <td>NaN</td>\n      <td>NaN</td>\n      <td>NaN</td>\n      <td>NaN</td>\n    </tr>\n    <tr>\n      <th>1</th>\n      <td>Afeganistão</td>\n      <td>AFG</td>\n      <td>1751</td>\n      <td>0.000000e+00</td>\n      <td>NaN</td>\n      <td>NaN</td>\n      <td>NaN</td>\n      <td>NaN</td>\n      <td>NaN</td>\n      <td>NaN</td>\n      <td>NaN</td>\n    </tr>\n    <tr>\n      <th>2</th>\n      <td>Afeganistão</td>\n      <td>AFG</td>\n      <td>1752</td>\n      <td>0.000000e+00</td>\n      <td>NaN</td>\n      <td>NaN</td>\n      <td>NaN</td>\n      <td>NaN</td>\n      <td>NaN</td>\n      <td>NaN</td>\n      <td>NaN</td>\n    </tr>\n    <tr>\n      <th>3</th>\n      <td>Afeganistão</td>\n      <td>AFG</td>\n      <td>1753</td>\n      <td>0.000000e+00</td>\n      <td>NaN</td>\n      <td>NaN</td>\n      <td>NaN</td>\n      <td>NaN</td>\n      <td>NaN</td>\n      <td>NaN</td>\n      <td>NaN</td>\n    </tr>\n    <tr>\n      <th>4</th>\n      <td>Afeganistão</td>\n      <td>AFG</td>\n      <td>1754</td>\n      <td>0.000000e+00</td>\n      <td>NaN</td>\n      <td>NaN</td>\n      <td>NaN</td>\n      <td>NaN</td>\n      <td>NaN</td>\n      <td>NaN</td>\n      <td>NaN</td>\n    </tr>\n    <tr>\n      <th>...</th>\n      <td>...</td>\n      <td>...</td>\n      <td>...</td>\n      <td>...</td>\n      <td>...</td>\n      <td>...</td>\n      <td>...</td>\n      <td>...</td>\n      <td>...</td>\n      <td>...</td>\n      <td>...</td>\n    </tr>\n    <tr>\n      <th>63099</th>\n      <td>Global</td>\n      <td>WLD</td>\n      <td>2017</td>\n      <td>3.609674e+10</td>\n      <td>1.450697e+10</td>\n      <td>1.224263e+10</td>\n      <td>7.144928e+09</td>\n      <td>1.507923e+09</td>\n      <td>391992176.0</td>\n      <td>302294047.0</td>\n      <td>4749682.0</td>\n    </tr>\n    <tr>\n      <th>63100</th>\n      <td>Global</td>\n      <td>WLD</td>\n      <td>2018</td>\n      <td>3.682651e+10</td>\n      <td>1.474683e+10</td>\n      <td>1.226602e+10</td>\n      <td>7.529847e+09</td>\n      <td>1.569218e+09</td>\n      <td>412115746.0</td>\n      <td>302478706.0</td>\n      <td>4792753.0</td>\n    </tr>\n    <tr>\n      <th>63101</th>\n      <td>Global</td>\n      <td>WLD</td>\n      <td>2019</td>\n      <td>3.708256e+10</td>\n      <td>1.472598e+10</td>\n      <td>1.234565e+10</td>\n      <td>7.647528e+09</td>\n      <td>1.617507e+09</td>\n      <td>439253991.0</td>\n      <td>306638573.0</td>\n      <td>4775633.0</td>\n    </tr>\n    <tr>\n      <th>63102</th>\n      <td>Global</td>\n      <td>WLD</td>\n      <td>2020</td>\n      <td>3.526409e+10</td>\n      <td>1.417456e+10</td>\n      <td>1.119181e+10</td>\n      <td>7.556290e+09</td>\n      <td>1.637538e+09</td>\n      <td>407583673.0</td>\n      <td>296301685.0</td>\n      <td>4497423.0</td>\n    </tr>\n    <tr>\n      <th>63103</th>\n      <td>Global</td>\n      <td>WLD</td>\n      <td>2021</td>\n      <td>3.712385e+10</td>\n      <td>1.497960e+10</td>\n      <td>1.183716e+10</td>\n      <td>7.921829e+09</td>\n      <td>1.672592e+09</td>\n      <td>416525563.0</td>\n      <td>296145746.0</td>\n      <td>4693699.0</td>\n    </tr>\n  </tbody>\n</table>\n<p>63104 rows × 11 columns</p>\n</div>"
     },
     "execution_count": 4,
     "metadata": {},
     "output_type": "execute_result"
    }
   ],
   "source": [
    "co2"
   ],
   "metadata": {
    "collapsed": false,
    "ExecuteTime": {
     "end_time": "2023-12-23T16:46:53.208093400Z",
     "start_time": "2023-12-23T16:46:53.160726900Z"
    }
   },
   "id": "d138eb69e90d261e"
  },
  {
   "cell_type": "markdown",
   "source": [
    "Para descobrir se há mais páginas, usaremos uma classe da biblioteca Pandas chamada ExcelFile(). Entre os parênteses, passaremos a URL. Depois, empregamos o atributo sheet_names (nome das páginas):"
   ],
   "metadata": {
    "collapsed": false
   },
   "id": "ed01cec17d48ca67"
  },
  {
   "cell_type": "code",
   "execution_count": 5,
   "outputs": [
    {
     "data": {
      "text/plain": "['emissoes_C02', 'emissoes_percapita', 'fontes']"
     },
     "execution_count": 5,
     "metadata": {},
     "output_type": "execute_result"
    }
   ],
   "source": [
    "pd.ExcelFile(url).sheet_names"
   ],
   "metadata": {
    "collapsed": false,
    "ExecuteTime": {
     "end_time": "2023-12-23T16:48:04.376501400Z",
     "start_time": "2023-12-23T16:47:47.250203700Z"
    }
   },
   "id": "381805ccf77e8d1a"
  },
  {
   "cell_type": "markdown",
   "source": [
    "A seguir, estudaremos o parâmetro sheet_name, com o qual podemos especificar a página da planilha queremos mostrar. Descendo um pouco a página, encontramos uma explicação mais detalhada sobre esse parâmetro.\n",
    "\n",
    "Por padrão, esse parâmetro é igual a zero. Ou seja, quando não alteramos esse valor, a primeira página será mostrada. Já se definirmos sheet_name=1, consultaremos a segunda página. Alternativamente, podemos escrever o nome da página, por exemplo, sheet_name=\"Pagina2\"."
   ],
   "metadata": {
    "collapsed": false
   },
   "id": "1e59af95ea3041f7"
  },
  {
   "cell_type": "code",
   "execution_count": 6,
   "outputs": [],
   "source": [
    "percapita = pd.read_excel(url, sheet_name='emissoes_percapita')"
   ],
   "metadata": {
    "collapsed": false,
    "ExecuteTime": {
     "end_time": "2023-12-23T16:50:47.827779900Z",
     "start_time": "2023-12-23T16:50:18.536733200Z"
    }
   },
   "id": "534eec839fcd132d"
  },
  {
   "cell_type": "code",
   "execution_count": 7,
   "outputs": [
    {
     "data": {
      "text/plain": "              País ISO 3166-1 alpha-3   Ano      Total     Carvão       Óleo  \\\n0      Afeganistão                AFG  1750        NaN        NaN        NaN   \n1      Afeganistão                AFG  1751        NaN        NaN        NaN   \n2      Afeganistão                AFG  1752        NaN        NaN        NaN   \n3      Afeganistão                AFG  1753        NaN        NaN        NaN   \n4      Afeganistão                AFG  1754        NaN        NaN        NaN   \n...            ...                ...   ...        ...        ...        ...   \n63099       Global                WLD  2017  4749682.0  1908857.0  1610910.0   \n63100       Global                WLD  2018  4792753.0  1919213.0  1596350.0   \n63101       Global                WLD  2019  4775633.0  1896468.0  1589920.0   \n63102       Global                WLD  2020  4497423.0  1807760.0  1427353.0   \n63103       Global                WLD  2021  4693699.0  1893923.0  1496614.0   \n\n             Gás   Cimento   Queima    Outro  \n0            NaN       NaN      NaN      NaN  \n1            NaN       NaN      NaN      NaN  \n2            NaN       NaN      NaN      NaN  \n3            NaN       NaN      NaN      NaN  \n4            NaN       NaN      NaN      NaN  \n...          ...       ...      ...      ...  \n63099   940144.0  198416.0  51579.0  39776.0  \n63100   979965.0  204225.0  53634.0  39366.0  \n63101   984878.0  208309.0  56569.0  39490.0  \n63102   963695.0  208844.0  51981.0  37789.0  \n63103  1001585.0  211472.0  52663.0  37443.0  \n\n[63104 rows x 10 columns]",
      "text/html": "<div>\n<style scoped>\n    .dataframe tbody tr th:only-of-type {\n        vertical-align: middle;\n    }\n\n    .dataframe tbody tr th {\n        vertical-align: top;\n    }\n\n    .dataframe thead th {\n        text-align: right;\n    }\n</style>\n<table border=\"1\" class=\"dataframe\">\n  <thead>\n    <tr style=\"text-align: right;\">\n      <th></th>\n      <th>País</th>\n      <th>ISO 3166-1 alpha-3</th>\n      <th>Ano</th>\n      <th>Total</th>\n      <th>Carvão</th>\n      <th>Óleo</th>\n      <th>Gás</th>\n      <th>Cimento</th>\n      <th>Queima</th>\n      <th>Outro</th>\n    </tr>\n  </thead>\n  <tbody>\n    <tr>\n      <th>0</th>\n      <td>Afeganistão</td>\n      <td>AFG</td>\n      <td>1750</td>\n      <td>NaN</td>\n      <td>NaN</td>\n      <td>NaN</td>\n      <td>NaN</td>\n      <td>NaN</td>\n      <td>NaN</td>\n      <td>NaN</td>\n    </tr>\n    <tr>\n      <th>1</th>\n      <td>Afeganistão</td>\n      <td>AFG</td>\n      <td>1751</td>\n      <td>NaN</td>\n      <td>NaN</td>\n      <td>NaN</td>\n      <td>NaN</td>\n      <td>NaN</td>\n      <td>NaN</td>\n      <td>NaN</td>\n    </tr>\n    <tr>\n      <th>2</th>\n      <td>Afeganistão</td>\n      <td>AFG</td>\n      <td>1752</td>\n      <td>NaN</td>\n      <td>NaN</td>\n      <td>NaN</td>\n      <td>NaN</td>\n      <td>NaN</td>\n      <td>NaN</td>\n      <td>NaN</td>\n    </tr>\n    <tr>\n      <th>3</th>\n      <td>Afeganistão</td>\n      <td>AFG</td>\n      <td>1753</td>\n      <td>NaN</td>\n      <td>NaN</td>\n      <td>NaN</td>\n      <td>NaN</td>\n      <td>NaN</td>\n      <td>NaN</td>\n      <td>NaN</td>\n    </tr>\n    <tr>\n      <th>4</th>\n      <td>Afeganistão</td>\n      <td>AFG</td>\n      <td>1754</td>\n      <td>NaN</td>\n      <td>NaN</td>\n      <td>NaN</td>\n      <td>NaN</td>\n      <td>NaN</td>\n      <td>NaN</td>\n      <td>NaN</td>\n    </tr>\n    <tr>\n      <th>...</th>\n      <td>...</td>\n      <td>...</td>\n      <td>...</td>\n      <td>...</td>\n      <td>...</td>\n      <td>...</td>\n      <td>...</td>\n      <td>...</td>\n      <td>...</td>\n      <td>...</td>\n    </tr>\n    <tr>\n      <th>63099</th>\n      <td>Global</td>\n      <td>WLD</td>\n      <td>2017</td>\n      <td>4749682.0</td>\n      <td>1908857.0</td>\n      <td>1610910.0</td>\n      <td>940144.0</td>\n      <td>198416.0</td>\n      <td>51579.0</td>\n      <td>39776.0</td>\n    </tr>\n    <tr>\n      <th>63100</th>\n      <td>Global</td>\n      <td>WLD</td>\n      <td>2018</td>\n      <td>4792753.0</td>\n      <td>1919213.0</td>\n      <td>1596350.0</td>\n      <td>979965.0</td>\n      <td>204225.0</td>\n      <td>53634.0</td>\n      <td>39366.0</td>\n    </tr>\n    <tr>\n      <th>63101</th>\n      <td>Global</td>\n      <td>WLD</td>\n      <td>2019</td>\n      <td>4775633.0</td>\n      <td>1896468.0</td>\n      <td>1589920.0</td>\n      <td>984878.0</td>\n      <td>208309.0</td>\n      <td>56569.0</td>\n      <td>39490.0</td>\n    </tr>\n    <tr>\n      <th>63102</th>\n      <td>Global</td>\n      <td>WLD</td>\n      <td>2020</td>\n      <td>4497423.0</td>\n      <td>1807760.0</td>\n      <td>1427353.0</td>\n      <td>963695.0</td>\n      <td>208844.0</td>\n      <td>51981.0</td>\n      <td>37789.0</td>\n    </tr>\n    <tr>\n      <th>63103</th>\n      <td>Global</td>\n      <td>WLD</td>\n      <td>2021</td>\n      <td>4693699.0</td>\n      <td>1893923.0</td>\n      <td>1496614.0</td>\n      <td>1001585.0</td>\n      <td>211472.0</td>\n      <td>52663.0</td>\n      <td>37443.0</td>\n    </tr>\n  </tbody>\n</table>\n<p>63104 rows × 10 columns</p>\n</div>"
     },
     "execution_count": 7,
     "metadata": {},
     "output_type": "execute_result"
    }
   ],
   "source": [
    "percapita"
   ],
   "metadata": {
    "collapsed": false,
    "ExecuteTime": {
     "end_time": "2023-12-23T16:50:47.866206400Z",
     "start_time": "2023-12-23T16:50:47.832297400Z"
    }
   },
   "id": "912cc0b997c68f30"
  },
  {
   "cell_type": "markdown",
   "source": [
    "Agora, temos um dataframe contendo somente valores per capita para cada um dos países. Conseguimos ler uma página específica da planilha.\n",
    "\n",
    "Vamos repetir o processo para a terceira página, chamada \"fontes\":"
   ],
   "metadata": {
    "collapsed": false
   },
   "id": "3c16734f947a3484"
  },
  {
   "cell_type": "code",
   "execution_count": 8,
   "outputs": [
    {
     "data": {
      "text/plain": "              País ISO 3166-1 alpha-3   Ano  \\\n0      Afeganistão                AFG  1750   \n1      Afeganistão                AFG  1751   \n2      Afeganistão                AFG  1752   \n3      Afeganistão                AFG  1753   \n4      Afeganistão                AFG  1754   \n...            ...                ...   ...   \n63099       Global                WLD  2017   \n63100       Global                WLD  2018   \n63101       Global                WLD  2019   \n63102       Global                WLD  2020   \n63103       Global                WLD  2021   \n\n                                      Total             Carvão  \\\n0                                    [NONE]             [NONE]   \n1                                    [NONE]             [NONE]   \n2                                    [NONE]             [NONE]   \n3                                    [NONE]             [NONE]   \n4                                    [NONE]             [NONE]   \n...                                     ...                ...   \n63099  CDIAC 2022, BP, and Sum of countries  CDIAC 2022 and BP   \n63100  CDIAC 2022, BP, and Sum of countries  CDIAC 2022 and BP   \n63101  CDIAC 2022, BP, and Sum of countries  CDIAC 2022 and BP   \n63102  CDIAC 2022, BP, and Sum of countries  CDIAC 2022 and BP   \n63103  CDIAC 2022, BP, and Sum of countries  CDIAC 2022 and BP   \n\n                    Oléo                Gás        Cimento  \\\n0                 [NONE]             [NONE]         [NONE]   \n1                 [NONE]             [NONE]         [NONE]   \n2                 [NONE]             [NONE]         [NONE]   \n3                 [NONE]             [NONE]         [NONE]   \n4                 [NONE]             [NONE]         [NONE]   \n...                  ...                ...            ...   \n63099  CDIAC 2022 and BP  CDIAC 2022 and BP  Andrew cement   \n63100  CDIAC 2022 and BP  CDIAC 2022 and BP  Andrew cement   \n63101  CDIAC 2022 and BP  CDIAC 2022 and BP  Andrew cement   \n63102  CDIAC 2022 and BP  CDIAC 2022 and BP  Andrew cement   \n63103  CDIAC 2022 and BP  CDIAC 2022 and BP  Andrew cement   \n\n                   Queima   Outro  \\\n0                  [NONE]  [NONE]   \n1                  [NONE]  [NONE]   \n2                  [NONE]  [NONE]   \n3                  [NONE]  [NONE]   \n4                  [NONE]  [NONE]   \n...                   ...     ...   \n63099  CDIAC 2022 and GCP  [NONE]   \n63100  CDIAC 2022 and GCP  [NONE]   \n63101  CDIAC 2022 and GCP  [NONE]   \n63102  CDIAC 2022 and GCP  [NONE]   \n63103  CDIAC 2022 and GCP  [NONE]   \n\n                                              Per Capita  \n0                                                 [NONE]  \n1                                                 [NONE]  \n2                                                 [NONE]  \n3                                                 [NONE]  \n4                                                 [NONE]  \n...                                                  ...  \n63099  CDIAC 2022, BP, Sum of countries, and UN popul...  \n63100  CDIAC 2022, BP, Sum of countries, and UN popul...  \n63101  CDIAC 2022, BP, Sum of countries, and UN popul...  \n63102  CDIAC 2022, BP, Sum of countries, and UN popul...  \n63103  CDIAC 2022, BP, Sum of countries, and UN popul...  \n\n[63104 rows x 11 columns]",
      "text/html": "<div>\n<style scoped>\n    .dataframe tbody tr th:only-of-type {\n        vertical-align: middle;\n    }\n\n    .dataframe tbody tr th {\n        vertical-align: top;\n    }\n\n    .dataframe thead th {\n        text-align: right;\n    }\n</style>\n<table border=\"1\" class=\"dataframe\">\n  <thead>\n    <tr style=\"text-align: right;\">\n      <th></th>\n      <th>País</th>\n      <th>ISO 3166-1 alpha-3</th>\n      <th>Ano</th>\n      <th>Total</th>\n      <th>Carvão</th>\n      <th>Oléo</th>\n      <th>Gás</th>\n      <th>Cimento</th>\n      <th>Queima</th>\n      <th>Outro</th>\n      <th>Per Capita</th>\n    </tr>\n  </thead>\n  <tbody>\n    <tr>\n      <th>0</th>\n      <td>Afeganistão</td>\n      <td>AFG</td>\n      <td>1750</td>\n      <td>[NONE]</td>\n      <td>[NONE]</td>\n      <td>[NONE]</td>\n      <td>[NONE]</td>\n      <td>[NONE]</td>\n      <td>[NONE]</td>\n      <td>[NONE]</td>\n      <td>[NONE]</td>\n    </tr>\n    <tr>\n      <th>1</th>\n      <td>Afeganistão</td>\n      <td>AFG</td>\n      <td>1751</td>\n      <td>[NONE]</td>\n      <td>[NONE]</td>\n      <td>[NONE]</td>\n      <td>[NONE]</td>\n      <td>[NONE]</td>\n      <td>[NONE]</td>\n      <td>[NONE]</td>\n      <td>[NONE]</td>\n    </tr>\n    <tr>\n      <th>2</th>\n      <td>Afeganistão</td>\n      <td>AFG</td>\n      <td>1752</td>\n      <td>[NONE]</td>\n      <td>[NONE]</td>\n      <td>[NONE]</td>\n      <td>[NONE]</td>\n      <td>[NONE]</td>\n      <td>[NONE]</td>\n      <td>[NONE]</td>\n      <td>[NONE]</td>\n    </tr>\n    <tr>\n      <th>3</th>\n      <td>Afeganistão</td>\n      <td>AFG</td>\n      <td>1753</td>\n      <td>[NONE]</td>\n      <td>[NONE]</td>\n      <td>[NONE]</td>\n      <td>[NONE]</td>\n      <td>[NONE]</td>\n      <td>[NONE]</td>\n      <td>[NONE]</td>\n      <td>[NONE]</td>\n    </tr>\n    <tr>\n      <th>4</th>\n      <td>Afeganistão</td>\n      <td>AFG</td>\n      <td>1754</td>\n      <td>[NONE]</td>\n      <td>[NONE]</td>\n      <td>[NONE]</td>\n      <td>[NONE]</td>\n      <td>[NONE]</td>\n      <td>[NONE]</td>\n      <td>[NONE]</td>\n      <td>[NONE]</td>\n    </tr>\n    <tr>\n      <th>...</th>\n      <td>...</td>\n      <td>...</td>\n      <td>...</td>\n      <td>...</td>\n      <td>...</td>\n      <td>...</td>\n      <td>...</td>\n      <td>...</td>\n      <td>...</td>\n      <td>...</td>\n      <td>...</td>\n    </tr>\n    <tr>\n      <th>63099</th>\n      <td>Global</td>\n      <td>WLD</td>\n      <td>2017</td>\n      <td>CDIAC 2022, BP, and Sum of countries</td>\n      <td>CDIAC 2022 and BP</td>\n      <td>CDIAC 2022 and BP</td>\n      <td>CDIAC 2022 and BP</td>\n      <td>Andrew cement</td>\n      <td>CDIAC 2022 and GCP</td>\n      <td>[NONE]</td>\n      <td>CDIAC 2022, BP, Sum of countries, and UN popul...</td>\n    </tr>\n    <tr>\n      <th>63100</th>\n      <td>Global</td>\n      <td>WLD</td>\n      <td>2018</td>\n      <td>CDIAC 2022, BP, and Sum of countries</td>\n      <td>CDIAC 2022 and BP</td>\n      <td>CDIAC 2022 and BP</td>\n      <td>CDIAC 2022 and BP</td>\n      <td>Andrew cement</td>\n      <td>CDIAC 2022 and GCP</td>\n      <td>[NONE]</td>\n      <td>CDIAC 2022, BP, Sum of countries, and UN popul...</td>\n    </tr>\n    <tr>\n      <th>63101</th>\n      <td>Global</td>\n      <td>WLD</td>\n      <td>2019</td>\n      <td>CDIAC 2022, BP, and Sum of countries</td>\n      <td>CDIAC 2022 and BP</td>\n      <td>CDIAC 2022 and BP</td>\n      <td>CDIAC 2022 and BP</td>\n      <td>Andrew cement</td>\n      <td>CDIAC 2022 and GCP</td>\n      <td>[NONE]</td>\n      <td>CDIAC 2022, BP, Sum of countries, and UN popul...</td>\n    </tr>\n    <tr>\n      <th>63102</th>\n      <td>Global</td>\n      <td>WLD</td>\n      <td>2020</td>\n      <td>CDIAC 2022, BP, and Sum of countries</td>\n      <td>CDIAC 2022 and BP</td>\n      <td>CDIAC 2022 and BP</td>\n      <td>CDIAC 2022 and BP</td>\n      <td>Andrew cement</td>\n      <td>CDIAC 2022 and GCP</td>\n      <td>[NONE]</td>\n      <td>CDIAC 2022, BP, Sum of countries, and UN popul...</td>\n    </tr>\n    <tr>\n      <th>63103</th>\n      <td>Global</td>\n      <td>WLD</td>\n      <td>2021</td>\n      <td>CDIAC 2022, BP, and Sum of countries</td>\n      <td>CDIAC 2022 and BP</td>\n      <td>CDIAC 2022 and BP</td>\n      <td>CDIAC 2022 and BP</td>\n      <td>Andrew cement</td>\n      <td>CDIAC 2022 and GCP</td>\n      <td>[NONE]</td>\n      <td>CDIAC 2022, BP, Sum of countries, and UN popul...</td>\n    </tr>\n  </tbody>\n</table>\n<p>63104 rows × 11 columns</p>\n</div>"
     },
     "execution_count": 8,
     "metadata": {},
     "output_type": "execute_result"
    }
   ],
   "source": [
    "fontes = pd.read_excel(url, sheet_name='fontes')\n",
    "fontes"
   ],
   "metadata": {
    "collapsed": false,
    "ExecuteTime": {
     "end_time": "2023-12-23T16:51:45.458121200Z",
     "start_time": "2023-12-23T16:51:14.947028500Z"
    }
   },
   "id": "c000df36e1eb72d7"
  },
  {
   "cell_type": "markdown",
   "source": [
    "Entre outros parâmetros da função read_excel(), existe o usecols, com o qual especificamos as colunas que queremos mostrar. Vamos explorá-lo, a seguir.\n",
    "\n",
    "Criaremos uma variável chamada intevalo e chamaremos a função read_excel() da biblioteca Pandas. No primeiro parâmetro, passaremos a URL. No segundo, definiremos o nome da página, sheet_name='emissoes_C02'. No terceiro, indicaremos o intervalo desejado, com usecols= 'A:D'. Como aprendemos anteriormente, as colunas são nomeadas por letras. Ao indicar A:D, selecionamos o intervalo da coluna A até a coluna D:"
   ],
   "metadata": {
    "collapsed": false
   },
   "id": "4c18aed45109d433"
  },
  {
   "cell_type": "code",
   "execution_count": 9,
   "outputs": [
    {
     "data": {
      "text/plain": "              País ISO 3166-1 alpha-3   Ano         Total\n0      Afeganistão                AFG  1750  0.000000e+00\n1      Afeganistão                AFG  1751  0.000000e+00\n2      Afeganistão                AFG  1752  0.000000e+00\n3      Afeganistão                AFG  1753  0.000000e+00\n4      Afeganistão                AFG  1754  0.000000e+00\n...            ...                ...   ...           ...\n63099       Global                WLD  2017  3.609674e+10\n63100       Global                WLD  2018  3.682651e+10\n63101       Global                WLD  2019  3.708256e+10\n63102       Global                WLD  2020  3.526409e+10\n63103       Global                WLD  2021  3.712385e+10\n\n[63104 rows x 4 columns]",
      "text/html": "<div>\n<style scoped>\n    .dataframe tbody tr th:only-of-type {\n        vertical-align: middle;\n    }\n\n    .dataframe tbody tr th {\n        vertical-align: top;\n    }\n\n    .dataframe thead th {\n        text-align: right;\n    }\n</style>\n<table border=\"1\" class=\"dataframe\">\n  <thead>\n    <tr style=\"text-align: right;\">\n      <th></th>\n      <th>País</th>\n      <th>ISO 3166-1 alpha-3</th>\n      <th>Ano</th>\n      <th>Total</th>\n    </tr>\n  </thead>\n  <tbody>\n    <tr>\n      <th>0</th>\n      <td>Afeganistão</td>\n      <td>AFG</td>\n      <td>1750</td>\n      <td>0.000000e+00</td>\n    </tr>\n    <tr>\n      <th>1</th>\n      <td>Afeganistão</td>\n      <td>AFG</td>\n      <td>1751</td>\n      <td>0.000000e+00</td>\n    </tr>\n    <tr>\n      <th>2</th>\n      <td>Afeganistão</td>\n      <td>AFG</td>\n      <td>1752</td>\n      <td>0.000000e+00</td>\n    </tr>\n    <tr>\n      <th>3</th>\n      <td>Afeganistão</td>\n      <td>AFG</td>\n      <td>1753</td>\n      <td>0.000000e+00</td>\n    </tr>\n    <tr>\n      <th>4</th>\n      <td>Afeganistão</td>\n      <td>AFG</td>\n      <td>1754</td>\n      <td>0.000000e+00</td>\n    </tr>\n    <tr>\n      <th>...</th>\n      <td>...</td>\n      <td>...</td>\n      <td>...</td>\n      <td>...</td>\n    </tr>\n    <tr>\n      <th>63099</th>\n      <td>Global</td>\n      <td>WLD</td>\n      <td>2017</td>\n      <td>3.609674e+10</td>\n    </tr>\n    <tr>\n      <th>63100</th>\n      <td>Global</td>\n      <td>WLD</td>\n      <td>2018</td>\n      <td>3.682651e+10</td>\n    </tr>\n    <tr>\n      <th>63101</th>\n      <td>Global</td>\n      <td>WLD</td>\n      <td>2019</td>\n      <td>3.708256e+10</td>\n    </tr>\n    <tr>\n      <th>63102</th>\n      <td>Global</td>\n      <td>WLD</td>\n      <td>2020</td>\n      <td>3.526409e+10</td>\n    </tr>\n    <tr>\n      <th>63103</th>\n      <td>Global</td>\n      <td>WLD</td>\n      <td>2021</td>\n      <td>3.712385e+10</td>\n    </tr>\n  </tbody>\n</table>\n<p>63104 rows × 4 columns</p>\n</div>"
     },
     "execution_count": 9,
     "metadata": {},
     "output_type": "execute_result"
    }
   ],
   "source": [
    "intervalo = pd.read_excel(url, sheet_name='emissoes_C02', usecols= 'A:D')\n",
    "intervalo"
   ],
   "metadata": {
    "collapsed": false,
    "ExecuteTime": {
     "end_time": "2023-12-23T16:52:14.748757Z",
     "start_time": "2023-12-23T16:51:45.901214800Z"
    }
   },
   "id": "d0d8d6931058a36a"
  },
  {
   "cell_type": "markdown",
   "source": [
    "Outro parâmetro da função read_excel() é o nrows, responsável por definir a quantidade a linhas exibidas. Para demonstrá-lo, vamos criar uma variável chamada intervalo_2 e chamar read_excel(). Além da URL, do nome da página e do intervalo de colunas, definiremos a exibição de apenas 10 linhas com nrows=10:"
   ],
   "metadata": {
    "collapsed": false
   },
   "id": "7de76ea070f6c458"
  },
  {
   "cell_type": "code",
   "execution_count": 10,
   "outputs": [
    {
     "data": {
      "text/plain": "          País ISO 3166-1 alpha-3   Ano  Total\n0  Afeganistão                AFG  1750      0\n1  Afeganistão                AFG  1751      0\n2  Afeganistão                AFG  1752      0\n3  Afeganistão                AFG  1753      0\n4  Afeganistão                AFG  1754      0\n5  Afeganistão                AFG  1755      0\n6  Afeganistão                AFG  1756      0\n7  Afeganistão                AFG  1757      0\n8  Afeganistão                AFG  1758      0\n9  Afeganistão                AFG  1759      0",
      "text/html": "<div>\n<style scoped>\n    .dataframe tbody tr th:only-of-type {\n        vertical-align: middle;\n    }\n\n    .dataframe tbody tr th {\n        vertical-align: top;\n    }\n\n    .dataframe thead th {\n        text-align: right;\n    }\n</style>\n<table border=\"1\" class=\"dataframe\">\n  <thead>\n    <tr style=\"text-align: right;\">\n      <th></th>\n      <th>País</th>\n      <th>ISO 3166-1 alpha-3</th>\n      <th>Ano</th>\n      <th>Total</th>\n    </tr>\n  </thead>\n  <tbody>\n    <tr>\n      <th>0</th>\n      <td>Afeganistão</td>\n      <td>AFG</td>\n      <td>1750</td>\n      <td>0</td>\n    </tr>\n    <tr>\n      <th>1</th>\n      <td>Afeganistão</td>\n      <td>AFG</td>\n      <td>1751</td>\n      <td>0</td>\n    </tr>\n    <tr>\n      <th>2</th>\n      <td>Afeganistão</td>\n      <td>AFG</td>\n      <td>1752</td>\n      <td>0</td>\n    </tr>\n    <tr>\n      <th>3</th>\n      <td>Afeganistão</td>\n      <td>AFG</td>\n      <td>1753</td>\n      <td>0</td>\n    </tr>\n    <tr>\n      <th>4</th>\n      <td>Afeganistão</td>\n      <td>AFG</td>\n      <td>1754</td>\n      <td>0</td>\n    </tr>\n    <tr>\n      <th>5</th>\n      <td>Afeganistão</td>\n      <td>AFG</td>\n      <td>1755</td>\n      <td>0</td>\n    </tr>\n    <tr>\n      <th>6</th>\n      <td>Afeganistão</td>\n      <td>AFG</td>\n      <td>1756</td>\n      <td>0</td>\n    </tr>\n    <tr>\n      <th>7</th>\n      <td>Afeganistão</td>\n      <td>AFG</td>\n      <td>1757</td>\n      <td>0</td>\n    </tr>\n    <tr>\n      <th>8</th>\n      <td>Afeganistão</td>\n      <td>AFG</td>\n      <td>1758</td>\n      <td>0</td>\n    </tr>\n    <tr>\n      <th>9</th>\n      <td>Afeganistão</td>\n      <td>AFG</td>\n      <td>1759</td>\n      <td>0</td>\n    </tr>\n  </tbody>\n</table>\n</div>"
     },
     "execution_count": 10,
     "metadata": {},
     "output_type": "execute_result"
    }
   ],
   "source": [
    "intervalo_2 = pd.read_excel(url, sheet_name='emissoes_C02', usecols= 'A:D', nrows=10)\n",
    "intervalo_2"
   ],
   "metadata": {
    "collapsed": false,
    "ExecuteTime": {
     "end_time": "2023-12-23T16:52:51.962619Z",
     "start_time": "2023-12-23T16:52:34.136470900Z"
    }
   },
   "id": "814d7f43785b3c4a"
  },
  {
   "cell_type": "markdown",
   "source": [
    "Agora, temos apenas 10 linhas! Entendemos como ler um arquivo Excel e testamos alguns parâmetros. Na sequência, aprenderemos como salvá-los."
   ],
   "metadata": {
    "collapsed": false
   },
   "id": "ce1d46c2c019b72f"
  },
  {
   "cell_type": "code",
   "execution_count": 14,
   "outputs": [],
   "source": [
    "percapita.to_excel('data/co2_percapita.xlsx', index=False)"
   ],
   "metadata": {
    "collapsed": false,
    "ExecuteTime": {
     "end_time": "2023-12-23T17:01:13.623428200Z",
     "start_time": "2023-12-23T17:00:56.855138500Z"
    }
   },
   "id": "92cc606b6a3ba3b3"
  },
  {
   "cell_type": "code",
   "execution_count": 15,
   "outputs": [],
   "source": [
    "sheet_id = '1lzq0k-41-MbbS63C3Q9i1wPvLkSJt9zhr4Jolt1vEog'\n",
    "url = f'https://docs.google.com/spreadsheets/d/{sheet_id}/gviz/tq?tqx=out:csv&sheet'"
   ],
   "metadata": {
    "collapsed": false,
    "ExecuteTime": {
     "end_time": "2023-12-23T17:01:13.634413500Z",
     "start_time": "2023-12-23T17:01:13.626641600Z"
    }
   },
   "id": "aff2a1fd7f50e1ec"
  },
  {
   "cell_type": "code",
   "execution_count": 16,
   "outputs": [
    {
     "data": {
      "text/plain": "              País ISO 3166-1 alpha-3   Ano           Total          Carvão  \\\n0      Afeganistão                AFG  1750               0             NaN   \n1      Afeganistão                AFG  1751               0             NaN   \n2      Afeganistão                AFG  1752               0             NaN   \n3      Afeganistão                AFG  1753               0             NaN   \n4      Afeganistão                AFG  1754               0             NaN   \n...            ...                ...   ...             ...             ...   \n63099       Global                WLD  2017  36.096.739.276  14.506.973.805   \n63100       Global                WLD  2018  36.826.506.600  14.746.830.688   \n63101       Global                WLD  2019  37.082.558.969  14.725.978.025   \n63102       Global                WLD  2020  35.264.085.734  14.174.564.010   \n63103       Global                WLD  2021  37.123.850.352  14.979.598.083   \n\n                 Oléo            Gás        Cimento       Queima        Outro  \\\n0                 NaN            NaN            NaN          NaN          NaN   \n1                 NaN            NaN            NaN          NaN          NaN   \n2                 NaN            NaN            NaN          NaN          NaN   \n3                 NaN            NaN            NaN          NaN          NaN   \n4                 NaN            NaN            NaN          NaN          NaN   \n...               ...            ...            ...          ...          ...   \n63099  12.242.627.935  7.144.928.128  1.507.923.185  391.992.176  302.294.047   \n63100  12.266.016.285  7.529.846.784  1.569.218.392  412.115.746  302.478.706   \n63101  12.345.653.374  7.647.528.220  1.617.506.786  439.253.991  306.638.573   \n63102  11.191.808.551  7.556.290.283  1.637.537.532  407.583.673  296.301.685   \n63103  11.837.159.116  7.921.829.472  1.672.592.372  416.525.563  296.145.746   \n\n      Per Capita  \n0            NaN  \n1            NaN  \n2            NaN  \n3            NaN  \n4            NaN  \n...          ...  \n63099  4.749.682  \n63100  4.792.753  \n63101  4.775.633  \n63102  4.497.423  \n63103  4.693.699  \n\n[63104 rows x 11 columns]",
      "text/html": "<div>\n<style scoped>\n    .dataframe tbody tr th:only-of-type {\n        vertical-align: middle;\n    }\n\n    .dataframe tbody tr th {\n        vertical-align: top;\n    }\n\n    .dataframe thead th {\n        text-align: right;\n    }\n</style>\n<table border=\"1\" class=\"dataframe\">\n  <thead>\n    <tr style=\"text-align: right;\">\n      <th></th>\n      <th>País</th>\n      <th>ISO 3166-1 alpha-3</th>\n      <th>Ano</th>\n      <th>Total</th>\n      <th>Carvão</th>\n      <th>Oléo</th>\n      <th>Gás</th>\n      <th>Cimento</th>\n      <th>Queima</th>\n      <th>Outro</th>\n      <th>Per Capita</th>\n    </tr>\n  </thead>\n  <tbody>\n    <tr>\n      <th>0</th>\n      <td>Afeganistão</td>\n      <td>AFG</td>\n      <td>1750</td>\n      <td>0</td>\n      <td>NaN</td>\n      <td>NaN</td>\n      <td>NaN</td>\n      <td>NaN</td>\n      <td>NaN</td>\n      <td>NaN</td>\n      <td>NaN</td>\n    </tr>\n    <tr>\n      <th>1</th>\n      <td>Afeganistão</td>\n      <td>AFG</td>\n      <td>1751</td>\n      <td>0</td>\n      <td>NaN</td>\n      <td>NaN</td>\n      <td>NaN</td>\n      <td>NaN</td>\n      <td>NaN</td>\n      <td>NaN</td>\n      <td>NaN</td>\n    </tr>\n    <tr>\n      <th>2</th>\n      <td>Afeganistão</td>\n      <td>AFG</td>\n      <td>1752</td>\n      <td>0</td>\n      <td>NaN</td>\n      <td>NaN</td>\n      <td>NaN</td>\n      <td>NaN</td>\n      <td>NaN</td>\n      <td>NaN</td>\n      <td>NaN</td>\n    </tr>\n    <tr>\n      <th>3</th>\n      <td>Afeganistão</td>\n      <td>AFG</td>\n      <td>1753</td>\n      <td>0</td>\n      <td>NaN</td>\n      <td>NaN</td>\n      <td>NaN</td>\n      <td>NaN</td>\n      <td>NaN</td>\n      <td>NaN</td>\n      <td>NaN</td>\n    </tr>\n    <tr>\n      <th>4</th>\n      <td>Afeganistão</td>\n      <td>AFG</td>\n      <td>1754</td>\n      <td>0</td>\n      <td>NaN</td>\n      <td>NaN</td>\n      <td>NaN</td>\n      <td>NaN</td>\n      <td>NaN</td>\n      <td>NaN</td>\n      <td>NaN</td>\n    </tr>\n    <tr>\n      <th>...</th>\n      <td>...</td>\n      <td>...</td>\n      <td>...</td>\n      <td>...</td>\n      <td>...</td>\n      <td>...</td>\n      <td>...</td>\n      <td>...</td>\n      <td>...</td>\n      <td>...</td>\n      <td>...</td>\n    </tr>\n    <tr>\n      <th>63099</th>\n      <td>Global</td>\n      <td>WLD</td>\n      <td>2017</td>\n      <td>36.096.739.276</td>\n      <td>14.506.973.805</td>\n      <td>12.242.627.935</td>\n      <td>7.144.928.128</td>\n      <td>1.507.923.185</td>\n      <td>391.992.176</td>\n      <td>302.294.047</td>\n      <td>4.749.682</td>\n    </tr>\n    <tr>\n      <th>63100</th>\n      <td>Global</td>\n      <td>WLD</td>\n      <td>2018</td>\n      <td>36.826.506.600</td>\n      <td>14.746.830.688</td>\n      <td>12.266.016.285</td>\n      <td>7.529.846.784</td>\n      <td>1.569.218.392</td>\n      <td>412.115.746</td>\n      <td>302.478.706</td>\n      <td>4.792.753</td>\n    </tr>\n    <tr>\n      <th>63101</th>\n      <td>Global</td>\n      <td>WLD</td>\n      <td>2019</td>\n      <td>37.082.558.969</td>\n      <td>14.725.978.025</td>\n      <td>12.345.653.374</td>\n      <td>7.647.528.220</td>\n      <td>1.617.506.786</td>\n      <td>439.253.991</td>\n      <td>306.638.573</td>\n      <td>4.775.633</td>\n    </tr>\n    <tr>\n      <th>63102</th>\n      <td>Global</td>\n      <td>WLD</td>\n      <td>2020</td>\n      <td>35.264.085.734</td>\n      <td>14.174.564.010</td>\n      <td>11.191.808.551</td>\n      <td>7.556.290.283</td>\n      <td>1.637.537.532</td>\n      <td>407.583.673</td>\n      <td>296.301.685</td>\n      <td>4.497.423</td>\n    </tr>\n    <tr>\n      <th>63103</th>\n      <td>Global</td>\n      <td>WLD</td>\n      <td>2021</td>\n      <td>37.123.850.352</td>\n      <td>14.979.598.083</td>\n      <td>11.837.159.116</td>\n      <td>7.921.829.472</td>\n      <td>1.672.592.372</td>\n      <td>416.525.563</td>\n      <td>296.145.746</td>\n      <td>4.693.699</td>\n    </tr>\n  </tbody>\n</table>\n<p>63104 rows × 11 columns</p>\n</div>"
     },
     "execution_count": 16,
     "metadata": {},
     "output_type": "execute_result"
    }
   ],
   "source": [
    "dados_co2_sheets = pd.read_csv(url)\n",
    "dados_co2_sheets"
   ],
   "metadata": {
    "collapsed": false,
    "ExecuteTime": {
     "end_time": "2023-12-23T17:01:16.908494700Z",
     "start_time": "2023-12-23T17:01:13.632330400Z"
    }
   },
   "id": "f5b6f69eecbc2157"
  },
  {
   "cell_type": "code",
   "execution_count": 17,
   "outputs": [
    {
     "data": {
      "text/plain": "              País ISO 3166-1 alpha-3   Ano      Total     Carvão       Óleo  \\\n0      Afeganistão                AFG  1750        NaN        NaN        NaN   \n1      Afeganistão                AFG  1751        NaN        NaN        NaN   \n2      Afeganistão                AFG  1752        NaN        NaN        NaN   \n3      Afeganistão                AFG  1753        NaN        NaN        NaN   \n4      Afeganistão                AFG  1754        NaN        NaN        NaN   \n...            ...                ...   ...        ...        ...        ...   \n63099       Global                WLD  2017  4.749.682  1.908.857  1.610.910   \n63100       Global                WLD  2018  4.792.753  1.919.213  1.596.350   \n63101       Global                WLD  2019  4.775.633  1.896.468  1.589.920   \n63102       Global                WLD  2020  4.497.423  1.807.760  1.427.353   \n63103       Global                WLD  2021  4.693.699  1.893.923  1.496.614   \n\n             Gás  Cimento  Queima   Outro  \n0            NaN      NaN     NaN     NaN  \n1            NaN      NaN     NaN     NaN  \n2            NaN      NaN     NaN     NaN  \n3            NaN      NaN     NaN     NaN  \n4            NaN      NaN     NaN     NaN  \n...          ...      ...     ...     ...  \n63099    940.144  198.416  51.579  39.776  \n63100    979.965  204.225  53.634  39.366  \n63101    984.878  208.309  56.569  39.490  \n63102    963.695  208.844  51.981  37.789  \n63103  1.001.585  211.472  52.663  37.443  \n\n[63104 rows x 10 columns]",
      "text/html": "<div>\n<style scoped>\n    .dataframe tbody tr th:only-of-type {\n        vertical-align: middle;\n    }\n\n    .dataframe tbody tr th {\n        vertical-align: top;\n    }\n\n    .dataframe thead th {\n        text-align: right;\n    }\n</style>\n<table border=\"1\" class=\"dataframe\">\n  <thead>\n    <tr style=\"text-align: right;\">\n      <th></th>\n      <th>País</th>\n      <th>ISO 3166-1 alpha-3</th>\n      <th>Ano</th>\n      <th>Total</th>\n      <th>Carvão</th>\n      <th>Óleo</th>\n      <th>Gás</th>\n      <th>Cimento</th>\n      <th>Queima</th>\n      <th>Outro</th>\n    </tr>\n  </thead>\n  <tbody>\n    <tr>\n      <th>0</th>\n      <td>Afeganistão</td>\n      <td>AFG</td>\n      <td>1750</td>\n      <td>NaN</td>\n      <td>NaN</td>\n      <td>NaN</td>\n      <td>NaN</td>\n      <td>NaN</td>\n      <td>NaN</td>\n      <td>NaN</td>\n    </tr>\n    <tr>\n      <th>1</th>\n      <td>Afeganistão</td>\n      <td>AFG</td>\n      <td>1751</td>\n      <td>NaN</td>\n      <td>NaN</td>\n      <td>NaN</td>\n      <td>NaN</td>\n      <td>NaN</td>\n      <td>NaN</td>\n      <td>NaN</td>\n    </tr>\n    <tr>\n      <th>2</th>\n      <td>Afeganistão</td>\n      <td>AFG</td>\n      <td>1752</td>\n      <td>NaN</td>\n      <td>NaN</td>\n      <td>NaN</td>\n      <td>NaN</td>\n      <td>NaN</td>\n      <td>NaN</td>\n      <td>NaN</td>\n    </tr>\n    <tr>\n      <th>3</th>\n      <td>Afeganistão</td>\n      <td>AFG</td>\n      <td>1753</td>\n      <td>NaN</td>\n      <td>NaN</td>\n      <td>NaN</td>\n      <td>NaN</td>\n      <td>NaN</td>\n      <td>NaN</td>\n      <td>NaN</td>\n    </tr>\n    <tr>\n      <th>4</th>\n      <td>Afeganistão</td>\n      <td>AFG</td>\n      <td>1754</td>\n      <td>NaN</td>\n      <td>NaN</td>\n      <td>NaN</td>\n      <td>NaN</td>\n      <td>NaN</td>\n      <td>NaN</td>\n      <td>NaN</td>\n    </tr>\n    <tr>\n      <th>...</th>\n      <td>...</td>\n      <td>...</td>\n      <td>...</td>\n      <td>...</td>\n      <td>...</td>\n      <td>...</td>\n      <td>...</td>\n      <td>...</td>\n      <td>...</td>\n      <td>...</td>\n    </tr>\n    <tr>\n      <th>63099</th>\n      <td>Global</td>\n      <td>WLD</td>\n      <td>2017</td>\n      <td>4.749.682</td>\n      <td>1.908.857</td>\n      <td>1.610.910</td>\n      <td>940.144</td>\n      <td>198.416</td>\n      <td>51.579</td>\n      <td>39.776</td>\n    </tr>\n    <tr>\n      <th>63100</th>\n      <td>Global</td>\n      <td>WLD</td>\n      <td>2018</td>\n      <td>4.792.753</td>\n      <td>1.919.213</td>\n      <td>1.596.350</td>\n      <td>979.965</td>\n      <td>204.225</td>\n      <td>53.634</td>\n      <td>39.366</td>\n    </tr>\n    <tr>\n      <th>63101</th>\n      <td>Global</td>\n      <td>WLD</td>\n      <td>2019</td>\n      <td>4.775.633</td>\n      <td>1.896.468</td>\n      <td>1.589.920</td>\n      <td>984.878</td>\n      <td>208.309</td>\n      <td>56.569</td>\n      <td>39.490</td>\n    </tr>\n    <tr>\n      <th>63102</th>\n      <td>Global</td>\n      <td>WLD</td>\n      <td>2020</td>\n      <td>4.497.423</td>\n      <td>1.807.760</td>\n      <td>1.427.353</td>\n      <td>963.695</td>\n      <td>208.844</td>\n      <td>51.981</td>\n      <td>37.789</td>\n    </tr>\n    <tr>\n      <th>63103</th>\n      <td>Global</td>\n      <td>WLD</td>\n      <td>2021</td>\n      <td>4.693.699</td>\n      <td>1.893.923</td>\n      <td>1.496.614</td>\n      <td>1.001.585</td>\n      <td>211.472</td>\n      <td>52.663</td>\n      <td>37.443</td>\n    </tr>\n  </tbody>\n</table>\n<p>63104 rows × 10 columns</p>\n</div>"
     },
     "execution_count": 17,
     "metadata": {},
     "output_type": "execute_result"
    }
   ],
   "source": [
    "sheet_id = '1lzq0k-41-MbbS63C3Q9i1wPvLkSJt9zhr4Jolt1vEog'\n",
    "sheet_name = 'emissoes_percapita'\n",
    "url_percapita = f'https://docs.google.com/spreadsheets/d/{sheet_id}/gviz/tq?tqx=out:csv&sheet={sheet_name}'\n",
    "percapita_sheets = pd.read_csv(url_percapita)\n",
    "percapita_sheets"
   ],
   "metadata": {
    "collapsed": false,
    "ExecuteTime": {
     "end_time": "2023-12-23T17:01:33.639743700Z",
     "start_time": "2023-12-23T17:01:31.912517500Z"
    }
   },
   "id": "7db1a9e5fe011fd4"
  },
  {
   "cell_type": "code",
   "execution_count": 18,
   "outputs": [
    {
     "data": {
      "text/plain": "              País ISO 3166-1 alpha-3   Ano  \\\n0      Afeganistão                AFG  1750   \n1      Afeganistão                AFG  1751   \n2      Afeganistão                AFG  1752   \n3      Afeganistão                AFG  1753   \n4      Afeganistão                AFG  1754   \n...            ...                ...   ...   \n63099       Global                WLD  2017   \n63100       Global                WLD  2018   \n63101       Global                WLD  2019   \n63102       Global                WLD  2020   \n63103       Global                WLD  2021   \n\n                                      Total             Carvão  \\\n0                                    [NONE]             [NONE]   \n1                                    [NONE]             [NONE]   \n2                                    [NONE]             [NONE]   \n3                                    [NONE]             [NONE]   \n4                                    [NONE]             [NONE]   \n...                                     ...                ...   \n63099  CDIAC 2022, BP, and Sum of countries  CDIAC 2022 and BP   \n63100  CDIAC 2022, BP, and Sum of countries  CDIAC 2022 and BP   \n63101  CDIAC 2022, BP, and Sum of countries  CDIAC 2022 and BP   \n63102  CDIAC 2022, BP, and Sum of countries  CDIAC 2022 and BP   \n63103  CDIAC 2022, BP, and Sum of countries  CDIAC 2022 and BP   \n\n                    Oléo                Gás        Cimento  \\\n0                 [NONE]             [NONE]         [NONE]   \n1                 [NONE]             [NONE]         [NONE]   \n2                 [NONE]             [NONE]         [NONE]   \n3                 [NONE]             [NONE]         [NONE]   \n4                 [NONE]             [NONE]         [NONE]   \n...                  ...                ...            ...   \n63099  CDIAC 2022 and BP  CDIAC 2022 and BP  Andrew cement   \n63100  CDIAC 2022 and BP  CDIAC 2022 and BP  Andrew cement   \n63101  CDIAC 2022 and BP  CDIAC 2022 and BP  Andrew cement   \n63102  CDIAC 2022 and BP  CDIAC 2022 and BP  Andrew cement   \n63103  CDIAC 2022 and BP  CDIAC 2022 and BP  Andrew cement   \n\n                   Queima   Outro  \\\n0                  [NONE]  [NONE]   \n1                  [NONE]  [NONE]   \n2                  [NONE]  [NONE]   \n3                  [NONE]  [NONE]   \n4                  [NONE]  [NONE]   \n...                   ...     ...   \n63099  CDIAC 2022 and GCP  [NONE]   \n63100  CDIAC 2022 and GCP  [NONE]   \n63101  CDIAC 2022 and GCP  [NONE]   \n63102  CDIAC 2022 and GCP  [NONE]   \n63103  CDIAC 2022 and GCP  [NONE]   \n\n                                              Per Capita  \n0                                                 [NONE]  \n1                                                 [NONE]  \n2                                                 [NONE]  \n3                                                 [NONE]  \n4                                                 [NONE]  \n...                                                  ...  \n63099  CDIAC 2022, BP, Sum of countries, and UN popul...  \n63100  CDIAC 2022, BP, Sum of countries, and UN popul...  \n63101  CDIAC 2022, BP, Sum of countries, and UN popul...  \n63102  CDIAC 2022, BP, Sum of countries, and UN popul...  \n63103  CDIAC 2022, BP, Sum of countries, and UN popul...  \n\n[63104 rows x 11 columns]",
      "text/html": "<div>\n<style scoped>\n    .dataframe tbody tr th:only-of-type {\n        vertical-align: middle;\n    }\n\n    .dataframe tbody tr th {\n        vertical-align: top;\n    }\n\n    .dataframe thead th {\n        text-align: right;\n    }\n</style>\n<table border=\"1\" class=\"dataframe\">\n  <thead>\n    <tr style=\"text-align: right;\">\n      <th></th>\n      <th>País</th>\n      <th>ISO 3166-1 alpha-3</th>\n      <th>Ano</th>\n      <th>Total</th>\n      <th>Carvão</th>\n      <th>Oléo</th>\n      <th>Gás</th>\n      <th>Cimento</th>\n      <th>Queima</th>\n      <th>Outro</th>\n      <th>Per Capita</th>\n    </tr>\n  </thead>\n  <tbody>\n    <tr>\n      <th>0</th>\n      <td>Afeganistão</td>\n      <td>AFG</td>\n      <td>1750</td>\n      <td>[NONE]</td>\n      <td>[NONE]</td>\n      <td>[NONE]</td>\n      <td>[NONE]</td>\n      <td>[NONE]</td>\n      <td>[NONE]</td>\n      <td>[NONE]</td>\n      <td>[NONE]</td>\n    </tr>\n    <tr>\n      <th>1</th>\n      <td>Afeganistão</td>\n      <td>AFG</td>\n      <td>1751</td>\n      <td>[NONE]</td>\n      <td>[NONE]</td>\n      <td>[NONE]</td>\n      <td>[NONE]</td>\n      <td>[NONE]</td>\n      <td>[NONE]</td>\n      <td>[NONE]</td>\n      <td>[NONE]</td>\n    </tr>\n    <tr>\n      <th>2</th>\n      <td>Afeganistão</td>\n      <td>AFG</td>\n      <td>1752</td>\n      <td>[NONE]</td>\n      <td>[NONE]</td>\n      <td>[NONE]</td>\n      <td>[NONE]</td>\n      <td>[NONE]</td>\n      <td>[NONE]</td>\n      <td>[NONE]</td>\n      <td>[NONE]</td>\n    </tr>\n    <tr>\n      <th>3</th>\n      <td>Afeganistão</td>\n      <td>AFG</td>\n      <td>1753</td>\n      <td>[NONE]</td>\n      <td>[NONE]</td>\n      <td>[NONE]</td>\n      <td>[NONE]</td>\n      <td>[NONE]</td>\n      <td>[NONE]</td>\n      <td>[NONE]</td>\n      <td>[NONE]</td>\n    </tr>\n    <tr>\n      <th>4</th>\n      <td>Afeganistão</td>\n      <td>AFG</td>\n      <td>1754</td>\n      <td>[NONE]</td>\n      <td>[NONE]</td>\n      <td>[NONE]</td>\n      <td>[NONE]</td>\n      <td>[NONE]</td>\n      <td>[NONE]</td>\n      <td>[NONE]</td>\n      <td>[NONE]</td>\n    </tr>\n    <tr>\n      <th>...</th>\n      <td>...</td>\n      <td>...</td>\n      <td>...</td>\n      <td>...</td>\n      <td>...</td>\n      <td>...</td>\n      <td>...</td>\n      <td>...</td>\n      <td>...</td>\n      <td>...</td>\n      <td>...</td>\n    </tr>\n    <tr>\n      <th>63099</th>\n      <td>Global</td>\n      <td>WLD</td>\n      <td>2017</td>\n      <td>CDIAC 2022, BP, and Sum of countries</td>\n      <td>CDIAC 2022 and BP</td>\n      <td>CDIAC 2022 and BP</td>\n      <td>CDIAC 2022 and BP</td>\n      <td>Andrew cement</td>\n      <td>CDIAC 2022 and GCP</td>\n      <td>[NONE]</td>\n      <td>CDIAC 2022, BP, Sum of countries, and UN popul...</td>\n    </tr>\n    <tr>\n      <th>63100</th>\n      <td>Global</td>\n      <td>WLD</td>\n      <td>2018</td>\n      <td>CDIAC 2022, BP, and Sum of countries</td>\n      <td>CDIAC 2022 and BP</td>\n      <td>CDIAC 2022 and BP</td>\n      <td>CDIAC 2022 and BP</td>\n      <td>Andrew cement</td>\n      <td>CDIAC 2022 and GCP</td>\n      <td>[NONE]</td>\n      <td>CDIAC 2022, BP, Sum of countries, and UN popul...</td>\n    </tr>\n    <tr>\n      <th>63101</th>\n      <td>Global</td>\n      <td>WLD</td>\n      <td>2019</td>\n      <td>CDIAC 2022, BP, and Sum of countries</td>\n      <td>CDIAC 2022 and BP</td>\n      <td>CDIAC 2022 and BP</td>\n      <td>CDIAC 2022 and BP</td>\n      <td>Andrew cement</td>\n      <td>CDIAC 2022 and GCP</td>\n      <td>[NONE]</td>\n      <td>CDIAC 2022, BP, Sum of countries, and UN popul...</td>\n    </tr>\n    <tr>\n      <th>63102</th>\n      <td>Global</td>\n      <td>WLD</td>\n      <td>2020</td>\n      <td>CDIAC 2022, BP, and Sum of countries</td>\n      <td>CDIAC 2022 and BP</td>\n      <td>CDIAC 2022 and BP</td>\n      <td>CDIAC 2022 and BP</td>\n      <td>Andrew cement</td>\n      <td>CDIAC 2022 and GCP</td>\n      <td>[NONE]</td>\n      <td>CDIAC 2022, BP, Sum of countries, and UN popul...</td>\n    </tr>\n    <tr>\n      <th>63103</th>\n      <td>Global</td>\n      <td>WLD</td>\n      <td>2021</td>\n      <td>CDIAC 2022, BP, and Sum of countries</td>\n      <td>CDIAC 2022 and BP</td>\n      <td>CDIAC 2022 and BP</td>\n      <td>CDIAC 2022 and BP</td>\n      <td>Andrew cement</td>\n      <td>CDIAC 2022 and GCP</td>\n      <td>[NONE]</td>\n      <td>CDIAC 2022, BP, Sum of countries, and UN popul...</td>\n    </tr>\n  </tbody>\n</table>\n<p>63104 rows × 11 columns</p>\n</div>"
     },
     "execution_count": 18,
     "metadata": {},
     "output_type": "execute_result"
    }
   ],
   "source": [
    "sheet_id = '1lzq0k-41-MbbS63C3Q9i1wPvLkSJt9zhr4Jolt1vEog'\n",
    "sheet_name = 'fontes'\n",
    "url_fontes = f'https://docs.google.com/spreadsheets/d/{sheet_id}/gviz/tq?tqx=out:csv&sheet={sheet_name}'\n",
    "fontes_sheets = pd.read_csv(url_fontes)\n",
    "fontes_sheets"
   ],
   "metadata": {
    "collapsed": false,
    "ExecuteTime": {
     "end_time": "2023-12-23T17:02:06.512446600Z",
     "start_time": "2023-12-23T17:02:04.177Z"
    }
   },
   "id": "22affbf02c7c104"
  },
  {
   "cell_type": "code",
   "execution_count": 19,
   "outputs": [
    {
     "data": {
      "text/plain": "     Country Name country_code                      Region  \\\n0           Aruba          ABW   Latin America & Caribbean   \n1     Afghanistan          AFG                  South Asia   \n2          Angola          AGO          Sub-Saharan Africa   \n3         Albania          ALB       Europe & Central Asia   \n4         Andorra          AND       Europe & Central Asia   \n..            ...          ...                         ...   \n210         Samoa          WSM         East Asia & Pacific   \n211   Yemen, Rep.          YEM  Middle East & North Africa   \n212  South Africa          ZAF          Sub-Saharan Africa   \n213        Zambia          ZMB          Sub-Saharan Africa   \n214      Zimbabwe          ZWE          Sub-Saharan Africa   \n\n                             Indicator Name           1990           1991  \\\n0    CO2 emissions (metric tons per capita)            NaN            NaN   \n1    CO2 emissions (metric tons per capita)    191.745.115    167.681.579   \n2    CO2 emissions (metric tons per capita)    553.661.955    544.538.649   \n3    CO2 emissions (metric tons per capita)  1.819.541.634    124.281.022   \n4    CO2 emissions (metric tons per capita)  7.521.831.658    723.537.924   \n..                                      ...            ...            ...   \n210  CO2 emissions (metric tons per capita)     55.283.574    609.756.098   \n211  CO2 emissions (metric tons per capita)     56.703.735    690.937.429   \n212  CO2 emissions (metric tons per capita)  6.729.798.587  6.424.621.766   \n213  CO2 emissions (metric tons per capita)    340.929.635    349.232.211   \n214  CO2 emissions (metric tons per capita)  1.585.443.976  1.713.321.439   \n\n              1992           1993           1994           1995  ...  \\\n0              NaN            NaN            NaN            NaN  ...   \n1       95.957.742      8.472.111     75.545.827     68.467.956  ...   \n2      543.557.223     70.898.423    836.804.405    912.141.485  ...   \n3      683.699.826    638.307.036    645.355.189    605.436.253  ...   \n4       69.630.787  6.724.177.518  6.541.578.914  6.733.479.486  ...   \n..             ...            ...            ...            ...  ...   \n210    604.266.119    658.221.486    592.806.881    705.674.802  ...   \n211    704.793.064    627.104.927    653.255.714    706.080.534  ...   \n212  6.175.429.944  6.219.193.872  6.215.847.077  6.378.789.568  ...   \n213     33.722.439    289.956.061    241.269.619    234.153.214  ...   \n214  1.694.415.977  1.539.740.958  1.417.186.242    135.661.892  ...   \n\n              2011           2012           2013           2014  \\\n0              NaN            NaN            NaN            NaN   \n1       29.650.624    259.295.334     18.562.366    146.235.617   \n2      985.522.312    950.695.879  1.036.293.852  1.099.779.111   \n3      166.942.319    150.324.046  1.533.630.039  1.668.337.371   \n4    5.850.886.105  5.944.654.173  5.942.800.412  5.807.127.723   \n..             ...            ...            ...            ...   \n210  1.066.843.067  1.057.703.002  1.048.701.723  1.092.498.145   \n211    963.978.488    858.490.955  1.106.687.715  1.062.211.282   \n212  7.869.815.906  8.077.957.969  8.138.264.312  8.212.241.156   \n213    217.496.732     27.860.069    284.057.568    304.549.552   \n214     88.488.553    915.734.944    919.824.123    889.104.126   \n\n              2015           2016           2017           2018  \\\n0              NaN            NaN            NaN            NaN   \n1      172.896.741    149.789.334    131.694.556      1.632.953   \n2      113.504.405  1.031.811.348     81.330.073    777.674.934   \n3      160.377.515  1.557.664.358  1.788.786.074  1.782.738.948   \n4    6.026.181.822  6.080.600.282  6.104.133.912  6.362.975.399   \n..             ...            ...            ...            ...   \n210  1.240.245.954  1.542.099.372  1.586.830.344  1.478.626.161   \n211    511.361.652    399.363.829    359.621.635    341.068.402   \n212  7.669.937.662  7.563.739.495  7.641.675.086  7.515.678.605   \n213    312.354.964    325.114.844    404.067.778    445.489.133   \n214    899.769.991     78.544.084    726.297.071    857.411.269   \n\n              2019         2019.1  \n0              NaN            NaN  \n1      159.824.372    159.824.372  \n2      792.137.069    792.137.069  \n3      169.224.832    169.224.832  \n4    6.481.217.432  6.481.217.432  \n..             ...            ...  \n210  1.522.124.134  1.522.124.134  \n211    380.633.361    380.633.361  \n212  7.507.736.092  7.507.736.092  \n213    380.717.051    380.717.051  \n214     80.297.852     80.297.852  \n\n[215 rows x 35 columns]",
      "text/html": "<div>\n<style scoped>\n    .dataframe tbody tr th:only-of-type {\n        vertical-align: middle;\n    }\n\n    .dataframe tbody tr th {\n        vertical-align: top;\n    }\n\n    .dataframe thead th {\n        text-align: right;\n    }\n</style>\n<table border=\"1\" class=\"dataframe\">\n  <thead>\n    <tr style=\"text-align: right;\">\n      <th></th>\n      <th>Country Name</th>\n      <th>country_code</th>\n      <th>Region</th>\n      <th>Indicator Name</th>\n      <th>1990</th>\n      <th>1991</th>\n      <th>1992</th>\n      <th>1993</th>\n      <th>1994</th>\n      <th>1995</th>\n      <th>...</th>\n      <th>2011</th>\n      <th>2012</th>\n      <th>2013</th>\n      <th>2014</th>\n      <th>2015</th>\n      <th>2016</th>\n      <th>2017</th>\n      <th>2018</th>\n      <th>2019</th>\n      <th>2019.1</th>\n    </tr>\n  </thead>\n  <tbody>\n    <tr>\n      <th>0</th>\n      <td>Aruba</td>\n      <td>ABW</td>\n      <td>Latin America &amp; Caribbean</td>\n      <td>CO2 emissions (metric tons per capita)</td>\n      <td>NaN</td>\n      <td>NaN</td>\n      <td>NaN</td>\n      <td>NaN</td>\n      <td>NaN</td>\n      <td>NaN</td>\n      <td>...</td>\n      <td>NaN</td>\n      <td>NaN</td>\n      <td>NaN</td>\n      <td>NaN</td>\n      <td>NaN</td>\n      <td>NaN</td>\n      <td>NaN</td>\n      <td>NaN</td>\n      <td>NaN</td>\n      <td>NaN</td>\n    </tr>\n    <tr>\n      <th>1</th>\n      <td>Afghanistan</td>\n      <td>AFG</td>\n      <td>South Asia</td>\n      <td>CO2 emissions (metric tons per capita)</td>\n      <td>191.745.115</td>\n      <td>167.681.579</td>\n      <td>95.957.742</td>\n      <td>8.472.111</td>\n      <td>75.545.827</td>\n      <td>68.467.956</td>\n      <td>...</td>\n      <td>29.650.624</td>\n      <td>259.295.334</td>\n      <td>18.562.366</td>\n      <td>146.235.617</td>\n      <td>172.896.741</td>\n      <td>149.789.334</td>\n      <td>131.694.556</td>\n      <td>1.632.953</td>\n      <td>159.824.372</td>\n      <td>159.824.372</td>\n    </tr>\n    <tr>\n      <th>2</th>\n      <td>Angola</td>\n      <td>AGO</td>\n      <td>Sub-Saharan Africa</td>\n      <td>CO2 emissions (metric tons per capita)</td>\n      <td>553.661.955</td>\n      <td>544.538.649</td>\n      <td>543.557.223</td>\n      <td>70.898.423</td>\n      <td>836.804.405</td>\n      <td>912.141.485</td>\n      <td>...</td>\n      <td>985.522.312</td>\n      <td>950.695.879</td>\n      <td>1.036.293.852</td>\n      <td>1.099.779.111</td>\n      <td>113.504.405</td>\n      <td>1.031.811.348</td>\n      <td>81.330.073</td>\n      <td>777.674.934</td>\n      <td>792.137.069</td>\n      <td>792.137.069</td>\n    </tr>\n    <tr>\n      <th>3</th>\n      <td>Albania</td>\n      <td>ALB</td>\n      <td>Europe &amp; Central Asia</td>\n      <td>CO2 emissions (metric tons per capita)</td>\n      <td>1.819.541.634</td>\n      <td>124.281.022</td>\n      <td>683.699.826</td>\n      <td>638.307.036</td>\n      <td>645.355.189</td>\n      <td>605.436.253</td>\n      <td>...</td>\n      <td>166.942.319</td>\n      <td>150.324.046</td>\n      <td>1.533.630.039</td>\n      <td>1.668.337.371</td>\n      <td>160.377.515</td>\n      <td>1.557.664.358</td>\n      <td>1.788.786.074</td>\n      <td>1.782.738.948</td>\n      <td>169.224.832</td>\n      <td>169.224.832</td>\n    </tr>\n    <tr>\n      <th>4</th>\n      <td>Andorra</td>\n      <td>AND</td>\n      <td>Europe &amp; Central Asia</td>\n      <td>CO2 emissions (metric tons per capita)</td>\n      <td>7.521.831.658</td>\n      <td>723.537.924</td>\n      <td>69.630.787</td>\n      <td>6.724.177.518</td>\n      <td>6.541.578.914</td>\n      <td>6.733.479.486</td>\n      <td>...</td>\n      <td>5.850.886.105</td>\n      <td>5.944.654.173</td>\n      <td>5.942.800.412</td>\n      <td>5.807.127.723</td>\n      <td>6.026.181.822</td>\n      <td>6.080.600.282</td>\n      <td>6.104.133.912</td>\n      <td>6.362.975.399</td>\n      <td>6.481.217.432</td>\n      <td>6.481.217.432</td>\n    </tr>\n    <tr>\n      <th>...</th>\n      <td>...</td>\n      <td>...</td>\n      <td>...</td>\n      <td>...</td>\n      <td>...</td>\n      <td>...</td>\n      <td>...</td>\n      <td>...</td>\n      <td>...</td>\n      <td>...</td>\n      <td>...</td>\n      <td>...</td>\n      <td>...</td>\n      <td>...</td>\n      <td>...</td>\n      <td>...</td>\n      <td>...</td>\n      <td>...</td>\n      <td>...</td>\n      <td>...</td>\n      <td>...</td>\n    </tr>\n    <tr>\n      <th>210</th>\n      <td>Samoa</td>\n      <td>WSM</td>\n      <td>East Asia &amp; Pacific</td>\n      <td>CO2 emissions (metric tons per capita)</td>\n      <td>55.283.574</td>\n      <td>609.756.098</td>\n      <td>604.266.119</td>\n      <td>658.221.486</td>\n      <td>592.806.881</td>\n      <td>705.674.802</td>\n      <td>...</td>\n      <td>1.066.843.067</td>\n      <td>1.057.703.002</td>\n      <td>1.048.701.723</td>\n      <td>1.092.498.145</td>\n      <td>1.240.245.954</td>\n      <td>1.542.099.372</td>\n      <td>1.586.830.344</td>\n      <td>1.478.626.161</td>\n      <td>1.522.124.134</td>\n      <td>1.522.124.134</td>\n    </tr>\n    <tr>\n      <th>211</th>\n      <td>Yemen, Rep.</td>\n      <td>YEM</td>\n      <td>Middle East &amp; North Africa</td>\n      <td>CO2 emissions (metric tons per capita)</td>\n      <td>56.703.735</td>\n      <td>690.937.429</td>\n      <td>704.793.064</td>\n      <td>627.104.927</td>\n      <td>653.255.714</td>\n      <td>706.080.534</td>\n      <td>...</td>\n      <td>963.978.488</td>\n      <td>858.490.955</td>\n      <td>1.106.687.715</td>\n      <td>1.062.211.282</td>\n      <td>511.361.652</td>\n      <td>399.363.829</td>\n      <td>359.621.635</td>\n      <td>341.068.402</td>\n      <td>380.633.361</td>\n      <td>380.633.361</td>\n    </tr>\n    <tr>\n      <th>212</th>\n      <td>South Africa</td>\n      <td>ZAF</td>\n      <td>Sub-Saharan Africa</td>\n      <td>CO2 emissions (metric tons per capita)</td>\n      <td>6.729.798.587</td>\n      <td>6.424.621.766</td>\n      <td>6.175.429.944</td>\n      <td>6.219.193.872</td>\n      <td>6.215.847.077</td>\n      <td>6.378.789.568</td>\n      <td>...</td>\n      <td>7.869.815.906</td>\n      <td>8.077.957.969</td>\n      <td>8.138.264.312</td>\n      <td>8.212.241.156</td>\n      <td>7.669.937.662</td>\n      <td>7.563.739.495</td>\n      <td>7.641.675.086</td>\n      <td>7.515.678.605</td>\n      <td>7.507.736.092</td>\n      <td>7.507.736.092</td>\n    </tr>\n    <tr>\n      <th>213</th>\n      <td>Zambia</td>\n      <td>ZMB</td>\n      <td>Sub-Saharan Africa</td>\n      <td>CO2 emissions (metric tons per capita)</td>\n      <td>340.929.635</td>\n      <td>349.232.211</td>\n      <td>33.722.439</td>\n      <td>289.956.061</td>\n      <td>241.269.619</td>\n      <td>234.153.214</td>\n      <td>...</td>\n      <td>217.496.732</td>\n      <td>27.860.069</td>\n      <td>284.057.568</td>\n      <td>304.549.552</td>\n      <td>312.354.964</td>\n      <td>325.114.844</td>\n      <td>404.067.778</td>\n      <td>445.489.133</td>\n      <td>380.717.051</td>\n      <td>380.717.051</td>\n    </tr>\n    <tr>\n      <th>214</th>\n      <td>Zimbabwe</td>\n      <td>ZWE</td>\n      <td>Sub-Saharan Africa</td>\n      <td>CO2 emissions (metric tons per capita)</td>\n      <td>1.585.443.976</td>\n      <td>1.713.321.439</td>\n      <td>1.694.415.977</td>\n      <td>1.539.740.958</td>\n      <td>1.417.186.242</td>\n      <td>135.661.892</td>\n      <td>...</td>\n      <td>88.488.553</td>\n      <td>915.734.944</td>\n      <td>919.824.123</td>\n      <td>889.104.126</td>\n      <td>899.769.991</td>\n      <td>78.544.084</td>\n      <td>726.297.071</td>\n      <td>857.411.269</td>\n      <td>80.297.852</td>\n      <td>80.297.852</td>\n    </tr>\n  </tbody>\n</table>\n<p>215 rows × 35 columns</p>\n</div>"
     },
     "execution_count": 19,
     "metadata": {},
     "output_type": "execute_result"
    }
   ],
   "source": [
    "sheet_id = '1pvBoLyX8kP0TjtUbadVMGdTl4yzm6bHMThhPiqCVtpw'\n",
    "url = f'https://docs.google.com/spreadsheets/d/{sheet_id}/gviz/tq?tqx=out:csv&sheet'\n",
    "dados = pd.read_csv(url)\n",
    "dados.to_csv('dados_emissoes_co2.csv', index=False)\n",
    "dados"
   ],
   "metadata": {
    "collapsed": false,
    "ExecuteTime": {
     "end_time": "2023-12-23T17:04:16.413683600Z",
     "start_time": "2023-12-23T17:04:15.605493400Z"
    }
   },
   "id": "2aa6f655f4d7b8de"
  },
  {
   "cell_type": "markdown",
   "source": [
    "Nessa aula, você aprendeu a:\n",
    "Entender o que é uma planilha;\n",
    "Realizar a leitura de um arquivo no formato XLSX;\n",
    "Identificar páginas em uma planilha;\n",
    "Fazer a leitura de páginas e intervalo específicos de uma planilha;\n",
    "Ler apenas algumas linhas de uma planilha;\n",
    "Escrever um arquivo no formato XLSX;\n",
    "Importar dados provenientes do Google Planilhas."
   ],
   "metadata": {
    "collapsed": false
   },
   "id": "d42d44b199ead998"
  }
 ],
 "metadata": {
  "kernelspec": {
   "display_name": "Python 3",
   "language": "python",
   "name": "python3"
  },
  "language_info": {
   "codemirror_mode": {
    "name": "ipython",
    "version": 2
   },
   "file_extension": ".py",
   "mimetype": "text/x-python",
   "name": "python",
   "nbconvert_exporter": "python",
   "pygments_lexer": "ipython2",
   "version": "2.7.6"
  }
 },
 "nbformat": 4,
 "nbformat_minor": 5
}
