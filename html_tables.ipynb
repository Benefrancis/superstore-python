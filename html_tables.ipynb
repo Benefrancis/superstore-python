{
 "cells": [
  {
   "cell_type": "code",
   "execution_count": 1,
   "id": "initial_id",
   "metadata": {
    "collapsed": true,
    "ExecuteTime": {
     "end_time": "2023-12-23T17:32:08.909921800Z",
     "start_time": "2023-12-23T17:32:08.030988Z"
    }
   },
   "outputs": [],
   "source": [
    "import pandas as pd\n"
   ]
  },
  {
   "cell_type": "code",
   "execution_count": 6,
   "outputs": [],
   "source": [
    "html = 'data/filmes_wikipedia.html'"
   ],
   "metadata": {
    "collapsed": false,
    "ExecuteTime": {
     "end_time": "2023-12-23T17:34:11.455734500Z",
     "start_time": "2023-12-23T17:34:11.448648500Z"
    }
   },
   "id": "505489e5ef70bdd9"
  },
  {
   "cell_type": "code",
   "execution_count": 18,
   "outputs": [
    {
     "data": {
      "text/plain": "list"
     },
     "execution_count": 18,
     "metadata": {},
     "output_type": "execute_result"
    }
   ],
   "source": [
    "dados = pd.read_html(html)\n",
    "type(dados)"
   ],
   "metadata": {
    "collapsed": false,
    "ExecuteTime": {
     "end_time": "2023-12-23T17:39:11.769040200Z",
     "start_time": "2023-12-23T17:39:11.709680800Z"
    }
   },
   "id": "4b89eb3e7f046e19"
  },
  {
   "cell_type": "code",
   "execution_count": 17,
   "outputs": [],
   "source": [
    "top_filmes = dados[1]\n"
   ],
   "metadata": {
    "collapsed": false,
    "ExecuteTime": {
     "end_time": "2023-12-23T17:38:53.050924200Z",
     "start_time": "2023-12-23T17:38:53.044287300Z"
    }
   },
   "id": "93776cd3ed6f9b28"
  },
  {
   "cell_type": "code",
   "execution_count": 16,
   "outputs": [
    {
     "data": {
      "text/plain": "                            Film  Release year              Director  \\\n0                   Citizen Kane          1941          Orson Welles   \n1                     Casablanca          1942        Michael Curtiz   \n2                  The Godfather          1972  Francis Ford Coppola   \n3             Gone with the Wind          1939        Victor Fleming   \n4             Lawrence of Arabia          1962            David Lean   \n..                           ...           ...                   ...   \n95                 The Searchers          1956             John Ford   \n96              Bringing Up Baby          1938          Howard Hawks   \n97                    Unforgiven          1992        Clint Eastwood   \n98  Guess Who's Coming to Dinner          1967        Stanley Kramer   \n99           Yankee Doodle Dandy          1942        Michael Curtiz   \n\n                      Production companies  Rank  \n0                       RKO Radio Pictures     1  \n1                    Warner Bros. Pictures     2  \n2   Paramount Pictures, Alfran Productions     3  \n3          Selznick International Pictures     4  \n4                         Horizon Pictures     5  \n..                                     ...   ...  \n95                  C. V. Whitney Pictures    96  \n96                      RKO Radio Pictures    97  \n97                     The Malpaso Company    98  \n98                       Columbia Pictures    99  \n99                   Warner Bros. Pictures   100  \n\n[100 rows x 5 columns]",
      "text/html": "<div>\n<style scoped>\n    .dataframe tbody tr th:only-of-type {\n        vertical-align: middle;\n    }\n\n    .dataframe tbody tr th {\n        vertical-align: top;\n    }\n\n    .dataframe thead th {\n        text-align: right;\n    }\n</style>\n<table border=\"1\" class=\"dataframe\">\n  <thead>\n    <tr style=\"text-align: right;\">\n      <th></th>\n      <th>Film</th>\n      <th>Release year</th>\n      <th>Director</th>\n      <th>Production companies</th>\n      <th>Rank</th>\n    </tr>\n  </thead>\n  <tbody>\n    <tr>\n      <th>0</th>\n      <td>Citizen Kane</td>\n      <td>1941</td>\n      <td>Orson Welles</td>\n      <td>RKO Radio Pictures</td>\n      <td>1</td>\n    </tr>\n    <tr>\n      <th>1</th>\n      <td>Casablanca</td>\n      <td>1942</td>\n      <td>Michael Curtiz</td>\n      <td>Warner Bros. Pictures</td>\n      <td>2</td>\n    </tr>\n    <tr>\n      <th>2</th>\n      <td>The Godfather</td>\n      <td>1972</td>\n      <td>Francis Ford Coppola</td>\n      <td>Paramount Pictures, Alfran Productions</td>\n      <td>3</td>\n    </tr>\n    <tr>\n      <th>3</th>\n      <td>Gone with the Wind</td>\n      <td>1939</td>\n      <td>Victor Fleming</td>\n      <td>Selznick International Pictures</td>\n      <td>4</td>\n    </tr>\n    <tr>\n      <th>4</th>\n      <td>Lawrence of Arabia</td>\n      <td>1962</td>\n      <td>David Lean</td>\n      <td>Horizon Pictures</td>\n      <td>5</td>\n    </tr>\n    <tr>\n      <th>...</th>\n      <td>...</td>\n      <td>...</td>\n      <td>...</td>\n      <td>...</td>\n      <td>...</td>\n    </tr>\n    <tr>\n      <th>95</th>\n      <td>The Searchers</td>\n      <td>1956</td>\n      <td>John Ford</td>\n      <td>C. V. Whitney Pictures</td>\n      <td>96</td>\n    </tr>\n    <tr>\n      <th>96</th>\n      <td>Bringing Up Baby</td>\n      <td>1938</td>\n      <td>Howard Hawks</td>\n      <td>RKO Radio Pictures</td>\n      <td>97</td>\n    </tr>\n    <tr>\n      <th>97</th>\n      <td>Unforgiven</td>\n      <td>1992</td>\n      <td>Clint Eastwood</td>\n      <td>The Malpaso Company</td>\n      <td>98</td>\n    </tr>\n    <tr>\n      <th>98</th>\n      <td>Guess Who's Coming to Dinner</td>\n      <td>1967</td>\n      <td>Stanley Kramer</td>\n      <td>Columbia Pictures</td>\n      <td>99</td>\n    </tr>\n    <tr>\n      <th>99</th>\n      <td>Yankee Doodle Dandy</td>\n      <td>1942</td>\n      <td>Michael Curtiz</td>\n      <td>Warner Bros. Pictures</td>\n      <td>100</td>\n    </tr>\n  </tbody>\n</table>\n<p>100 rows × 5 columns</p>\n</div>"
     },
     "execution_count": 16,
     "metadata": {},
     "output_type": "execute_result"
    }
   ],
   "source": [
    "top_filmes"
   ],
   "metadata": {
    "collapsed": false,
    "ExecuteTime": {
     "end_time": "2023-12-23T17:37:49.172043600Z",
     "start_time": "2023-12-23T17:37:49.156804800Z"
    }
   },
   "id": "7dd34c1869633ef0"
  },
  {
   "cell_type": "markdown",
   "source": [
    "Deu tudo certo! Temos o dataframe exatamente como apresentado no Wikipedia, contendo as colunas de nome do filme, ano de lançamento, diretor, produtora e posição no ranking.\n",
    "\n",
    "Fizemos a leitura de um dado em HTML. E agora, como conseguimos escrever em HTML?"
   ],
   "metadata": {
    "collapsed": false
   },
   "id": "7be77887605d17d3"
  },
  {
   "cell_type": "code",
   "execution_count": 19,
   "outputs": [],
   "source": [
    "top_filmes.to_html('data/top_filmes.html')"
   ],
   "metadata": {
    "collapsed": false,
    "ExecuteTime": {
     "end_time": "2023-12-23T17:39:41.960274400Z",
     "start_time": "2023-12-23T17:39:41.939295300Z"
    }
   },
   "id": "27c5a42c65cb4953"
  },
  {
   "cell_type": "markdown",
   "source": [
    "Vamos salvar esse mesmo top_filmes no formato CSV. Para isso voltamos ao Colab e, numa nova célula, vamos digitar top_filmes e usar a função to_csv(). Entre os parênteses, passamos o nome do arquivo entre aspas simples, como 'top_filmes_1998.csv'.\n",
    "\n",
    "Também precisamos passar o index=False quando salvamos um arquivo no formato CSV ou Excel, para evitar que uma nova coluna de index seja adicionada ao dataframe. Então:"
   ],
   "metadata": {
    "collapsed": false
   },
   "id": "73687eb3b13c2330"
  },
  {
   "cell_type": "code",
   "execution_count": null,
   "outputs": [],
   "source": [
    "top_filmes.to_csv('data/top_filmes_1998.csv', index=False)"
   ],
   "metadata": {
    "collapsed": false
   },
   "id": "cb508f1fd923df6e"
  },
  {
   "cell_type": "markdown",
   "source": [],
   "metadata": {
    "collapsed": false
   },
   "id": "375068ea4134b51c"
  },
  {
   "cell_type": "code",
   "execution_count": 21,
   "outputs": [
    {
     "data": {
      "text/plain": "                            Film  Release year              Director  \\\n0                   Citizen Kane          1941          Orson Welles   \n1                     Casablanca          1942        Michael Curtiz   \n2                  The Godfather          1972  Francis Ford Coppola   \n3             Gone with the Wind          1939        Victor Fleming   \n4             Lawrence of Arabia          1962            David Lean   \n..                           ...           ...                   ...   \n95                 The Searchers          1956             John Ford   \n96              Bringing Up Baby          1938          Howard Hawks   \n97                    Unforgiven          1992        Clint Eastwood   \n98  Guess Who's Coming to Dinner          1967        Stanley Kramer   \n99           Yankee Doodle Dandy          1942        Michael Curtiz   \n\n                      Production companies  Rank  \n0                       RKO Radio Pictures     1  \n1                    Warner Bros. Pictures     2  \n2   Paramount Pictures, Alfran Productions     3  \n3          Selznick International Pictures     4  \n4                         Horizon Pictures     5  \n..                                     ...   ...  \n95                  C. V. Whitney Pictures    96  \n96                      RKO Radio Pictures    97  \n97                     The Malpaso Company    98  \n98                       Columbia Pictures    99  \n99                   Warner Bros. Pictures   100  \n\n[100 rows x 5 columns]",
      "text/html": "<div>\n<style scoped>\n    .dataframe tbody tr th:only-of-type {\n        vertical-align: middle;\n    }\n\n    .dataframe tbody tr th {\n        vertical-align: top;\n    }\n\n    .dataframe thead th {\n        text-align: right;\n    }\n</style>\n<table border=\"1\" class=\"dataframe\">\n  <thead>\n    <tr style=\"text-align: right;\">\n      <th></th>\n      <th>Film</th>\n      <th>Release year</th>\n      <th>Director</th>\n      <th>Production companies</th>\n      <th>Rank</th>\n    </tr>\n  </thead>\n  <tbody>\n    <tr>\n      <th>0</th>\n      <td>Citizen Kane</td>\n      <td>1941</td>\n      <td>Orson Welles</td>\n      <td>RKO Radio Pictures</td>\n      <td>1</td>\n    </tr>\n    <tr>\n      <th>1</th>\n      <td>Casablanca</td>\n      <td>1942</td>\n      <td>Michael Curtiz</td>\n      <td>Warner Bros. Pictures</td>\n      <td>2</td>\n    </tr>\n    <tr>\n      <th>2</th>\n      <td>The Godfather</td>\n      <td>1972</td>\n      <td>Francis Ford Coppola</td>\n      <td>Paramount Pictures, Alfran Productions</td>\n      <td>3</td>\n    </tr>\n    <tr>\n      <th>3</th>\n      <td>Gone with the Wind</td>\n      <td>1939</td>\n      <td>Victor Fleming</td>\n      <td>Selznick International Pictures</td>\n      <td>4</td>\n    </tr>\n    <tr>\n      <th>4</th>\n      <td>Lawrence of Arabia</td>\n      <td>1962</td>\n      <td>David Lean</td>\n      <td>Horizon Pictures</td>\n      <td>5</td>\n    </tr>\n    <tr>\n      <th>...</th>\n      <td>...</td>\n      <td>...</td>\n      <td>...</td>\n      <td>...</td>\n      <td>...</td>\n    </tr>\n    <tr>\n      <th>95</th>\n      <td>The Searchers</td>\n      <td>1956</td>\n      <td>John Ford</td>\n      <td>C. V. Whitney Pictures</td>\n      <td>96</td>\n    </tr>\n    <tr>\n      <th>96</th>\n      <td>Bringing Up Baby</td>\n      <td>1938</td>\n      <td>Howard Hawks</td>\n      <td>RKO Radio Pictures</td>\n      <td>97</td>\n    </tr>\n    <tr>\n      <th>97</th>\n      <td>Unforgiven</td>\n      <td>1992</td>\n      <td>Clint Eastwood</td>\n      <td>The Malpaso Company</td>\n      <td>98</td>\n    </tr>\n    <tr>\n      <th>98</th>\n      <td>Guess Who's Coming to Dinner</td>\n      <td>1967</td>\n      <td>Stanley Kramer</td>\n      <td>Columbia Pictures</td>\n      <td>99</td>\n    </tr>\n    <tr>\n      <th>99</th>\n      <td>Yankee Doodle Dandy</td>\n      <td>1942</td>\n      <td>Michael Curtiz</td>\n      <td>Warner Bros. Pictures</td>\n      <td>100</td>\n    </tr>\n  </tbody>\n</table>\n<p>100 rows × 5 columns</p>\n</div>"
     },
     "execution_count": 21,
     "metadata": {},
     "output_type": "execute_result"
    }
   ],
   "source": [
    "pd.read_csv('data/top_filmes_1998.csv')"
   ],
   "metadata": {
    "collapsed": false,
    "ExecuteTime": {
     "end_time": "2023-12-23T17:41:10.602133Z",
     "start_time": "2023-12-23T17:41:10.576735200Z"
    }
   },
   "id": "3451b853641fa35d"
  },
  {
   "cell_type": "code",
   "execution_count": 22,
   "outputs": [
    {
     "data": {
      "text/plain": "     Unnamed: 0 Posição    País (ou território dependente) Estimativa da ONU  \\\n0           NaN       1                              Índia     1 429 921 746   \n1           NaN       2                              China     1 426 391 281   \n2           NaN       3                     Estados Unidos       339 987 103   \n3           NaN       4                          Indonésia       277 184 719   \n4           NaN       5                          Paquistão       240 215 932   \n..          ...     ...                                ...               ...   \n245         NaN       –     Ilha de Ascensão (Reino Unido)               806   \n246         NaN     195                           Vaticano               801   \n247         NaN       –  Ilhas Cocos (Keeling) (Austrália)               573   \n248         NaN       –     Tristão da Cunha (Reino Unido)               241   \n249         NaN       –       Ilhas Pitcairn (Reino Unido)                63   \n\n    Crescimento desde a última estimativa  Data      Estimativa Oficial  \n0                            +269.108.746  2023      Estimativa oficial  \n1                             +87.778.313  2023           Censo oficial  \n2                             +31.241.565  2023           Censo oficial  \n3                             +33.168.546  2023      Estimativa oficial  \n4                             +65.636.932  2023      Estimativa oficial  \n..                                    ...   ...                     ...  \n245                                   NaN  2021  Estimativa oficial[10]  \n246                                   NaN  2020      Estimativa oficial  \n247                                   NaN  2020      Estimativa oficial  \n248                                   NaN  2022  Estimativa oficial[11]  \n249                                   NaN  2023      Estimativa oficial  \n\n[250 rows x 7 columns]",
      "text/html": "<div>\n<style scoped>\n    .dataframe tbody tr th:only-of-type {\n        vertical-align: middle;\n    }\n\n    .dataframe tbody tr th {\n        vertical-align: top;\n    }\n\n    .dataframe thead th {\n        text-align: right;\n    }\n</style>\n<table border=\"1\" class=\"dataframe\">\n  <thead>\n    <tr style=\"text-align: right;\">\n      <th></th>\n      <th>Unnamed: 0</th>\n      <th>Posição</th>\n      <th>País (ou território dependente)</th>\n      <th>Estimativa da ONU</th>\n      <th>Crescimento desde a última estimativa</th>\n      <th>Data</th>\n      <th>Estimativa Oficial</th>\n    </tr>\n  </thead>\n  <tbody>\n    <tr>\n      <th>0</th>\n      <td>NaN</td>\n      <td>1</td>\n      <td>Índia</td>\n      <td>1 429 921 746</td>\n      <td>+269.108.746</td>\n      <td>2023</td>\n      <td>Estimativa oficial</td>\n    </tr>\n    <tr>\n      <th>1</th>\n      <td>NaN</td>\n      <td>2</td>\n      <td>China</td>\n      <td>1 426 391 281</td>\n      <td>+87.778.313</td>\n      <td>2023</td>\n      <td>Censo oficial</td>\n    </tr>\n    <tr>\n      <th>2</th>\n      <td>NaN</td>\n      <td>3</td>\n      <td>Estados Unidos</td>\n      <td>339 987 103</td>\n      <td>+31.241.565</td>\n      <td>2023</td>\n      <td>Censo oficial</td>\n    </tr>\n    <tr>\n      <th>3</th>\n      <td>NaN</td>\n      <td>4</td>\n      <td>Indonésia</td>\n      <td>277 184 719</td>\n      <td>+33.168.546</td>\n      <td>2023</td>\n      <td>Estimativa oficial</td>\n    </tr>\n    <tr>\n      <th>4</th>\n      <td>NaN</td>\n      <td>5</td>\n      <td>Paquistão</td>\n      <td>240 215 932</td>\n      <td>+65.636.932</td>\n      <td>2023</td>\n      <td>Estimativa oficial</td>\n    </tr>\n    <tr>\n      <th>...</th>\n      <td>...</td>\n      <td>...</td>\n      <td>...</td>\n      <td>...</td>\n      <td>...</td>\n      <td>...</td>\n      <td>...</td>\n    </tr>\n    <tr>\n      <th>245</th>\n      <td>NaN</td>\n      <td>–</td>\n      <td>Ilha de Ascensão (Reino Unido)</td>\n      <td>806</td>\n      <td>NaN</td>\n      <td>2021</td>\n      <td>Estimativa oficial[10]</td>\n    </tr>\n    <tr>\n      <th>246</th>\n      <td>NaN</td>\n      <td>195</td>\n      <td>Vaticano</td>\n      <td>801</td>\n      <td>NaN</td>\n      <td>2020</td>\n      <td>Estimativa oficial</td>\n    </tr>\n    <tr>\n      <th>247</th>\n      <td>NaN</td>\n      <td>–</td>\n      <td>Ilhas Cocos (Keeling) (Austrália)</td>\n      <td>573</td>\n      <td>NaN</td>\n      <td>2020</td>\n      <td>Estimativa oficial</td>\n    </tr>\n    <tr>\n      <th>248</th>\n      <td>NaN</td>\n      <td>–</td>\n      <td>Tristão da Cunha (Reino Unido)</td>\n      <td>241</td>\n      <td>NaN</td>\n      <td>2022</td>\n      <td>Estimativa oficial[11]</td>\n    </tr>\n    <tr>\n      <th>249</th>\n      <td>NaN</td>\n      <td>–</td>\n      <td>Ilhas Pitcairn (Reino Unido)</td>\n      <td>63</td>\n      <td>NaN</td>\n      <td>2023</td>\n      <td>Estimativa oficial</td>\n    </tr>\n  </tbody>\n</table>\n<p>250 rows × 7 columns</p>\n</div>"
     },
     "execution_count": 22,
     "metadata": {},
     "output_type": "execute_result"
    }
   ],
   "source": [
    "pd.read_html('https://pt.wikipedia.org/wiki/Lista_de_pa%C3%ADses_por_popula%C3%A7%C3%A3o')[0]"
   ],
   "metadata": {
    "collapsed": false,
    "ExecuteTime": {
     "end_time": "2023-12-23T17:45:39.736022900Z",
     "start_time": "2023-12-23T17:45:38.409299400Z"
    }
   },
   "id": "a4994724f51aae59"
  },
  {
   "cell_type": "code",
   "execution_count": null,
   "outputs": [],
   "source": [],
   "metadata": {
    "collapsed": false
   },
   "id": "ad0e060542303a41"
  }
 ],
 "metadata": {
  "kernelspec": {
   "display_name": "Python 3",
   "language": "python",
   "name": "python3"
  },
  "language_info": {
   "codemirror_mode": {
    "name": "ipython",
    "version": 2
   },
   "file_extension": ".py",
   "mimetype": "text/x-python",
   "name": "python",
   "nbconvert_exporter": "python",
   "pygments_lexer": "ipython2",
   "version": "2.7.6"
  }
 },
 "nbformat": 4,
 "nbformat_minor": 5
}
