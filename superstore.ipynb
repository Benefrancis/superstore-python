{
 "cells": [
  {
   "cell_type": "code",
   "execution_count": 1,
   "id": "initial_id",
   "metadata": {
    "collapsed": true,
    "ExecuteTime": {
     "end_time": "2023-12-22T17:55:59.355890300Z",
     "start_time": "2023-12-22T17:55:58.542988600Z"
    }
   },
   "outputs": [],
   "source": [
    "import pandas as pd"
   ]
  },
  {
   "cell_type": "code",
   "execution_count": 3,
   "outputs": [],
   "source": [
    "url = 'data/superstore_data.csv'"
   ],
   "metadata": {
    "collapsed": false,
    "ExecuteTime": {
     "end_time": "2023-12-22T17:56:23.244978Z",
     "start_time": "2023-12-22T17:56:23.239460900Z"
    }
   },
   "id": "78117e18f859fa57"
  },
  {
   "cell_type": "code",
   "execution_count": 4,
   "outputs": [],
   "source": [
    "dados_mercado = pd.read_csv(url)"
   ],
   "metadata": {
    "collapsed": false,
    "ExecuteTime": {
     "end_time": "2023-12-22T17:59:31.265046Z",
     "start_time": "2023-12-22T17:59:31.234198Z"
    }
   },
   "id": "5fc269c5c5473544"
  },
  {
   "cell_type": "code",
   "execution_count": 6,
   "outputs": [
    {
     "data": {
      "text/plain": "      Id  Year_Birth   Education Marital_Status   Income  Kidhome  Teenhome  \\\n0   1826        1970  Graduation       Divorced  84835.0        0         0   \n1      1        1961  Graduation         Single  57091.0        0         0   \n2  10476        1958  Graduation        Married  67267.0        0         1   \n3   1386        1967  Graduation       Together  32474.0        1         1   \n4   5371        1989  Graduation         Single  21474.0        1         0   \n\n  Dt_Customer  Recency  MntWines  ...  MntFishProducts  MntSweetProducts  \\\n0   6/16/2014        0       189  ...              111               189   \n1   6/15/2014        0       464  ...                7                 0   \n2   5/13/2014        0       134  ...               15                 2   \n3   11/5/2014        0        10  ...                0                 0   \n4    8/4/2014        0         6  ...               11                 0   \n\n   MntGoldProds  NumDealsPurchases  NumWebPurchases  NumCatalogPurchases  \\\n0           218                  1                4                    4   \n1            37                  1                7                    3   \n2            30                  1                3                    2   \n3             0                  1                1                    0   \n4            34                  2                3                    1   \n\n   NumStorePurchases  NumWebVisitsMonth  Response  Complain  \n0                  6                  1         1         0  \n1                  7                  5         1         0  \n2                  5                  2         0         0  \n3                  2                  7         0         0  \n4                  2                  7         1         0  \n\n[5 rows x 22 columns]",
      "text/html": "<div>\n<style scoped>\n    .dataframe tbody tr th:only-of-type {\n        vertical-align: middle;\n    }\n\n    .dataframe tbody tr th {\n        vertical-align: top;\n    }\n\n    .dataframe thead th {\n        text-align: right;\n    }\n</style>\n<table border=\"1\" class=\"dataframe\">\n  <thead>\n    <tr style=\"text-align: right;\">\n      <th></th>\n      <th>Id</th>\n      <th>Year_Birth</th>\n      <th>Education</th>\n      <th>Marital_Status</th>\n      <th>Income</th>\n      <th>Kidhome</th>\n      <th>Teenhome</th>\n      <th>Dt_Customer</th>\n      <th>Recency</th>\n      <th>MntWines</th>\n      <th>...</th>\n      <th>MntFishProducts</th>\n      <th>MntSweetProducts</th>\n      <th>MntGoldProds</th>\n      <th>NumDealsPurchases</th>\n      <th>NumWebPurchases</th>\n      <th>NumCatalogPurchases</th>\n      <th>NumStorePurchases</th>\n      <th>NumWebVisitsMonth</th>\n      <th>Response</th>\n      <th>Complain</th>\n    </tr>\n  </thead>\n  <tbody>\n    <tr>\n      <th>0</th>\n      <td>1826</td>\n      <td>1970</td>\n      <td>Graduation</td>\n      <td>Divorced</td>\n      <td>84835.0</td>\n      <td>0</td>\n      <td>0</td>\n      <td>6/16/2014</td>\n      <td>0</td>\n      <td>189</td>\n      <td>...</td>\n      <td>111</td>\n      <td>189</td>\n      <td>218</td>\n      <td>1</td>\n      <td>4</td>\n      <td>4</td>\n      <td>6</td>\n      <td>1</td>\n      <td>1</td>\n      <td>0</td>\n    </tr>\n    <tr>\n      <th>1</th>\n      <td>1</td>\n      <td>1961</td>\n      <td>Graduation</td>\n      <td>Single</td>\n      <td>57091.0</td>\n      <td>0</td>\n      <td>0</td>\n      <td>6/15/2014</td>\n      <td>0</td>\n      <td>464</td>\n      <td>...</td>\n      <td>7</td>\n      <td>0</td>\n      <td>37</td>\n      <td>1</td>\n      <td>7</td>\n      <td>3</td>\n      <td>7</td>\n      <td>5</td>\n      <td>1</td>\n      <td>0</td>\n    </tr>\n    <tr>\n      <th>2</th>\n      <td>10476</td>\n      <td>1958</td>\n      <td>Graduation</td>\n      <td>Married</td>\n      <td>67267.0</td>\n      <td>0</td>\n      <td>1</td>\n      <td>5/13/2014</td>\n      <td>0</td>\n      <td>134</td>\n      <td>...</td>\n      <td>15</td>\n      <td>2</td>\n      <td>30</td>\n      <td>1</td>\n      <td>3</td>\n      <td>2</td>\n      <td>5</td>\n      <td>2</td>\n      <td>0</td>\n      <td>0</td>\n    </tr>\n    <tr>\n      <th>3</th>\n      <td>1386</td>\n      <td>1967</td>\n      <td>Graduation</td>\n      <td>Together</td>\n      <td>32474.0</td>\n      <td>1</td>\n      <td>1</td>\n      <td>11/5/2014</td>\n      <td>0</td>\n      <td>10</td>\n      <td>...</td>\n      <td>0</td>\n      <td>0</td>\n      <td>0</td>\n      <td>1</td>\n      <td>1</td>\n      <td>0</td>\n      <td>2</td>\n      <td>7</td>\n      <td>0</td>\n      <td>0</td>\n    </tr>\n    <tr>\n      <th>4</th>\n      <td>5371</td>\n      <td>1989</td>\n      <td>Graduation</td>\n      <td>Single</td>\n      <td>21474.0</td>\n      <td>1</td>\n      <td>0</td>\n      <td>8/4/2014</td>\n      <td>0</td>\n      <td>6</td>\n      <td>...</td>\n      <td>11</td>\n      <td>0</td>\n      <td>34</td>\n      <td>2</td>\n      <td>3</td>\n      <td>1</td>\n      <td>2</td>\n      <td>7</td>\n      <td>1</td>\n      <td>0</td>\n    </tr>\n  </tbody>\n</table>\n<p>5 rows × 22 columns</p>\n</div>"
     },
     "execution_count": 6,
     "metadata": {},
     "output_type": "execute_result"
    }
   ],
   "source": [
    "dados_mercado"
   ],
   "metadata": {
    "collapsed": false,
    "ExecuteTime": {
     "end_time": "2023-12-22T18:00:13.009240200Z",
     "start_time": "2023-12-22T18:00:12.994312100Z"
    }
   },
   "id": "2f5b63fb98ebf910"
  },
  {
   "cell_type": "markdown",
   "source": [
    "O erro de encoding ocorre quando a biblioteca Pandas não consegue interpretar corretamente os caracteres de um arquivo CSV. Isso pode acontecer quando ele contém caracteres especiais que não são reconhecidos pela biblioteca Pandas ou quando foi salvo em um formato de codificação diferente do esperado.\n",
    "\n",
    "Para resolver esse erro, é necessário identificar a codificação correta do arquivo CSV e especificá-la ao carregar o arquivo com a biblioteca Pandas. Essa codificação padrão é o UTF-8, mas em alguns casos, o arquivo pode ter sido salvo com uma codificação diferente, como ISO-8859-1.\n",
    "\n",
    "O UTF-8 é uma codificação de caracteres universal usada para representar caracteres de diferentes idiomas de forma compatível com a internet e com sistemas de computador em geral. A sigla UTF significa Unicode Transformation Format (Formato de Transformação Unicode) e o número 8 indica que essa codificação associa uma sequência de 1 a 4 bytes (8 a 32 bits) com cada caractere.\n",
    "\n",
    "A codificação UTF-8 é amplamente utilizada na internet e em sistemas de computador em todo o mundo, pois permite a representação de caracteres de diferentes idiomas em um único conjunto de caracteres. Além disso, essa codificação é capaz de preservar a compatibilidade com outras mais antigas, como ASCII, o que a torna uma escolha popular para a criação e compartilhamento de arquivos de texto.\n",
    "\n",
    "Pode ser que você esteja pensando neste momento: como será que a Giovanna conseguiu descobrir qual é a codificação do arquivo que ela está tentando ler?\n",
    "\n",
    "Existem algumas formas para descobrir isso, no entanto, teremos a oportunidade de experimentar uma maneira prática de fazer isso no próprio Google Colab. Vamos lá?\n",
    "\n",
    "Nós podemos usar uma biblioteca chamada chardet para detectar o encoding de um arquivo CSV. Para utilizar essa biblioteca no Google Colab, basta realizar sua importação:"
   ],
   "metadata": {
    "collapsed": false
   },
   "id": "3fe397bf3e1484b6"
  },
  {
   "cell_type": "code",
   "execution_count": 7,
   "outputs": [],
   "source": [
    "import chardet"
   ],
   "metadata": {
    "collapsed": false,
    "ExecuteTime": {
     "end_time": "2023-12-22T18:04:19.590256500Z",
     "start_time": "2023-12-22T18:04:19.527651900Z"
    }
   },
   "id": "58e2609597a96001"
  },
  {
   "cell_type": "code",
   "execution_count": 9,
   "outputs": [
    {
     "name": "stdout",
     "output_type": "stream",
     "text": [
      "{'encoding': 'ascii', 'confidence': 1.0, 'language': ''}\n"
     ]
    }
   ],
   "source": [
    "with open(url, 'rb') as file:\n",
    "    print(chardet.detect(file.read()))"
   ],
   "metadata": {
    "collapsed": false,
    "ExecuteTime": {
     "end_time": "2023-12-22T18:07:13.077351600Z",
     "start_time": "2023-12-22T18:07:13.054528600Z"
    }
   },
   "id": "9d0cdd7bbdac8628"
  },
  {
   "cell_type": "markdown",
   "source": [
    "Agora ela sabe que o arquivo CSV provavelmente possui a codificação ascii com uma confiança de 1. Para especificar a codificação correta ao carregar o arquivo CSV com a biblioteca Pandas, é possível usar um parâmetro chamado encoding:"
   ],
   "metadata": {
    "collapsed": false
   },
   "id": "c341e2f261e017cc"
  },
  {
   "cell_type": "code",
   "execution_count": 10,
   "outputs": [],
   "source": [
    "dados_mercado = pd.read_csv(url, encoding='ascii')"
   ],
   "metadata": {
    "collapsed": false,
    "ExecuteTime": {
     "end_time": "2023-12-22T18:07:40.224690300Z",
     "start_time": "2023-12-22T18:07:40.205324900Z"
    }
   },
   "id": "16e1fa7a37e966a8"
  },
  {
   "cell_type": "code",
   "execution_count": 11,
   "outputs": [
    {
     "data": {
      "text/plain": "         Id  Year_Birth   Education Marital_Status   Income  Kidhome  \\\n0      1826        1970  Graduation       Divorced  84835.0        0   \n1         1        1961  Graduation         Single  57091.0        0   \n2     10476        1958  Graduation        Married  67267.0        0   \n3      1386        1967  Graduation       Together  32474.0        1   \n4      5371        1989  Graduation         Single  21474.0        1   \n...     ...         ...         ...            ...      ...      ...   \n2235  10142        1976         PhD       Divorced  66476.0        0   \n2236   5263        1977    2n Cycle        Married  31056.0        1   \n2237     22        1976  Graduation       Divorced  46310.0        1   \n2238    528        1978  Graduation        Married  65819.0        0   \n2239   4070        1969         PhD        Married  94871.0        0   \n\n      Teenhome Dt_Customer  Recency  MntWines  ...  MntFishProducts  \\\n0            0   6/16/2014        0       189  ...              111   \n1            0   6/15/2014        0       464  ...                7   \n2            1   5/13/2014        0       134  ...               15   \n3            1   11/5/2014        0        10  ...                0   \n4            0    8/4/2014        0         6  ...               11   \n...        ...         ...      ...       ...  ...              ...   \n2235         1    7/3/2013       99       372  ...               47   \n2236         0   1/22/2013       99         5  ...                3   \n2237         0   3/12/2012       99       185  ...               15   \n2238         0  11/29/2012       99       267  ...              149   \n2239         2    1/9/2012       99       169  ...              188   \n\n      MntSweetProducts  MntGoldProds  NumDealsPurchases  NumWebPurchases  \\\n0                  189           218                  1                4   \n1                    0            37                  1                7   \n2                    2            30                  1                3   \n3                    0             0                  1                1   \n4                    0            34                  2                3   \n...                ...           ...                ...              ...   \n2235                48            78                  2                5   \n2236                 8            16                  1                1   \n2237                 5            14                  2                6   \n2238               165            63                  1                5   \n2239                 0           144                  1                8   \n\n      NumCatalogPurchases  NumStorePurchases  NumWebVisitsMonth  Response  \\\n0                       4                  6                  1         1   \n1                       3                  7                  5         1   \n2                       2                  5                  2         0   \n3                       0                  2                  7         0   \n4                       1                  2                  7         1   \n...                   ...                ...                ...       ...   \n2235                    2                 11                  4         0   \n2236                    0                  3                  8         0   \n2237                    1                  5                  8         0   \n2238                    4                 10                  3         0   \n2239                    5                  4                  7         1   \n\n      Complain  \n0            0  \n1            0  \n2            0  \n3            0  \n4            0  \n...        ...  \n2235         0  \n2236         0  \n2237         0  \n2238         0  \n2239         0  \n\n[2240 rows x 22 columns]",
      "text/html": "<div>\n<style scoped>\n    .dataframe tbody tr th:only-of-type {\n        vertical-align: middle;\n    }\n\n    .dataframe tbody tr th {\n        vertical-align: top;\n    }\n\n    .dataframe thead th {\n        text-align: right;\n    }\n</style>\n<table border=\"1\" class=\"dataframe\">\n  <thead>\n    <tr style=\"text-align: right;\">\n      <th></th>\n      <th>Id</th>\n      <th>Year_Birth</th>\n      <th>Education</th>\n      <th>Marital_Status</th>\n      <th>Income</th>\n      <th>Kidhome</th>\n      <th>Teenhome</th>\n      <th>Dt_Customer</th>\n      <th>Recency</th>\n      <th>MntWines</th>\n      <th>...</th>\n      <th>MntFishProducts</th>\n      <th>MntSweetProducts</th>\n      <th>MntGoldProds</th>\n      <th>NumDealsPurchases</th>\n      <th>NumWebPurchases</th>\n      <th>NumCatalogPurchases</th>\n      <th>NumStorePurchases</th>\n      <th>NumWebVisitsMonth</th>\n      <th>Response</th>\n      <th>Complain</th>\n    </tr>\n  </thead>\n  <tbody>\n    <tr>\n      <th>0</th>\n      <td>1826</td>\n      <td>1970</td>\n      <td>Graduation</td>\n      <td>Divorced</td>\n      <td>84835.0</td>\n      <td>0</td>\n      <td>0</td>\n      <td>6/16/2014</td>\n      <td>0</td>\n      <td>189</td>\n      <td>...</td>\n      <td>111</td>\n      <td>189</td>\n      <td>218</td>\n      <td>1</td>\n      <td>4</td>\n      <td>4</td>\n      <td>6</td>\n      <td>1</td>\n      <td>1</td>\n      <td>0</td>\n    </tr>\n    <tr>\n      <th>1</th>\n      <td>1</td>\n      <td>1961</td>\n      <td>Graduation</td>\n      <td>Single</td>\n      <td>57091.0</td>\n      <td>0</td>\n      <td>0</td>\n      <td>6/15/2014</td>\n      <td>0</td>\n      <td>464</td>\n      <td>...</td>\n      <td>7</td>\n      <td>0</td>\n      <td>37</td>\n      <td>1</td>\n      <td>7</td>\n      <td>3</td>\n      <td>7</td>\n      <td>5</td>\n      <td>1</td>\n      <td>0</td>\n    </tr>\n    <tr>\n      <th>2</th>\n      <td>10476</td>\n      <td>1958</td>\n      <td>Graduation</td>\n      <td>Married</td>\n      <td>67267.0</td>\n      <td>0</td>\n      <td>1</td>\n      <td>5/13/2014</td>\n      <td>0</td>\n      <td>134</td>\n      <td>...</td>\n      <td>15</td>\n      <td>2</td>\n      <td>30</td>\n      <td>1</td>\n      <td>3</td>\n      <td>2</td>\n      <td>5</td>\n      <td>2</td>\n      <td>0</td>\n      <td>0</td>\n    </tr>\n    <tr>\n      <th>3</th>\n      <td>1386</td>\n      <td>1967</td>\n      <td>Graduation</td>\n      <td>Together</td>\n      <td>32474.0</td>\n      <td>1</td>\n      <td>1</td>\n      <td>11/5/2014</td>\n      <td>0</td>\n      <td>10</td>\n      <td>...</td>\n      <td>0</td>\n      <td>0</td>\n      <td>0</td>\n      <td>1</td>\n      <td>1</td>\n      <td>0</td>\n      <td>2</td>\n      <td>7</td>\n      <td>0</td>\n      <td>0</td>\n    </tr>\n    <tr>\n      <th>4</th>\n      <td>5371</td>\n      <td>1989</td>\n      <td>Graduation</td>\n      <td>Single</td>\n      <td>21474.0</td>\n      <td>1</td>\n      <td>0</td>\n      <td>8/4/2014</td>\n      <td>0</td>\n      <td>6</td>\n      <td>...</td>\n      <td>11</td>\n      <td>0</td>\n      <td>34</td>\n      <td>2</td>\n      <td>3</td>\n      <td>1</td>\n      <td>2</td>\n      <td>7</td>\n      <td>1</td>\n      <td>0</td>\n    </tr>\n    <tr>\n      <th>...</th>\n      <td>...</td>\n      <td>...</td>\n      <td>...</td>\n      <td>...</td>\n      <td>...</td>\n      <td>...</td>\n      <td>...</td>\n      <td>...</td>\n      <td>...</td>\n      <td>...</td>\n      <td>...</td>\n      <td>...</td>\n      <td>...</td>\n      <td>...</td>\n      <td>...</td>\n      <td>...</td>\n      <td>...</td>\n      <td>...</td>\n      <td>...</td>\n      <td>...</td>\n      <td>...</td>\n    </tr>\n    <tr>\n      <th>2235</th>\n      <td>10142</td>\n      <td>1976</td>\n      <td>PhD</td>\n      <td>Divorced</td>\n      <td>66476.0</td>\n      <td>0</td>\n      <td>1</td>\n      <td>7/3/2013</td>\n      <td>99</td>\n      <td>372</td>\n      <td>...</td>\n      <td>47</td>\n      <td>48</td>\n      <td>78</td>\n      <td>2</td>\n      <td>5</td>\n      <td>2</td>\n      <td>11</td>\n      <td>4</td>\n      <td>0</td>\n      <td>0</td>\n    </tr>\n    <tr>\n      <th>2236</th>\n      <td>5263</td>\n      <td>1977</td>\n      <td>2n Cycle</td>\n      <td>Married</td>\n      <td>31056.0</td>\n      <td>1</td>\n      <td>0</td>\n      <td>1/22/2013</td>\n      <td>99</td>\n      <td>5</td>\n      <td>...</td>\n      <td>3</td>\n      <td>8</td>\n      <td>16</td>\n      <td>1</td>\n      <td>1</td>\n      <td>0</td>\n      <td>3</td>\n      <td>8</td>\n      <td>0</td>\n      <td>0</td>\n    </tr>\n    <tr>\n      <th>2237</th>\n      <td>22</td>\n      <td>1976</td>\n      <td>Graduation</td>\n      <td>Divorced</td>\n      <td>46310.0</td>\n      <td>1</td>\n      <td>0</td>\n      <td>3/12/2012</td>\n      <td>99</td>\n      <td>185</td>\n      <td>...</td>\n      <td>15</td>\n      <td>5</td>\n      <td>14</td>\n      <td>2</td>\n      <td>6</td>\n      <td>1</td>\n      <td>5</td>\n      <td>8</td>\n      <td>0</td>\n      <td>0</td>\n    </tr>\n    <tr>\n      <th>2238</th>\n      <td>528</td>\n      <td>1978</td>\n      <td>Graduation</td>\n      <td>Married</td>\n      <td>65819.0</td>\n      <td>0</td>\n      <td>0</td>\n      <td>11/29/2012</td>\n      <td>99</td>\n      <td>267</td>\n      <td>...</td>\n      <td>149</td>\n      <td>165</td>\n      <td>63</td>\n      <td>1</td>\n      <td>5</td>\n      <td>4</td>\n      <td>10</td>\n      <td>3</td>\n      <td>0</td>\n      <td>0</td>\n    </tr>\n    <tr>\n      <th>2239</th>\n      <td>4070</td>\n      <td>1969</td>\n      <td>PhD</td>\n      <td>Married</td>\n      <td>94871.0</td>\n      <td>0</td>\n      <td>2</td>\n      <td>1/9/2012</td>\n      <td>99</td>\n      <td>169</td>\n      <td>...</td>\n      <td>188</td>\n      <td>0</td>\n      <td>144</td>\n      <td>1</td>\n      <td>8</td>\n      <td>5</td>\n      <td>4</td>\n      <td>7</td>\n      <td>1</td>\n      <td>0</td>\n    </tr>\n  </tbody>\n</table>\n<p>2240 rows × 22 columns</p>\n</div>"
     },
     "execution_count": 11,
     "metadata": {},
     "output_type": "execute_result"
    }
   ],
   "source": [
    "dados_mercado"
   ],
   "metadata": {
    "collapsed": false,
    "ExecuteTime": {
     "end_time": "2023-12-22T18:07:44.974826Z",
     "start_time": "2023-12-22T18:07:44.942496500Z"
    }
   },
   "id": "36e55b7009c0a266"
  },
  {
   "cell_type": "markdown",
   "source": [
    "Então, se algum dia você tentar ler um arquivo e surgir esse mesmo erro, lembre-se dessa dica!\n",
    "\n",
    "Caso queira aprofundar o assunto, deixamos alguns links para materiais que foram utilizados como referência:\n",
    "\n",
    "Instituto de Matemática e Estatística - IME/USP: Unicode e UTF-8\n",
    "IBM: O que é Unicode\n",
    "Kaggle:Character Encodings"
   ],
   "metadata": {
    "collapsed": false
   },
   "id": "7a6468ecd0aa5025"
  }
 ],
 "metadata": {
  "kernelspec": {
   "display_name": "Python 3",
   "language": "python",
   "name": "python3"
  },
  "language_info": {
   "codemirror_mode": {
    "name": "ipython",
    "version": 2
   },
   "file_extension": ".py",
   "mimetype": "text/x-python",
   "name": "python",
   "nbconvert_exporter": "python",
   "pygments_lexer": "ipython2",
   "version": "2.7.6"
  }
 },
 "nbformat": 4,
 "nbformat_minor": 5
}
