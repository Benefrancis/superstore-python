{
 "cells": [
  {
   "cell_type": "code",
   "execution_count": 3,
   "id": "initial_id",
   "metadata": {
    "collapsed": true,
    "ExecuteTime": {
     "end_time": "2023-12-23T17:50:04.321831400Z",
     "start_time": "2023-12-23T17:50:04.316787100Z"
    }
   },
   "outputs": [],
   "source": [
    "import pandas as pd\n",
    "import sqlalchemy\n"
   ]
  },
  {
   "cell_type": "code",
   "execution_count": 2,
   "outputs": [
    {
     "data": {
      "text/plain": "'1.4.39'"
     },
     "execution_count": 2,
     "metadata": {},
     "output_type": "execute_result"
    }
   ],
   "source": [
    "sqlalchemy.__version__\n"
   ],
   "metadata": {
    "collapsed": false,
    "ExecuteTime": {
     "end_time": "2023-12-23T17:47:30.920881800Z",
     "start_time": "2023-12-23T17:47:30.894354Z"
    }
   },
   "id": "d8835cea3b55d191"
  },
  {
   "cell_type": "markdown",
   "source": [
    "Se a versão da SQLAlchemy for 2.0.16 ou uma versão mais atual, você deve atualizá-la para uma versão inferior a 2.0 com o seguinte código:\n",
    "Após a instalação bem-sucedida, é importante reiniciar o ambiente de execução do Google Colab para garantir que as alterações sejam aplicadas.\n",
    "\n",
    "Para fazer isso, clique no menu superior em \"Ambiente de execução\" e selecione a opção \"Reiniciar ambiente de execução\". Depois de reiniciar, você pode executar as células novamente e prosseguir com os próximos códigos.\n",
    "\n",
    "Está tudo certo com a versão da SQLAlchemy aí? Se sim, vamos para a aula!"
   ],
   "metadata": {
    "collapsed": false
   },
   "id": "1ba5d73dbc586029"
  },
  {
   "cell_type": "code",
   "execution_count": 11,
   "outputs": [],
   "source": [
    "from sqlalchemy import create_engine, MetaData, Table, Column, inspect"
   ],
   "metadata": {
    "collapsed": false,
    "ExecuteTime": {
     "end_time": "2023-12-23T17:55:43.206458400Z",
     "start_time": "2023-12-23T17:55:43.201176400Z"
    }
   },
   "id": "3ca8f597c55eac28"
  },
  {
   "cell_type": "code",
   "execution_count": 6,
   "outputs": [],
   "source": [
    "engine = create_engine('sqlite:///:memory:', echo=True)"
   ],
   "metadata": {
    "collapsed": false,
    "ExecuteTime": {
     "end_time": "2023-12-23T17:51:44.002850900Z",
     "start_time": "2023-12-23T17:51:43.971591500Z"
    }
   },
   "id": "909d22ec60268f5f"
  },
  {
   "cell_type": "markdown",
   "source": [
    "Nesse caso, usaremos o SQLite, um banco de dados que vem naturalmente instalado no Google Colab. Nesse trecho de código o memory indica que estamos usando um banco de dados local.\n",
    "Nosso banco foi criado, já podemos começar a utilizá-lo.\n",
    "\n",
    "O próximo desafio é pegar o arquivo CSV e colocar dentro desse banco.\n",
    "\n",
    "Bancos de dados são sistemas que permitem o armazenamento, organização e recuperação de informações de forma estruturada e eficiente. Eles são amplamente utilizados em muitas áreas, desde gerenciamento de negócios à pesquisa científica. Um banco de dados bem projetado pode melhorar significativamente a eficiência e a precisão das operações de uma organização.\n",
    "\n",
    "Existem bancos de dados relacionais e não-relacionais. Os bancos de dados relacionais representam e armazenam dados em tabelas. Já os não-relacionais, também conhecidos como bancos de dados NoSQL (Not Only SQL - Não SQL), usam uma variedade de estruturas de dados, como documentos, grafos ou pares de chave-valor.\n",
    "\n",
    "Python oferece vários pacotes e bibliotecas para trabalhar com bancos de dados, incluindo SQLite, MySQL, PostgreSQL, Oracle, MongoDB, entre outros. Um dos pacotes mais comuns usados para trabalhar com bancos de dados relacionais em Python é o pacote sqlite3 que oferece suporte a bancos de dados SQLite. Este banco de dados é leve e incorporado que não exige um servidor separado para ser executado que já vem nativamente instalado no Google Colab.\n",
    "\n",
    "Para trabalhar com esse banco podemos utilizar a SQLAlchemy, uma biblioteca de mapeamento objeto-relacional (ORM), que possibilita interagir com bancos de dados relacionais usando código Python. Ela fornece uma camada de abstração que permite aos desenvolvedores trabalhar com objetos Python em vez de lidar diretamente com as complexidades da linguagem SQL (Structured Query Language - Linguagem de consulta estruturada).\n",
    "\n",
    "Uma das principais vantagens do uso de SQLAchemy é a capacidade de criar código mais legível e fácil de manter. Com SQLAlchemy, as operações do banco de dados são executadas usando métodos em objetos Python, tornando o código mais claro e menos propenso a erros.\n",
    "\n",
    "Além disso, a SQLAlchemy oferece suporte a consultas complexas em bancos de dados, permitindo que pessoas desenvolvedoras extraiam facilmente informações relevantes de grandes conjuntos de dados. Isso é especialmente útil em aplicações que precisam lidar com grandes quantidades de dados.\n",
    "\n",
    "Você pode encontrar mais detalhes sobre a biblioteca SQLAchemy na documentação.\n",
    "https://www.sqlalchemy.org/"
   ],
   "metadata": {
    "collapsed": false
   },
   "id": "cba9577658324d6f"
  },
  {
   "cell_type": "code",
   "execution_count": 7,
   "outputs": [],
   "source": [
    "#Código omitido\n",
    "\n",
    "url = 'data/clientes_banco.csv'\n",
    "dados = pd.read_csv(url)\n"
   ],
   "metadata": {
    "collapsed": false,
    "ExecuteTime": {
     "end_time": "2023-12-23T17:53:47.461590700Z",
     "start_time": "2023-12-23T17:53:46.697034600Z"
    }
   },
   "id": "17cf68fe604141b8"
  },
  {
   "cell_type": "code",
   "execution_count": 8,
   "outputs": [
    {
     "data": {
      "text/plain": "        ID_Cliente  Idade Grau_escolaridade   Estado_civil  Tamanho_familia  \\\n0          5008804     32   Ensino superior  União-estável                2   \n1          5008805     32   Ensino superior  União-estável                2   \n2          5008806     58      Ensino médio         Casado                2   \n3          5008808     52      Ensino médio       Solteiro                1   \n4          5008809     52      Ensino médio       Solteiro                1   \n...            ...    ...               ...            ...              ...   \n438458     6840104     62      Ensino médio     Divorciado                1   \n438459     6840222     43      Ensino médio       Solteiro                1   \n438460     6841878     22   Ensino superior       Solteiro                1   \n438461     6842765     59      Ensino médio         Casado                2   \n438462     6842885     51      Ensino médio         Casado                2   \n\n         Categoria_de_renda          Ocupacao  Anos_empregado  \\\n0                 Empregado             Outro              12   \n1                 Empregado             Outro              12   \n2                 Empregado         Segurança               3   \n3       Associado comercial            Vendas               8   \n4       Associado comercial            Vendas               8   \n...                     ...               ...             ...   \n438458          Pensionista             Outro               0   \n438459            Empregado  Construção Civil               8   \n438460  Associado comercial            Vendas               1   \n438461          Pensionista             Outro               0   \n438462            Empregado            Vendas               3   \n\n        Rendimento_anual  Tem_carro                   Moradia  \n0               427500.0          1       Apartamento alugado  \n1               427500.0          1       Apartamento alugado  \n2               112500.0          1  Casa/apartamento próprio  \n3               270000.0          0  Casa/apartamento próprio  \n4               270000.0          0  Casa/apartamento próprio  \n...                  ...        ...                       ...  \n438458          135000.0          0  Casa/apartamento próprio  \n438459          103500.0          0  Casa/apartamento próprio  \n438460           54000.0          0          Mora com os pais  \n438461           72000.0          0  Casa/apartamento próprio  \n438462          121500.0          0  Casa/apartamento próprio  \n\n[438463 rows x 11 columns]",
      "text/html": "<div>\n<style scoped>\n    .dataframe tbody tr th:only-of-type {\n        vertical-align: middle;\n    }\n\n    .dataframe tbody tr th {\n        vertical-align: top;\n    }\n\n    .dataframe thead th {\n        text-align: right;\n    }\n</style>\n<table border=\"1\" class=\"dataframe\">\n  <thead>\n    <tr style=\"text-align: right;\">\n      <th></th>\n      <th>ID_Cliente</th>\n      <th>Idade</th>\n      <th>Grau_escolaridade</th>\n      <th>Estado_civil</th>\n      <th>Tamanho_familia</th>\n      <th>Categoria_de_renda</th>\n      <th>Ocupacao</th>\n      <th>Anos_empregado</th>\n      <th>Rendimento_anual</th>\n      <th>Tem_carro</th>\n      <th>Moradia</th>\n    </tr>\n  </thead>\n  <tbody>\n    <tr>\n      <th>0</th>\n      <td>5008804</td>\n      <td>32</td>\n      <td>Ensino superior</td>\n      <td>União-estável</td>\n      <td>2</td>\n      <td>Empregado</td>\n      <td>Outro</td>\n      <td>12</td>\n      <td>427500.0</td>\n      <td>1</td>\n      <td>Apartamento alugado</td>\n    </tr>\n    <tr>\n      <th>1</th>\n      <td>5008805</td>\n      <td>32</td>\n      <td>Ensino superior</td>\n      <td>União-estável</td>\n      <td>2</td>\n      <td>Empregado</td>\n      <td>Outro</td>\n      <td>12</td>\n      <td>427500.0</td>\n      <td>1</td>\n      <td>Apartamento alugado</td>\n    </tr>\n    <tr>\n      <th>2</th>\n      <td>5008806</td>\n      <td>58</td>\n      <td>Ensino médio</td>\n      <td>Casado</td>\n      <td>2</td>\n      <td>Empregado</td>\n      <td>Segurança</td>\n      <td>3</td>\n      <td>112500.0</td>\n      <td>1</td>\n      <td>Casa/apartamento próprio</td>\n    </tr>\n    <tr>\n      <th>3</th>\n      <td>5008808</td>\n      <td>52</td>\n      <td>Ensino médio</td>\n      <td>Solteiro</td>\n      <td>1</td>\n      <td>Associado comercial</td>\n      <td>Vendas</td>\n      <td>8</td>\n      <td>270000.0</td>\n      <td>0</td>\n      <td>Casa/apartamento próprio</td>\n    </tr>\n    <tr>\n      <th>4</th>\n      <td>5008809</td>\n      <td>52</td>\n      <td>Ensino médio</td>\n      <td>Solteiro</td>\n      <td>1</td>\n      <td>Associado comercial</td>\n      <td>Vendas</td>\n      <td>8</td>\n      <td>270000.0</td>\n      <td>0</td>\n      <td>Casa/apartamento próprio</td>\n    </tr>\n    <tr>\n      <th>...</th>\n      <td>...</td>\n      <td>...</td>\n      <td>...</td>\n      <td>...</td>\n      <td>...</td>\n      <td>...</td>\n      <td>...</td>\n      <td>...</td>\n      <td>...</td>\n      <td>...</td>\n      <td>...</td>\n    </tr>\n    <tr>\n      <th>438458</th>\n      <td>6840104</td>\n      <td>62</td>\n      <td>Ensino médio</td>\n      <td>Divorciado</td>\n      <td>1</td>\n      <td>Pensionista</td>\n      <td>Outro</td>\n      <td>0</td>\n      <td>135000.0</td>\n      <td>0</td>\n      <td>Casa/apartamento próprio</td>\n    </tr>\n    <tr>\n      <th>438459</th>\n      <td>6840222</td>\n      <td>43</td>\n      <td>Ensino médio</td>\n      <td>Solteiro</td>\n      <td>1</td>\n      <td>Empregado</td>\n      <td>Construção Civil</td>\n      <td>8</td>\n      <td>103500.0</td>\n      <td>0</td>\n      <td>Casa/apartamento próprio</td>\n    </tr>\n    <tr>\n      <th>438460</th>\n      <td>6841878</td>\n      <td>22</td>\n      <td>Ensino superior</td>\n      <td>Solteiro</td>\n      <td>1</td>\n      <td>Associado comercial</td>\n      <td>Vendas</td>\n      <td>1</td>\n      <td>54000.0</td>\n      <td>0</td>\n      <td>Mora com os pais</td>\n    </tr>\n    <tr>\n      <th>438461</th>\n      <td>6842765</td>\n      <td>59</td>\n      <td>Ensino médio</td>\n      <td>Casado</td>\n      <td>2</td>\n      <td>Pensionista</td>\n      <td>Outro</td>\n      <td>0</td>\n      <td>72000.0</td>\n      <td>0</td>\n      <td>Casa/apartamento próprio</td>\n    </tr>\n    <tr>\n      <th>438462</th>\n      <td>6842885</td>\n      <td>51</td>\n      <td>Ensino médio</td>\n      <td>Casado</td>\n      <td>2</td>\n      <td>Empregado</td>\n      <td>Vendas</td>\n      <td>3</td>\n      <td>121500.0</td>\n      <td>0</td>\n      <td>Casa/apartamento próprio</td>\n    </tr>\n  </tbody>\n</table>\n<p>438463 rows × 11 columns</p>\n</div>"
     },
     "execution_count": 8,
     "metadata": {},
     "output_type": "execute_result"
    }
   ],
   "source": [
    "dados"
   ],
   "metadata": {
    "collapsed": false,
    "ExecuteTime": {
     "end_time": "2023-12-23T17:53:50.312562700Z",
     "start_time": "2023-12-23T17:53:50.290263100Z"
    }
   },
   "id": "e2aff827a790a229"
  },
  {
   "cell_type": "markdown",
   "source": [
    "São várias informações dos clientes da instituição financeira.\n",
    "\n",
    "Para colocá-las no nosso banco de dados utilizaremos a função dados.to_sql(), que deixará o dataframe no formato do banco. Dentro do parênteses, colocamos duas aspas simples e definimos o nome da tabela que será criada. Nesse caso será 'clientes'.\n",
    "\n",
    "Na mesma linha inserimos uma vírgula e escrevemos a variável engine, que é o motor do banco. Por fim, escrevemos o parâmetro index=False."
   ],
   "metadata": {
    "collapsed": false
   },
   "id": "a65a6e09ed23ef37"
  },
  {
   "cell_type": "code",
   "execution_count": 10,
   "outputs": [
    {
     "name": "stdout",
     "output_type": "stream",
     "text": [
      "2023-12-23 14:55:03,773 INFO sqlalchemy.engine.Engine BEGIN (implicit)\n",
      "2023-12-23 14:55:03,800 INFO sqlalchemy.engine.Engine PRAGMA main.table_info(\"clientes\")\n",
      "2023-12-23 14:55:03,801 INFO sqlalchemy.engine.Engine [raw sql] ()\n",
      "2023-12-23 14:55:03,803 INFO sqlalchemy.engine.Engine PRAGMA temp.table_info(\"clientes\")\n",
      "2023-12-23 14:55:03,804 INFO sqlalchemy.engine.Engine [raw sql] ()\n",
      "2023-12-23 14:55:03,806 INFO sqlalchemy.engine.Engine \n",
      "CREATE TABLE clientes (\n",
      "\t\"ID_Cliente\" BIGINT, \n",
      "\t\"Idade\" BIGINT, \n",
      "\t\"Grau_escolaridade\" TEXT, \n",
      "\t\"Estado_civil\" TEXT, \n",
      "\t\"Tamanho_familia\" BIGINT, \n",
      "\t\"Categoria_de_renda\" TEXT, \n",
      "\t\"Ocupacao\" TEXT, \n",
      "\t\"Anos_empregado\" BIGINT, \n",
      "\t\"Rendimento_anual\" FLOAT, \n",
      "\t\"Tem_carro\" BIGINT, \n",
      "\t\"Moradia\" TEXT\n",
      ")\n",
      "\n",
      "\n",
      "2023-12-23 14:55:03,807 INFO sqlalchemy.engine.Engine [no key 0.00096s] ()\n",
      "2023-12-23 14:55:10,489 INFO sqlalchemy.engine.Engine INSERT INTO clientes (\"ID_Cliente\", \"Idade\", \"Grau_escolaridade\", \"Estado_civil\", \"Tamanho_familia\", \"Categoria_de_renda\", \"Ocupacao\", \"Anos_empregado\", \"Rendimento_anual\", \"Tem_carro\", \"Moradia\") VALUES (?, ?, ?, ?, ?, ?, ?, ?, ?, ?, ?)\n",
      "2023-12-23 14:55:10,490 INFO sqlalchemy.engine.Engine [generated in 5.10802s] ((5008804, 32, 'Ensino superior', 'União-estável', 2, 'Empregado', 'Outro', 12, 427500.0, 1, 'Apartamento alugado'), (5008805, 32, 'Ensino superior', 'União-estável', 2, 'Empregado', 'Outro', 12, 427500.0, 1, 'Apartamento alugado'), (5008806, 58, 'Ensino médio', 'Casado', 2, 'Empregado', 'Segurança', 3, 112500.0, 1, 'Casa/apartamento próprio'), (5008808, 52, 'Ensino médio', 'Solteiro', 1, 'Associado comercial', 'Vendas', 8, 270000.0, 0, 'Casa/apartamento próprio'), (5008809, 52, 'Ensino médio', 'Solteiro', 1, 'Associado comercial', 'Vendas', 8, 270000.0, 0, 'Casa/apartamento próprio'), (5008810, 52, 'Ensino médio', 'Solteiro', 1, 'Associado comercial', 'Vendas', 8, 270000.0, 0, 'Casa/apartamento próprio'), (5008811, 52, 'Ensino médio', 'Solteiro', 1, 'Associado comercial', 'Vendas', 8, 270000.0, 0, 'Casa/apartamento próprio'), (5008812, 61, 'Ensino superior', 'Divorciado', 1, 'Pensionista', 'Outro', 0, 283500.0, 0, 'Casa/apartamento próprio')  ... displaying 10 of 438463 total bound parameter sets ...  (6842765, 59, 'Ensino médio', 'Casado', 2, 'Pensionista', 'Outro', 0, 72000.0, 0, 'Casa/apartamento próprio'), (6842885, 51, 'Ensino médio', 'Casado', 2, 'Empregado', 'Vendas', 3, 121500.0, 0, 'Casa/apartamento próprio'))\n",
      "2023-12-23 14:55:12,247 INFO sqlalchemy.engine.Engine COMMIT\n"
     ]
    },
    {
     "data": {
      "text/plain": "438463"
     },
     "execution_count": 10,
     "metadata": {},
     "output_type": "execute_result"
    }
   ],
   "source": [
    "dados.to_sql('clientes', engine, index=False)"
   ],
   "metadata": {
    "collapsed": false,
    "ExecuteTime": {
     "end_time": "2023-12-23T17:55:12.277332200Z",
     "start_time": "2023-12-23T17:55:03.775603200Z"
    }
   },
   "id": "6b01bda08ea10cef"
  },
  {
   "cell_type": "markdown",
   "source": [
    "Pronto, passamos os arquivos para o to_sql().\n",
    "\n",
    "Mas, como sabemos se a tabela foi realmente criada no banco de dados?\n",
    "\n",
    "Lembra que anteriormente importamos uma função chamada Função Inspect? Vamos utilizá-la novamente para inspecionar o banco de dados.\n",
    "\n",
    "Criamos uma variável chamada inspector. Inserimos o símbolo de igual seguido da função inspect(). Dentro dela, vamos passar o engine e executar a célula.\n",
    "\n",
    "Dessa forma, conseguimos verificar o que temos no banco de dados e inspecionar algumas informações."
   ],
   "metadata": {
    "collapsed": false
   },
   "id": "9baa9c859854c45c"
  },
  {
   "cell_type": "code",
   "execution_count": 12,
   "outputs": [],
   "source": [
    "#Código omitido\n",
    "\n",
    "inspector = inspect(engine)"
   ],
   "metadata": {
    "collapsed": false,
    "ExecuteTime": {
     "end_time": "2023-12-23T17:55:48.585543800Z",
     "start_time": "2023-12-23T17:55:48.574236300Z"
    }
   },
   "id": "b794143d3bab5ddb"
  },
  {
   "cell_type": "code",
   "execution_count": 13,
   "outputs": [
    {
     "name": "stdout",
     "output_type": "stream",
     "text": [
      "2023-12-23 14:55:56,716 INFO sqlalchemy.engine.Engine SELECT name FROM sqlite_master WHERE type='table' ORDER BY name\n",
      "2023-12-23 14:55:56,717 INFO sqlalchemy.engine.Engine [raw sql] ()\n",
      "['clientes', 'data/clientes']\n"
     ]
    }
   ],
   "source": [
    "print(inspector.get_table_names())"
   ],
   "metadata": {
    "collapsed": false,
    "ExecuteTime": {
     "end_time": "2023-12-23T17:55:56.742374800Z",
     "start_time": "2023-12-23T17:55:56.717125Z"
    }
   },
   "id": "8d1c13b5fbc9e360"
  },
  {
   "cell_type": "markdown",
   "source": [
    "Essa é a tabela clientes que criamos anteriormente. Isso significa que deu certo.\n",
    "\n",
    "A seguir descobriremos como fazer consultas SQL.\n"
   ],
   "metadata": {
    "collapsed": false
   },
   "id": "fcb8210fc5a17457"
  },
  {
   "cell_type": "code",
   "execution_count": 15,
   "outputs": [
    {
     "name": "stdout",
     "output_type": "stream",
     "text": [
      "2023-12-23 14:57:04,453 INFO sqlalchemy.engine.Engine PRAGMA main.table_info(\"SELECT  * FROM clientes WHERE Categoria_de_renda=\"\"Empregado\"\"\")\n",
      "2023-12-23 14:57:04,454 INFO sqlalchemy.engine.Engine [raw sql] ()\n",
      "2023-12-23 14:57:04,456 INFO sqlalchemy.engine.Engine PRAGMA temp.table_info(\"SELECT  * FROM clientes WHERE Categoria_de_renda=\"\"Empregado\"\"\")\n",
      "2023-12-23 14:57:04,457 INFO sqlalchemy.engine.Engine [raw sql] ()\n",
      "2023-12-23 14:57:04,458 INFO sqlalchemy.engine.Engine SELECT  * FROM clientes WHERE Categoria_de_renda=\"Empregado\"\n",
      "2023-12-23 14:57:04,459 INFO sqlalchemy.engine.Engine [raw sql] ()\n"
     ]
    }
   ],
   "source": [
    "query = 'SELECT  * FROM clientes WHERE Categoria_de_renda=\"Empregado\"'\n",
    "empregados = pd.read_sql(query, engine)"
   ],
   "metadata": {
    "collapsed": false,
    "ExecuteTime": {
     "end_time": "2023-12-23T17:57:06.608666600Z",
     "start_time": "2023-12-23T17:57:04.454758700Z"
    }
   },
   "id": "6377216fa2b12b1f"
  },
  {
   "cell_type": "code",
   "execution_count": 16,
   "outputs": [
    {
     "data": {
      "text/plain": "        ID_Cliente  Idade Grau_escolaridade   Estado_civil  Tamanho_familia  \\\n0          5008804     32   Ensino superior  União-estável                2   \n1          5008805     32   Ensino superior  União-estável                2   \n2          5008806     58      Ensino médio         Casado                2   \n3          5008815     46   Ensino superior         Casado                2   \n4          5112956     46   Ensino superior         Casado                2   \n...            ...    ...               ...            ...              ...   \n226054     6837905     43      Ensino médio         Casado                3   \n226055     6837906     43      Ensino médio         Casado                3   \n226056     6839936     34      Ensino médio         Casado                3   \n226057     6840222     43      Ensino médio       Solteiro                1   \n226058     6842885     51      Ensino médio         Casado                2   \n\n       Categoria_de_renda          Ocupacao  Anos_empregado  Rendimento_anual  \\\n0               Empregado             Outro              12          427500.0   \n1               Empregado             Outro              12          427500.0   \n2               Empregado         Segurança               3          112500.0   \n3               Empregado     Contabilidade               2          270000.0   \n4               Empregado     Contabilidade               2          270000.0   \n...                   ...               ...             ...               ...   \n226054          Empregado             Outro               7          355050.0   \n226055          Empregado             Outro               7          355050.0   \n226056          Empregado  Construção Civil               5          135000.0   \n226057          Empregado  Construção Civil               8          103500.0   \n226058          Empregado            Vendas               3          121500.0   \n\n        Tem_carro                   Moradia  \n0               1       Apartamento alugado  \n1               1       Apartamento alugado  \n2               1  Casa/apartamento próprio  \n3               1  Casa/apartamento próprio  \n4               1  Casa/apartamento próprio  \n...           ...                       ...  \n226054          1  Casa/apartamento próprio  \n226055          1  Casa/apartamento próprio  \n226056          1  Casa/apartamento próprio  \n226057          0  Casa/apartamento próprio  \n226058          0  Casa/apartamento próprio  \n\n[226059 rows x 11 columns]",
      "text/html": "<div>\n<style scoped>\n    .dataframe tbody tr th:only-of-type {\n        vertical-align: middle;\n    }\n\n    .dataframe tbody tr th {\n        vertical-align: top;\n    }\n\n    .dataframe thead th {\n        text-align: right;\n    }\n</style>\n<table border=\"1\" class=\"dataframe\">\n  <thead>\n    <tr style=\"text-align: right;\">\n      <th></th>\n      <th>ID_Cliente</th>\n      <th>Idade</th>\n      <th>Grau_escolaridade</th>\n      <th>Estado_civil</th>\n      <th>Tamanho_familia</th>\n      <th>Categoria_de_renda</th>\n      <th>Ocupacao</th>\n      <th>Anos_empregado</th>\n      <th>Rendimento_anual</th>\n      <th>Tem_carro</th>\n      <th>Moradia</th>\n    </tr>\n  </thead>\n  <tbody>\n    <tr>\n      <th>0</th>\n      <td>5008804</td>\n      <td>32</td>\n      <td>Ensino superior</td>\n      <td>União-estável</td>\n      <td>2</td>\n      <td>Empregado</td>\n      <td>Outro</td>\n      <td>12</td>\n      <td>427500.0</td>\n      <td>1</td>\n      <td>Apartamento alugado</td>\n    </tr>\n    <tr>\n      <th>1</th>\n      <td>5008805</td>\n      <td>32</td>\n      <td>Ensino superior</td>\n      <td>União-estável</td>\n      <td>2</td>\n      <td>Empregado</td>\n      <td>Outro</td>\n      <td>12</td>\n      <td>427500.0</td>\n      <td>1</td>\n      <td>Apartamento alugado</td>\n    </tr>\n    <tr>\n      <th>2</th>\n      <td>5008806</td>\n      <td>58</td>\n      <td>Ensino médio</td>\n      <td>Casado</td>\n      <td>2</td>\n      <td>Empregado</td>\n      <td>Segurança</td>\n      <td>3</td>\n      <td>112500.0</td>\n      <td>1</td>\n      <td>Casa/apartamento próprio</td>\n    </tr>\n    <tr>\n      <th>3</th>\n      <td>5008815</td>\n      <td>46</td>\n      <td>Ensino superior</td>\n      <td>Casado</td>\n      <td>2</td>\n      <td>Empregado</td>\n      <td>Contabilidade</td>\n      <td>2</td>\n      <td>270000.0</td>\n      <td>1</td>\n      <td>Casa/apartamento próprio</td>\n    </tr>\n    <tr>\n      <th>4</th>\n      <td>5112956</td>\n      <td>46</td>\n      <td>Ensino superior</td>\n      <td>Casado</td>\n      <td>2</td>\n      <td>Empregado</td>\n      <td>Contabilidade</td>\n      <td>2</td>\n      <td>270000.0</td>\n      <td>1</td>\n      <td>Casa/apartamento próprio</td>\n    </tr>\n    <tr>\n      <th>...</th>\n      <td>...</td>\n      <td>...</td>\n      <td>...</td>\n      <td>...</td>\n      <td>...</td>\n      <td>...</td>\n      <td>...</td>\n      <td>...</td>\n      <td>...</td>\n      <td>...</td>\n      <td>...</td>\n    </tr>\n    <tr>\n      <th>226054</th>\n      <td>6837905</td>\n      <td>43</td>\n      <td>Ensino médio</td>\n      <td>Casado</td>\n      <td>3</td>\n      <td>Empregado</td>\n      <td>Outro</td>\n      <td>7</td>\n      <td>355050.0</td>\n      <td>1</td>\n      <td>Casa/apartamento próprio</td>\n    </tr>\n    <tr>\n      <th>226055</th>\n      <td>6837906</td>\n      <td>43</td>\n      <td>Ensino médio</td>\n      <td>Casado</td>\n      <td>3</td>\n      <td>Empregado</td>\n      <td>Outro</td>\n      <td>7</td>\n      <td>355050.0</td>\n      <td>1</td>\n      <td>Casa/apartamento próprio</td>\n    </tr>\n    <tr>\n      <th>226056</th>\n      <td>6839936</td>\n      <td>34</td>\n      <td>Ensino médio</td>\n      <td>Casado</td>\n      <td>3</td>\n      <td>Empregado</td>\n      <td>Construção Civil</td>\n      <td>5</td>\n      <td>135000.0</td>\n      <td>1</td>\n      <td>Casa/apartamento próprio</td>\n    </tr>\n    <tr>\n      <th>226057</th>\n      <td>6840222</td>\n      <td>43</td>\n      <td>Ensino médio</td>\n      <td>Solteiro</td>\n      <td>1</td>\n      <td>Empregado</td>\n      <td>Construção Civil</td>\n      <td>8</td>\n      <td>103500.0</td>\n      <td>0</td>\n      <td>Casa/apartamento próprio</td>\n    </tr>\n    <tr>\n      <th>226058</th>\n      <td>6842885</td>\n      <td>51</td>\n      <td>Ensino médio</td>\n      <td>Casado</td>\n      <td>2</td>\n      <td>Empregado</td>\n      <td>Vendas</td>\n      <td>3</td>\n      <td>121500.0</td>\n      <td>0</td>\n      <td>Casa/apartamento próprio</td>\n    </tr>\n  </tbody>\n</table>\n<p>226059 rows × 11 columns</p>\n</div>"
     },
     "execution_count": 16,
     "metadata": {},
     "output_type": "execute_result"
    }
   ],
   "source": [
    "empregados"
   ],
   "metadata": {
    "collapsed": false,
    "ExecuteTime": {
     "end_time": "2023-12-23T17:57:21.747659Z",
     "start_time": "2023-12-23T17:57:21.719218700Z"
    }
   },
   "id": "1565b08f6b78269"
  },
  {
   "cell_type": "code",
   "execution_count": 17,
   "outputs": [
    {
     "name": "stdout",
     "output_type": "stream",
     "text": [
      "2023-12-23 14:57:41,421 INFO sqlalchemy.engine.Engine BEGIN (implicit)\n",
      "2023-12-23 14:57:41,455 INFO sqlalchemy.engine.Engine PRAGMA main.table_info(\"empregados\")\n",
      "2023-12-23 14:57:41,456 INFO sqlalchemy.engine.Engine [raw sql] ()\n",
      "2023-12-23 14:57:41,457 INFO sqlalchemy.engine.Engine PRAGMA temp.table_info(\"empregados\")\n",
      "2023-12-23 14:57:41,458 INFO sqlalchemy.engine.Engine [raw sql] ()\n",
      "2023-12-23 14:57:41,461 INFO sqlalchemy.engine.Engine \n",
      "CREATE TABLE empregados (\n",
      "\t\"ID_Cliente\" BIGINT, \n",
      "\t\"Idade\" BIGINT, \n",
      "\t\"Grau_escolaridade\" TEXT, \n",
      "\t\"Estado_civil\" TEXT, \n",
      "\t\"Tamanho_familia\" BIGINT, \n",
      "\t\"Categoria_de_renda\" TEXT, \n",
      "\t\"Ocupacao\" TEXT, \n",
      "\t\"Anos_empregado\" BIGINT, \n",
      "\t\"Rendimento_anual\" FLOAT, \n",
      "\t\"Tem_carro\" BIGINT, \n",
      "\t\"Moradia\" TEXT\n",
      ")\n",
      "\n",
      "\n",
      "2023-12-23 14:57:41,461 INFO sqlalchemy.engine.Engine [no key 0.00084s] ()\n",
      "2023-12-23 14:57:44,387 INFO sqlalchemy.engine.Engine INSERT INTO empregados (\"ID_Cliente\", \"Idade\", \"Grau_escolaridade\", \"Estado_civil\", \"Tamanho_familia\", \"Categoria_de_renda\", \"Ocupacao\", \"Anos_empregado\", \"Rendimento_anual\", \"Tem_carro\", \"Moradia\") VALUES (?, ?, ?, ?, ?, ?, ?, ?, ?, ?, ?)\n",
      "2023-12-23 14:57:44,388 INFO sqlalchemy.engine.Engine [generated in 2.28269s] ((5008804, 32, 'Ensino superior', 'União-estável', 2, 'Empregado', 'Outro', 12, 427500.0, 1, 'Apartamento alugado'), (5008805, 32, 'Ensino superior', 'União-estável', 2, 'Empregado', 'Outro', 12, 427500.0, 1, 'Apartamento alugado'), (5008806, 58, 'Ensino médio', 'Casado', 2, 'Empregado', 'Segurança', 3, 112500.0, 1, 'Casa/apartamento próprio'), (5008815, 46, 'Ensino superior', 'Casado', 2, 'Empregado', 'Contabilidade', 2, 270000.0, 1, 'Casa/apartamento próprio'), (5112956, 46, 'Ensino superior', 'Casado', 2, 'Empregado', 'Contabilidade', 2, 270000.0, 1, 'Casa/apartamento próprio'), (6153651, 46, 'Ensino superior', 'Casado', 2, 'Empregado', 'Contabilidade', 2, 270000.0, 1, 'Casa/apartamento próprio'), (5008825, 29, 'Ensino superior incompleto', 'Casado', 2, 'Empregado', 'Contabilidade', 3, 130500.0, 1, 'Casa/apartamento próprio'), (5008826, 29, 'Ensino superior incompleto', 'Casado', 2, 'Empregado', 'Contabilidade', 3, 130500.0, 1, 'Casa/apartamento próprio')  ... displaying 10 of 226059 total bound parameter sets ...  (6840222, 43, 'Ensino médio', 'Solteiro', 1, 'Empregado', 'Construção Civil', 8, 103500.0, 0, 'Casa/apartamento próprio'), (6842885, 51, 'Ensino médio', 'Casado', 2, 'Empregado', 'Vendas', 3, 121500.0, 0, 'Casa/apartamento próprio'))\n",
      "2023-12-23 14:57:45,482 INFO sqlalchemy.engine.Engine COMMIT\n"
     ]
    },
    {
     "data": {
      "text/plain": "226059"
     },
     "execution_count": 17,
     "metadata": {},
     "output_type": "execute_result"
    }
   ],
   "source": [
    "empregados.to_sql('empregados', con=engine, index=False)"
   ],
   "metadata": {
    "collapsed": false,
    "ExecuteTime": {
     "end_time": "2023-12-23T17:57:45.497656200Z",
     "start_time": "2023-12-23T17:57:41.422540800Z"
    }
   },
   "id": "45d57e456a13185"
  },
  {
   "cell_type": "code",
   "execution_count": 18,
   "outputs": [
    {
     "name": "stdout",
     "output_type": "stream",
     "text": [
      "2023-12-23 14:57:55,428 INFO sqlalchemy.engine.Engine BEGIN (implicit)\n",
      "2023-12-23 14:57:55,429 INFO sqlalchemy.engine.Engine PRAGMA main.table_info(\"empregados\")\n",
      "2023-12-23 14:57:55,430 INFO sqlalchemy.engine.Engine [raw sql] ()\n",
      "2023-12-23 14:57:55,431 INFO sqlalchemy.engine.Engine SELECT name FROM sqlite_master WHERE type='table' ORDER BY name\n",
      "2023-12-23 14:57:55,432 INFO sqlalchemy.engine.Engine [raw sql] ()\n",
      "2023-12-23 14:57:55,433 INFO sqlalchemy.engine.Engine PRAGMA main.table_xinfo(\"empregados\")\n",
      "2023-12-23 14:57:55,434 INFO sqlalchemy.engine.Engine [raw sql] ()\n",
      "2023-12-23 14:57:55,437 INFO sqlalchemy.engine.Engine SELECT sql FROM  (SELECT * FROM sqlite_master UNION ALL   SELECT * FROM sqlite_temp_master) WHERE name = ? AND type = 'table'\n",
      "2023-12-23 14:57:55,437 INFO sqlalchemy.engine.Engine [raw sql] ('empregados',)\n",
      "2023-12-23 14:57:55,441 INFO sqlalchemy.engine.Engine PRAGMA main.foreign_key_list(\"empregados\")\n",
      "2023-12-23 14:57:55,442 INFO sqlalchemy.engine.Engine [raw sql] ()\n",
      "2023-12-23 14:57:55,443 INFO sqlalchemy.engine.Engine PRAGMA temp.foreign_key_list(\"empregados\")\n",
      "2023-12-23 14:57:55,443 INFO sqlalchemy.engine.Engine [raw sql] ()\n",
      "2023-12-23 14:57:55,444 INFO sqlalchemy.engine.Engine SELECT sql FROM  (SELECT * FROM sqlite_master UNION ALL   SELECT * FROM sqlite_temp_master) WHERE name = ? AND type = 'table'\n",
      "2023-12-23 14:57:55,445 INFO sqlalchemy.engine.Engine [raw sql] ('empregados',)\n",
      "2023-12-23 14:57:55,448 INFO sqlalchemy.engine.Engine PRAGMA main.index_list(\"empregados\")\n",
      "2023-12-23 14:57:55,448 INFO sqlalchemy.engine.Engine [raw sql] ()\n",
      "2023-12-23 14:57:55,449 INFO sqlalchemy.engine.Engine PRAGMA temp.index_list(\"empregados\")\n",
      "2023-12-23 14:57:55,450 INFO sqlalchemy.engine.Engine [raw sql] ()\n",
      "2023-12-23 14:57:55,451 INFO sqlalchemy.engine.Engine PRAGMA main.index_list(\"empregados\")\n",
      "2023-12-23 14:57:55,452 INFO sqlalchemy.engine.Engine [raw sql] ()\n",
      "2023-12-23 14:57:55,453 INFO sqlalchemy.engine.Engine PRAGMA temp.index_list(\"empregados\")\n",
      "2023-12-23 14:57:55,453 INFO sqlalchemy.engine.Engine [raw sql] ()\n",
      "2023-12-23 14:57:55,454 INFO sqlalchemy.engine.Engine SELECT sql FROM  (SELECT * FROM sqlite_master UNION ALL   SELECT * FROM sqlite_temp_master) WHERE name = ? AND type = 'table'\n",
      "2023-12-23 14:57:55,455 INFO sqlalchemy.engine.Engine [raw sql] ('empregados',)\n",
      "2023-12-23 14:57:55,460 INFO sqlalchemy.engine.Engine SELECT empregados.\"ID_Cliente\", empregados.\"Idade\", empregados.\"Grau_escolaridade\", empregados.\"Estado_civil\", empregados.\"Tamanho_familia\", empregados.\"Categoria_de_renda\", empregados.\"Ocupacao\", empregados.\"Anos_empregado\", empregados.\"Rendimento_anual\", empregados.\"Tem_carro\", empregados.\"Moradia\" \n",
      "FROM empregados\n",
      "2023-12-23 14:57:55,460 INFO sqlalchemy.engine.Engine [generated in 0.00084s] ()\n",
      "2023-12-23 14:57:57,539 INFO sqlalchemy.engine.Engine COMMIT\n"
     ]
    },
    {
     "data": {
      "text/plain": "        ID_Cliente  Idade Grau_escolaridade   Estado_civil  Tamanho_familia  \\\n0          5008804     32   Ensino superior  União-estável                2   \n1          5008805     32   Ensino superior  União-estável                2   \n2          5008806     58      Ensino médio         Casado                2   \n3          5008815     46   Ensino superior         Casado                2   \n4          5112956     46   Ensino superior         Casado                2   \n...            ...    ...               ...            ...              ...   \n226054     6837905     43      Ensino médio         Casado                3   \n226055     6837906     43      Ensino médio         Casado                3   \n226056     6839936     34      Ensino médio         Casado                3   \n226057     6840222     43      Ensino médio       Solteiro                1   \n226058     6842885     51      Ensino médio         Casado                2   \n\n       Categoria_de_renda          Ocupacao  Anos_empregado  Rendimento_anual  \\\n0               Empregado             Outro              12          427500.0   \n1               Empregado             Outro              12          427500.0   \n2               Empregado         Segurança               3          112500.0   \n3               Empregado     Contabilidade               2          270000.0   \n4               Empregado     Contabilidade               2          270000.0   \n...                   ...               ...             ...               ...   \n226054          Empregado             Outro               7          355050.0   \n226055          Empregado             Outro               7          355050.0   \n226056          Empregado  Construção Civil               5          135000.0   \n226057          Empregado  Construção Civil               8          103500.0   \n226058          Empregado            Vendas               3          121500.0   \n\n        Tem_carro                   Moradia  \n0               1       Apartamento alugado  \n1               1       Apartamento alugado  \n2               1  Casa/apartamento próprio  \n3               1  Casa/apartamento próprio  \n4               1  Casa/apartamento próprio  \n...           ...                       ...  \n226054          1  Casa/apartamento próprio  \n226055          1  Casa/apartamento próprio  \n226056          1  Casa/apartamento próprio  \n226057          0  Casa/apartamento próprio  \n226058          0  Casa/apartamento próprio  \n\n[226059 rows x 11 columns]",
      "text/html": "<div>\n<style scoped>\n    .dataframe tbody tr th:only-of-type {\n        vertical-align: middle;\n    }\n\n    .dataframe tbody tr th {\n        vertical-align: top;\n    }\n\n    .dataframe thead th {\n        text-align: right;\n    }\n</style>\n<table border=\"1\" class=\"dataframe\">\n  <thead>\n    <tr style=\"text-align: right;\">\n      <th></th>\n      <th>ID_Cliente</th>\n      <th>Idade</th>\n      <th>Grau_escolaridade</th>\n      <th>Estado_civil</th>\n      <th>Tamanho_familia</th>\n      <th>Categoria_de_renda</th>\n      <th>Ocupacao</th>\n      <th>Anos_empregado</th>\n      <th>Rendimento_anual</th>\n      <th>Tem_carro</th>\n      <th>Moradia</th>\n    </tr>\n  </thead>\n  <tbody>\n    <tr>\n      <th>0</th>\n      <td>5008804</td>\n      <td>32</td>\n      <td>Ensino superior</td>\n      <td>União-estável</td>\n      <td>2</td>\n      <td>Empregado</td>\n      <td>Outro</td>\n      <td>12</td>\n      <td>427500.0</td>\n      <td>1</td>\n      <td>Apartamento alugado</td>\n    </tr>\n    <tr>\n      <th>1</th>\n      <td>5008805</td>\n      <td>32</td>\n      <td>Ensino superior</td>\n      <td>União-estável</td>\n      <td>2</td>\n      <td>Empregado</td>\n      <td>Outro</td>\n      <td>12</td>\n      <td>427500.0</td>\n      <td>1</td>\n      <td>Apartamento alugado</td>\n    </tr>\n    <tr>\n      <th>2</th>\n      <td>5008806</td>\n      <td>58</td>\n      <td>Ensino médio</td>\n      <td>Casado</td>\n      <td>2</td>\n      <td>Empregado</td>\n      <td>Segurança</td>\n      <td>3</td>\n      <td>112500.0</td>\n      <td>1</td>\n      <td>Casa/apartamento próprio</td>\n    </tr>\n    <tr>\n      <th>3</th>\n      <td>5008815</td>\n      <td>46</td>\n      <td>Ensino superior</td>\n      <td>Casado</td>\n      <td>2</td>\n      <td>Empregado</td>\n      <td>Contabilidade</td>\n      <td>2</td>\n      <td>270000.0</td>\n      <td>1</td>\n      <td>Casa/apartamento próprio</td>\n    </tr>\n    <tr>\n      <th>4</th>\n      <td>5112956</td>\n      <td>46</td>\n      <td>Ensino superior</td>\n      <td>Casado</td>\n      <td>2</td>\n      <td>Empregado</td>\n      <td>Contabilidade</td>\n      <td>2</td>\n      <td>270000.0</td>\n      <td>1</td>\n      <td>Casa/apartamento próprio</td>\n    </tr>\n    <tr>\n      <th>...</th>\n      <td>...</td>\n      <td>...</td>\n      <td>...</td>\n      <td>...</td>\n      <td>...</td>\n      <td>...</td>\n      <td>...</td>\n      <td>...</td>\n      <td>...</td>\n      <td>...</td>\n      <td>...</td>\n    </tr>\n    <tr>\n      <th>226054</th>\n      <td>6837905</td>\n      <td>43</td>\n      <td>Ensino médio</td>\n      <td>Casado</td>\n      <td>3</td>\n      <td>Empregado</td>\n      <td>Outro</td>\n      <td>7</td>\n      <td>355050.0</td>\n      <td>1</td>\n      <td>Casa/apartamento próprio</td>\n    </tr>\n    <tr>\n      <th>226055</th>\n      <td>6837906</td>\n      <td>43</td>\n      <td>Ensino médio</td>\n      <td>Casado</td>\n      <td>3</td>\n      <td>Empregado</td>\n      <td>Outro</td>\n      <td>7</td>\n      <td>355050.0</td>\n      <td>1</td>\n      <td>Casa/apartamento próprio</td>\n    </tr>\n    <tr>\n      <th>226056</th>\n      <td>6839936</td>\n      <td>34</td>\n      <td>Ensino médio</td>\n      <td>Casado</td>\n      <td>3</td>\n      <td>Empregado</td>\n      <td>Construção Civil</td>\n      <td>5</td>\n      <td>135000.0</td>\n      <td>1</td>\n      <td>Casa/apartamento próprio</td>\n    </tr>\n    <tr>\n      <th>226057</th>\n      <td>6840222</td>\n      <td>43</td>\n      <td>Ensino médio</td>\n      <td>Solteiro</td>\n      <td>1</td>\n      <td>Empregado</td>\n      <td>Construção Civil</td>\n      <td>8</td>\n      <td>103500.0</td>\n      <td>0</td>\n      <td>Casa/apartamento próprio</td>\n    </tr>\n    <tr>\n      <th>226058</th>\n      <td>6842885</td>\n      <td>51</td>\n      <td>Ensino médio</td>\n      <td>Casado</td>\n      <td>2</td>\n      <td>Empregado</td>\n      <td>Vendas</td>\n      <td>3</td>\n      <td>121500.0</td>\n      <td>0</td>\n      <td>Casa/apartamento próprio</td>\n    </tr>\n  </tbody>\n</table>\n<p>226059 rows × 11 columns</p>\n</div>"
     },
     "execution_count": 18,
     "metadata": {},
     "output_type": "execute_result"
    }
   ],
   "source": [
    "pd.read_sql_table('empregados', engine)"
   ],
   "metadata": {
    "collapsed": false,
    "ExecuteTime": {
     "end_time": "2023-12-23T17:57:57.568842400Z",
     "start_time": "2023-12-23T17:57:55.430385200Z"
    }
   },
   "id": "b9fd8f54efa9b85d"
  },
  {
   "cell_type": "code",
   "execution_count": 19,
   "outputs": [
    {
     "name": "stdout",
     "output_type": "stream",
     "text": [
      "2023-12-23 14:58:12,866 INFO sqlalchemy.engine.Engine BEGIN (implicit)\n",
      "2023-12-23 14:58:12,867 INFO sqlalchemy.engine.Engine PRAGMA main.table_info(\"empregados\")\n",
      "2023-12-23 14:58:12,869 INFO sqlalchemy.engine.Engine [raw sql] ()\n",
      "2023-12-23 14:58:12,870 INFO sqlalchemy.engine.Engine SELECT name FROM sqlite_master WHERE type='table' ORDER BY name\n",
      "2023-12-23 14:58:12,871 INFO sqlalchemy.engine.Engine [raw sql] ()\n",
      "2023-12-23 14:58:12,872 INFO sqlalchemy.engine.Engine PRAGMA main.table_xinfo(\"empregados\")\n",
      "2023-12-23 14:58:12,873 INFO sqlalchemy.engine.Engine [raw sql] ()\n",
      "2023-12-23 14:58:12,875 INFO sqlalchemy.engine.Engine SELECT sql FROM  (SELECT * FROM sqlite_master UNION ALL   SELECT * FROM sqlite_temp_master) WHERE name = ? AND type = 'table'\n",
      "2023-12-23 14:58:12,876 INFO sqlalchemy.engine.Engine [raw sql] ('empregados',)\n",
      "2023-12-23 14:58:12,878 INFO sqlalchemy.engine.Engine PRAGMA main.foreign_key_list(\"empregados\")\n",
      "2023-12-23 14:58:12,878 INFO sqlalchemy.engine.Engine [raw sql] ()\n",
      "2023-12-23 14:58:12,879 INFO sqlalchemy.engine.Engine PRAGMA temp.foreign_key_list(\"empregados\")\n",
      "2023-12-23 14:58:12,880 INFO sqlalchemy.engine.Engine [raw sql] ()\n",
      "2023-12-23 14:58:12,881 INFO sqlalchemy.engine.Engine SELECT sql FROM  (SELECT * FROM sqlite_master UNION ALL   SELECT * FROM sqlite_temp_master) WHERE name = ? AND type = 'table'\n",
      "2023-12-23 14:58:12,882 INFO sqlalchemy.engine.Engine [raw sql] ('empregados',)\n",
      "2023-12-23 14:58:12,883 INFO sqlalchemy.engine.Engine PRAGMA main.index_list(\"empregados\")\n",
      "2023-12-23 14:58:12,884 INFO sqlalchemy.engine.Engine [raw sql] ()\n",
      "2023-12-23 14:58:12,885 INFO sqlalchemy.engine.Engine PRAGMA temp.index_list(\"empregados\")\n",
      "2023-12-23 14:58:12,885 INFO sqlalchemy.engine.Engine [raw sql] ()\n",
      "2023-12-23 14:58:12,886 INFO sqlalchemy.engine.Engine PRAGMA main.index_list(\"empregados\")\n",
      "2023-12-23 14:58:12,887 INFO sqlalchemy.engine.Engine [raw sql] ()\n",
      "2023-12-23 14:58:12,888 INFO sqlalchemy.engine.Engine PRAGMA temp.index_list(\"empregados\")\n",
      "2023-12-23 14:58:12,888 INFO sqlalchemy.engine.Engine [raw sql] ()\n",
      "2023-12-23 14:58:12,889 INFO sqlalchemy.engine.Engine SELECT sql FROM  (SELECT * FROM sqlite_master UNION ALL   SELECT * FROM sqlite_temp_master) WHERE name = ? AND type = 'table'\n",
      "2023-12-23 14:58:12,890 INFO sqlalchemy.engine.Engine [raw sql] ('empregados',)\n",
      "2023-12-23 14:58:12,892 INFO sqlalchemy.engine.Engine SELECT empregados.\"ID_Cliente\", empregados.\"Grau_escolaridade\", empregados.\"Rendimento_anual\" \n",
      "FROM empregados\n",
      "2023-12-23 14:58:12,893 INFO sqlalchemy.engine.Engine [generated in 0.00145s] ()\n",
      "2023-12-23 14:58:13,919 INFO sqlalchemy.engine.Engine COMMIT\n"
     ]
    },
    {
     "data": {
      "text/plain": "        ID_Cliente Grau_escolaridade  Rendimento_anual\n0          5008804   Ensino superior          427500.0\n1          5008805   Ensino superior          427500.0\n2          5008806      Ensino médio          112500.0\n3          5008815   Ensino superior          270000.0\n4          5112956   Ensino superior          270000.0\n...            ...               ...               ...\n226054     6837905      Ensino médio          355050.0\n226055     6837906      Ensino médio          355050.0\n226056     6839936      Ensino médio          135000.0\n226057     6840222      Ensino médio          103500.0\n226058     6842885      Ensino médio          121500.0\n\n[226059 rows x 3 columns]",
      "text/html": "<div>\n<style scoped>\n    .dataframe tbody tr th:only-of-type {\n        vertical-align: middle;\n    }\n\n    .dataframe tbody tr th {\n        vertical-align: top;\n    }\n\n    .dataframe thead th {\n        text-align: right;\n    }\n</style>\n<table border=\"1\" class=\"dataframe\">\n  <thead>\n    <tr style=\"text-align: right;\">\n      <th></th>\n      <th>ID_Cliente</th>\n      <th>Grau_escolaridade</th>\n      <th>Rendimento_anual</th>\n    </tr>\n  </thead>\n  <tbody>\n    <tr>\n      <th>0</th>\n      <td>5008804</td>\n      <td>Ensino superior</td>\n      <td>427500.0</td>\n    </tr>\n    <tr>\n      <th>1</th>\n      <td>5008805</td>\n      <td>Ensino superior</td>\n      <td>427500.0</td>\n    </tr>\n    <tr>\n      <th>2</th>\n      <td>5008806</td>\n      <td>Ensino médio</td>\n      <td>112500.0</td>\n    </tr>\n    <tr>\n      <th>3</th>\n      <td>5008815</td>\n      <td>Ensino superior</td>\n      <td>270000.0</td>\n    </tr>\n    <tr>\n      <th>4</th>\n      <td>5112956</td>\n      <td>Ensino superior</td>\n      <td>270000.0</td>\n    </tr>\n    <tr>\n      <th>...</th>\n      <td>...</td>\n      <td>...</td>\n      <td>...</td>\n    </tr>\n    <tr>\n      <th>226054</th>\n      <td>6837905</td>\n      <td>Ensino médio</td>\n      <td>355050.0</td>\n    </tr>\n    <tr>\n      <th>226055</th>\n      <td>6837906</td>\n      <td>Ensino médio</td>\n      <td>355050.0</td>\n    </tr>\n    <tr>\n      <th>226056</th>\n      <td>6839936</td>\n      <td>Ensino médio</td>\n      <td>135000.0</td>\n    </tr>\n    <tr>\n      <th>226057</th>\n      <td>6840222</td>\n      <td>Ensino médio</td>\n      <td>103500.0</td>\n    </tr>\n    <tr>\n      <th>226058</th>\n      <td>6842885</td>\n      <td>Ensino médio</td>\n      <td>121500.0</td>\n    </tr>\n  </tbody>\n</table>\n<p>226059 rows × 3 columns</p>\n</div>"
     },
     "execution_count": 19,
     "metadata": {},
     "output_type": "execute_result"
    }
   ],
   "source": [
    "pd.read_sql_table('empregados', engine, columns=['ID_Cliente', 'Grau_escolaridade', 'Rendimento_anual'])"
   ],
   "metadata": {
    "collapsed": false,
    "ExecuteTime": {
     "end_time": "2023-12-23T17:58:13.942517400Z",
     "start_time": "2023-12-23T17:58:12.868766Z"
    }
   },
   "id": "e7e62d734bb8c7e0"
  },
  {
   "cell_type": "markdown",
   "source": [
    "A partir disso o time de dados já pode fazer algumas análises.\n",
    "\n",
    "Mas, e se algum cliente não estiver mais cadastrado na instituição financeira ou tiver seu rendimento anual atualizado?\n",
    "\n",
    "Como realizar alterações nesses dados?\n"
   ],
   "metadata": {
    "collapsed": false
   },
   "id": "b307325552d734d2"
  },
  {
   "cell_type": "code",
   "execution_count": 20,
   "outputs": [],
   "source": [
    "query = 'DELETE from clientes WHERE Id_Cliente=5008804' "
   ],
   "metadata": {
    "collapsed": false,
    "ExecuteTime": {
     "end_time": "2023-12-23T18:06:32.057393800Z",
     "start_time": "2023-12-23T18:06:32.035837100Z"
    }
   },
   "id": "25507a25ea2d94c2"
  },
  {
   "cell_type": "code",
   "execution_count": 21,
   "outputs": [
    {
     "name": "stdout",
     "output_type": "stream",
     "text": [
      "2023-12-23 15:07:27,311 INFO sqlalchemy.engine.Engine DELETE from clientes WHERE Id_Cliente=5008804\n",
      "2023-12-23 15:07:27,312 INFO sqlalchemy.engine.Engine [raw sql] ()\n",
      "2023-12-23 15:07:27,390 INFO sqlalchemy.engine.Engine COMMIT\n"
     ]
    }
   ],
   "source": [
    "with engine.connect() as conn:\n",
    "    conn.execute(query)"
   ],
   "metadata": {
    "collapsed": false,
    "ExecuteTime": {
     "end_time": "2023-12-23T18:07:27.413650100Z",
     "start_time": "2023-12-23T18:07:27.312053200Z"
    }
   },
   "id": "d9cec97069535a43"
  },
  {
   "cell_type": "code",
   "execution_count": 23,
   "outputs": [
    {
     "name": "stdout",
     "output_type": "stream",
     "text": [
      "2023-12-23 15:07:50,380 INFO sqlalchemy.engine.Engine BEGIN (implicit)\n",
      "2023-12-23 15:07:50,381 INFO sqlalchemy.engine.Engine PRAGMA main.table_info(\"clientes\")\n",
      "2023-12-23 15:07:50,382 INFO sqlalchemy.engine.Engine [raw sql] ()\n",
      "2023-12-23 15:07:50,384 INFO sqlalchemy.engine.Engine SELECT name FROM sqlite_master WHERE type='table' ORDER BY name\n",
      "2023-12-23 15:07:50,385 INFO sqlalchemy.engine.Engine [raw sql] ()\n",
      "2023-12-23 15:07:50,387 INFO sqlalchemy.engine.Engine PRAGMA main.table_xinfo(\"clientes\")\n",
      "2023-12-23 15:07:50,387 INFO sqlalchemy.engine.Engine [raw sql] ()\n",
      "2023-12-23 15:07:50,390 INFO sqlalchemy.engine.Engine SELECT sql FROM  (SELECT * FROM sqlite_master UNION ALL   SELECT * FROM sqlite_temp_master) WHERE name = ? AND type = 'table'\n",
      "2023-12-23 15:07:50,391 INFO sqlalchemy.engine.Engine [raw sql] ('clientes',)\n",
      "2023-12-23 15:07:50,393 INFO sqlalchemy.engine.Engine PRAGMA main.foreign_key_list(\"clientes\")\n",
      "2023-12-23 15:07:50,394 INFO sqlalchemy.engine.Engine [raw sql] ()\n",
      "2023-12-23 15:07:50,394 INFO sqlalchemy.engine.Engine PRAGMA temp.foreign_key_list(\"clientes\")\n",
      "2023-12-23 15:07:50,395 INFO sqlalchemy.engine.Engine [raw sql] ()\n",
      "2023-12-23 15:07:50,396 INFO sqlalchemy.engine.Engine SELECT sql FROM  (SELECT * FROM sqlite_master UNION ALL   SELECT * FROM sqlite_temp_master) WHERE name = ? AND type = 'table'\n",
      "2023-12-23 15:07:50,397 INFO sqlalchemy.engine.Engine [raw sql] ('clientes',)\n",
      "2023-12-23 15:07:50,398 INFO sqlalchemy.engine.Engine PRAGMA main.index_list(\"clientes\")\n",
      "2023-12-23 15:07:50,399 INFO sqlalchemy.engine.Engine [raw sql] ()\n",
      "2023-12-23 15:07:50,399 INFO sqlalchemy.engine.Engine PRAGMA temp.index_list(\"clientes\")\n",
      "2023-12-23 15:07:50,400 INFO sqlalchemy.engine.Engine [raw sql] ()\n",
      "2023-12-23 15:07:50,401 INFO sqlalchemy.engine.Engine PRAGMA main.index_list(\"clientes\")\n",
      "2023-12-23 15:07:50,402 INFO sqlalchemy.engine.Engine [raw sql] ()\n",
      "2023-12-23 15:07:50,403 INFO sqlalchemy.engine.Engine PRAGMA temp.index_list(\"clientes\")\n",
      "2023-12-23 15:07:50,403 INFO sqlalchemy.engine.Engine [raw sql] ()\n",
      "2023-12-23 15:07:50,405 INFO sqlalchemy.engine.Engine SELECT sql FROM  (SELECT * FROM sqlite_master UNION ALL   SELECT * FROM sqlite_temp_master) WHERE name = ? AND type = 'table'\n",
      "2023-12-23 15:07:50,406 INFO sqlalchemy.engine.Engine [raw sql] ('clientes',)\n",
      "2023-12-23 15:07:50,408 INFO sqlalchemy.engine.Engine SELECT clientes.\"ID_Cliente\", clientes.\"Idade\", clientes.\"Grau_escolaridade\", clientes.\"Estado_civil\", clientes.\"Tamanho_familia\", clientes.\"Categoria_de_renda\", clientes.\"Ocupacao\", clientes.\"Anos_empregado\", clientes.\"Rendimento_anual\", clientes.\"Tem_carro\", clientes.\"Moradia\" \n",
      "FROM clientes\n",
      "2023-12-23 15:07:50,409 INFO sqlalchemy.engine.Engine [generated in 0.00083s] ()\n",
      "2023-12-23 15:07:55,036 INFO sqlalchemy.engine.Engine COMMIT\n"
     ]
    },
    {
     "data": {
      "text/plain": "        ID_Cliente  Idade Grau_escolaridade   Estado_civil  Tamanho_familia  \\\n0          5008805     32   Ensino superior  União-estável                2   \n1          5008806     58      Ensino médio         Casado                2   \n2          5008808     52      Ensino médio       Solteiro                1   \n3          5008809     52      Ensino médio       Solteiro                1   \n4          5008810     52      Ensino médio       Solteiro                1   \n...            ...    ...               ...            ...              ...   \n438457     6840104     62      Ensino médio     Divorciado                1   \n438458     6840222     43      Ensino médio       Solteiro                1   \n438459     6841878     22   Ensino superior       Solteiro                1   \n438460     6842765     59      Ensino médio         Casado                2   \n438461     6842885     51      Ensino médio         Casado                2   \n\n         Categoria_de_renda          Ocupacao  Anos_empregado  \\\n0                 Empregado             Outro              12   \n1                 Empregado         Segurança               3   \n2       Associado comercial            Vendas               8   \n3       Associado comercial            Vendas               8   \n4       Associado comercial            Vendas               8   \n...                     ...               ...             ...   \n438457          Pensionista             Outro               0   \n438458            Empregado  Construção Civil               8   \n438459  Associado comercial            Vendas               1   \n438460          Pensionista             Outro               0   \n438461            Empregado            Vendas               3   \n\n        Rendimento_anual  Tem_carro                   Moradia  \n0               427500.0          1       Apartamento alugado  \n1               112500.0          1  Casa/apartamento próprio  \n2               270000.0          0  Casa/apartamento próprio  \n3               270000.0          0  Casa/apartamento próprio  \n4               270000.0          0  Casa/apartamento próprio  \n...                  ...        ...                       ...  \n438457          135000.0          0  Casa/apartamento próprio  \n438458          103500.0          0  Casa/apartamento próprio  \n438459           54000.0          0          Mora com os pais  \n438460           72000.0          0  Casa/apartamento próprio  \n438461          121500.0          0  Casa/apartamento próprio  \n\n[438462 rows x 11 columns]",
      "text/html": "<div>\n<style scoped>\n    .dataframe tbody tr th:only-of-type {\n        vertical-align: middle;\n    }\n\n    .dataframe tbody tr th {\n        vertical-align: top;\n    }\n\n    .dataframe thead th {\n        text-align: right;\n    }\n</style>\n<table border=\"1\" class=\"dataframe\">\n  <thead>\n    <tr style=\"text-align: right;\">\n      <th></th>\n      <th>ID_Cliente</th>\n      <th>Idade</th>\n      <th>Grau_escolaridade</th>\n      <th>Estado_civil</th>\n      <th>Tamanho_familia</th>\n      <th>Categoria_de_renda</th>\n      <th>Ocupacao</th>\n      <th>Anos_empregado</th>\n      <th>Rendimento_anual</th>\n      <th>Tem_carro</th>\n      <th>Moradia</th>\n    </tr>\n  </thead>\n  <tbody>\n    <tr>\n      <th>0</th>\n      <td>5008805</td>\n      <td>32</td>\n      <td>Ensino superior</td>\n      <td>União-estável</td>\n      <td>2</td>\n      <td>Empregado</td>\n      <td>Outro</td>\n      <td>12</td>\n      <td>427500.0</td>\n      <td>1</td>\n      <td>Apartamento alugado</td>\n    </tr>\n    <tr>\n      <th>1</th>\n      <td>5008806</td>\n      <td>58</td>\n      <td>Ensino médio</td>\n      <td>Casado</td>\n      <td>2</td>\n      <td>Empregado</td>\n      <td>Segurança</td>\n      <td>3</td>\n      <td>112500.0</td>\n      <td>1</td>\n      <td>Casa/apartamento próprio</td>\n    </tr>\n    <tr>\n      <th>2</th>\n      <td>5008808</td>\n      <td>52</td>\n      <td>Ensino médio</td>\n      <td>Solteiro</td>\n      <td>1</td>\n      <td>Associado comercial</td>\n      <td>Vendas</td>\n      <td>8</td>\n      <td>270000.0</td>\n      <td>0</td>\n      <td>Casa/apartamento próprio</td>\n    </tr>\n    <tr>\n      <th>3</th>\n      <td>5008809</td>\n      <td>52</td>\n      <td>Ensino médio</td>\n      <td>Solteiro</td>\n      <td>1</td>\n      <td>Associado comercial</td>\n      <td>Vendas</td>\n      <td>8</td>\n      <td>270000.0</td>\n      <td>0</td>\n      <td>Casa/apartamento próprio</td>\n    </tr>\n    <tr>\n      <th>4</th>\n      <td>5008810</td>\n      <td>52</td>\n      <td>Ensino médio</td>\n      <td>Solteiro</td>\n      <td>1</td>\n      <td>Associado comercial</td>\n      <td>Vendas</td>\n      <td>8</td>\n      <td>270000.0</td>\n      <td>0</td>\n      <td>Casa/apartamento próprio</td>\n    </tr>\n    <tr>\n      <th>...</th>\n      <td>...</td>\n      <td>...</td>\n      <td>...</td>\n      <td>...</td>\n      <td>...</td>\n      <td>...</td>\n      <td>...</td>\n      <td>...</td>\n      <td>...</td>\n      <td>...</td>\n      <td>...</td>\n    </tr>\n    <tr>\n      <th>438457</th>\n      <td>6840104</td>\n      <td>62</td>\n      <td>Ensino médio</td>\n      <td>Divorciado</td>\n      <td>1</td>\n      <td>Pensionista</td>\n      <td>Outro</td>\n      <td>0</td>\n      <td>135000.0</td>\n      <td>0</td>\n      <td>Casa/apartamento próprio</td>\n    </tr>\n    <tr>\n      <th>438458</th>\n      <td>6840222</td>\n      <td>43</td>\n      <td>Ensino médio</td>\n      <td>Solteiro</td>\n      <td>1</td>\n      <td>Empregado</td>\n      <td>Construção Civil</td>\n      <td>8</td>\n      <td>103500.0</td>\n      <td>0</td>\n      <td>Casa/apartamento próprio</td>\n    </tr>\n    <tr>\n      <th>438459</th>\n      <td>6841878</td>\n      <td>22</td>\n      <td>Ensino superior</td>\n      <td>Solteiro</td>\n      <td>1</td>\n      <td>Associado comercial</td>\n      <td>Vendas</td>\n      <td>1</td>\n      <td>54000.0</td>\n      <td>0</td>\n      <td>Mora com os pais</td>\n    </tr>\n    <tr>\n      <th>438460</th>\n      <td>6842765</td>\n      <td>59</td>\n      <td>Ensino médio</td>\n      <td>Casado</td>\n      <td>2</td>\n      <td>Pensionista</td>\n      <td>Outro</td>\n      <td>0</td>\n      <td>72000.0</td>\n      <td>0</td>\n      <td>Casa/apartamento próprio</td>\n    </tr>\n    <tr>\n      <th>438461</th>\n      <td>6842885</td>\n      <td>51</td>\n      <td>Ensino médio</td>\n      <td>Casado</td>\n      <td>2</td>\n      <td>Empregado</td>\n      <td>Vendas</td>\n      <td>3</td>\n      <td>121500.0</td>\n      <td>0</td>\n      <td>Casa/apartamento próprio</td>\n    </tr>\n  </tbody>\n</table>\n<p>438462 rows × 11 columns</p>\n</div>"
     },
     "execution_count": 23,
     "metadata": {},
     "output_type": "execute_result"
    }
   ],
   "source": [
    "pd.read_sql_table('clientes',engine)"
   ],
   "metadata": {
    "collapsed": false,
    "ExecuteTime": {
     "end_time": "2023-12-23T18:07:55.056848200Z",
     "start_time": "2023-12-23T18:07:50.381615400Z"
    }
   },
   "id": "4dbb341879a4dda9"
  },
  {
   "cell_type": "code",
   "execution_count": 24,
   "outputs": [
    {
     "name": "stdout",
     "output_type": "stream",
     "text": [
      "2023-12-23 15:08:34,741 INFO sqlalchemy.engine.Engine UPDATE clientes SET Grau_escolaridade=\"Ensino superior\" WHERE ID_Cliente=5008808\n",
      "2023-12-23 15:08:34,743 INFO sqlalchemy.engine.Engine [raw sql] ()\n",
      "2023-12-23 15:08:34,805 INFO sqlalchemy.engine.Engine COMMIT\n"
     ]
    }
   ],
   "source": [
    "query = 'UPDATE clientes SET Grau_escolaridade=\"Ensino superior\" WHERE ID_Cliente=5008808'\n",
    "with engine.connect() as conn:\n",
    "    conn.execute(query)"
   ],
   "metadata": {
    "collapsed": false,
    "ExecuteTime": {
     "end_time": "2023-12-23T18:08:34.829662900Z",
     "start_time": "2023-12-23T18:08:34.744033500Z"
    }
   },
   "id": "196fd28c70146b46"
  },
  {
   "cell_type": "code",
   "execution_count": 25,
   "outputs": [
    {
     "name": "stdout",
     "output_type": "stream",
     "text": [
      "2023-12-23 15:08:37,521 INFO sqlalchemy.engine.Engine BEGIN (implicit)\n",
      "2023-12-23 15:08:37,522 INFO sqlalchemy.engine.Engine PRAGMA main.table_info(\"clientes\")\n",
      "2023-12-23 15:08:37,523 INFO sqlalchemy.engine.Engine [raw sql] ()\n",
      "2023-12-23 15:08:37,524 INFO sqlalchemy.engine.Engine SELECT name FROM sqlite_master WHERE type='table' ORDER BY name\n",
      "2023-12-23 15:08:37,526 INFO sqlalchemy.engine.Engine [raw sql] ()\n",
      "2023-12-23 15:08:37,527 INFO sqlalchemy.engine.Engine PRAGMA main.table_xinfo(\"clientes\")\n",
      "2023-12-23 15:08:37,528 INFO sqlalchemy.engine.Engine [raw sql] ()\n",
      "2023-12-23 15:08:37,530 INFO sqlalchemy.engine.Engine SELECT sql FROM  (SELECT * FROM sqlite_master UNION ALL   SELECT * FROM sqlite_temp_master) WHERE name = ? AND type = 'table'\n",
      "2023-12-23 15:08:37,531 INFO sqlalchemy.engine.Engine [raw sql] ('clientes',)\n",
      "2023-12-23 15:08:37,532 INFO sqlalchemy.engine.Engine PRAGMA main.foreign_key_list(\"clientes\")\n",
      "2023-12-23 15:08:37,533 INFO sqlalchemy.engine.Engine [raw sql] ()\n",
      "2023-12-23 15:08:37,534 INFO sqlalchemy.engine.Engine PRAGMA temp.foreign_key_list(\"clientes\")\n",
      "2023-12-23 15:08:37,535 INFO sqlalchemy.engine.Engine [raw sql] ()\n",
      "2023-12-23 15:08:37,535 INFO sqlalchemy.engine.Engine SELECT sql FROM  (SELECT * FROM sqlite_master UNION ALL   SELECT * FROM sqlite_temp_master) WHERE name = ? AND type = 'table'\n",
      "2023-12-23 15:08:37,536 INFO sqlalchemy.engine.Engine [raw sql] ('clientes',)\n",
      "2023-12-23 15:08:37,537 INFO sqlalchemy.engine.Engine PRAGMA main.index_list(\"clientes\")\n",
      "2023-12-23 15:08:37,538 INFO sqlalchemy.engine.Engine [raw sql] ()\n",
      "2023-12-23 15:08:37,539 INFO sqlalchemy.engine.Engine PRAGMA temp.index_list(\"clientes\")\n",
      "2023-12-23 15:08:37,540 INFO sqlalchemy.engine.Engine [raw sql] ()\n",
      "2023-12-23 15:08:37,541 INFO sqlalchemy.engine.Engine PRAGMA main.index_list(\"clientes\")\n",
      "2023-12-23 15:08:37,541 INFO sqlalchemy.engine.Engine [raw sql] ()\n",
      "2023-12-23 15:08:37,542 INFO sqlalchemy.engine.Engine PRAGMA temp.index_list(\"clientes\")\n",
      "2023-12-23 15:08:37,544 INFO sqlalchemy.engine.Engine [raw sql] ()\n",
      "2023-12-23 15:08:37,545 INFO sqlalchemy.engine.Engine SELECT sql FROM  (SELECT * FROM sqlite_master UNION ALL   SELECT * FROM sqlite_temp_master) WHERE name = ? AND type = 'table'\n",
      "2023-12-23 15:08:37,546 INFO sqlalchemy.engine.Engine [raw sql] ('clientes',)\n",
      "2023-12-23 15:08:37,548 INFO sqlalchemy.engine.Engine SELECT clientes.\"ID_Cliente\", clientes.\"Idade\", clientes.\"Grau_escolaridade\", clientes.\"Estado_civil\", clientes.\"Tamanho_familia\", clientes.\"Categoria_de_renda\", clientes.\"Ocupacao\", clientes.\"Anos_empregado\", clientes.\"Rendimento_anual\", clientes.\"Tem_carro\", clientes.\"Moradia\" \n",
      "FROM clientes\n",
      "2023-12-23 15:08:37,548 INFO sqlalchemy.engine.Engine [generated in 0.00080s] ()\n",
      "2023-12-23 15:08:41,684 INFO sqlalchemy.engine.Engine COMMIT\n"
     ]
    },
    {
     "data": {
      "text/plain": "        ID_Cliente  Idade Grau_escolaridade   Estado_civil  Tamanho_familia  \\\n0          5008805     32   Ensino superior  União-estável                2   \n1          5008806     58      Ensino médio         Casado                2   \n2          5008808     52   Ensino superior       Solteiro                1   \n3          5008809     52      Ensino médio       Solteiro                1   \n4          5008810     52      Ensino médio       Solteiro                1   \n...            ...    ...               ...            ...              ...   \n438457     6840104     62      Ensino médio     Divorciado                1   \n438458     6840222     43      Ensino médio       Solteiro                1   \n438459     6841878     22   Ensino superior       Solteiro                1   \n438460     6842765     59      Ensino médio         Casado                2   \n438461     6842885     51      Ensino médio         Casado                2   \n\n         Categoria_de_renda          Ocupacao  Anos_empregado  \\\n0                 Empregado             Outro              12   \n1                 Empregado         Segurança               3   \n2       Associado comercial            Vendas               8   \n3       Associado comercial            Vendas               8   \n4       Associado comercial            Vendas               8   \n...                     ...               ...             ...   \n438457          Pensionista             Outro               0   \n438458            Empregado  Construção Civil               8   \n438459  Associado comercial            Vendas               1   \n438460          Pensionista             Outro               0   \n438461            Empregado            Vendas               3   \n\n        Rendimento_anual  Tem_carro                   Moradia  \n0               427500.0          1       Apartamento alugado  \n1               112500.0          1  Casa/apartamento próprio  \n2               270000.0          0  Casa/apartamento próprio  \n3               270000.0          0  Casa/apartamento próprio  \n4               270000.0          0  Casa/apartamento próprio  \n...                  ...        ...                       ...  \n438457          135000.0          0  Casa/apartamento próprio  \n438458          103500.0          0  Casa/apartamento próprio  \n438459           54000.0          0          Mora com os pais  \n438460           72000.0          0  Casa/apartamento próprio  \n438461          121500.0          0  Casa/apartamento próprio  \n\n[438462 rows x 11 columns]",
      "text/html": "<div>\n<style scoped>\n    .dataframe tbody tr th:only-of-type {\n        vertical-align: middle;\n    }\n\n    .dataframe tbody tr th {\n        vertical-align: top;\n    }\n\n    .dataframe thead th {\n        text-align: right;\n    }\n</style>\n<table border=\"1\" class=\"dataframe\">\n  <thead>\n    <tr style=\"text-align: right;\">\n      <th></th>\n      <th>ID_Cliente</th>\n      <th>Idade</th>\n      <th>Grau_escolaridade</th>\n      <th>Estado_civil</th>\n      <th>Tamanho_familia</th>\n      <th>Categoria_de_renda</th>\n      <th>Ocupacao</th>\n      <th>Anos_empregado</th>\n      <th>Rendimento_anual</th>\n      <th>Tem_carro</th>\n      <th>Moradia</th>\n    </tr>\n  </thead>\n  <tbody>\n    <tr>\n      <th>0</th>\n      <td>5008805</td>\n      <td>32</td>\n      <td>Ensino superior</td>\n      <td>União-estável</td>\n      <td>2</td>\n      <td>Empregado</td>\n      <td>Outro</td>\n      <td>12</td>\n      <td>427500.0</td>\n      <td>1</td>\n      <td>Apartamento alugado</td>\n    </tr>\n    <tr>\n      <th>1</th>\n      <td>5008806</td>\n      <td>58</td>\n      <td>Ensino médio</td>\n      <td>Casado</td>\n      <td>2</td>\n      <td>Empregado</td>\n      <td>Segurança</td>\n      <td>3</td>\n      <td>112500.0</td>\n      <td>1</td>\n      <td>Casa/apartamento próprio</td>\n    </tr>\n    <tr>\n      <th>2</th>\n      <td>5008808</td>\n      <td>52</td>\n      <td>Ensino superior</td>\n      <td>Solteiro</td>\n      <td>1</td>\n      <td>Associado comercial</td>\n      <td>Vendas</td>\n      <td>8</td>\n      <td>270000.0</td>\n      <td>0</td>\n      <td>Casa/apartamento próprio</td>\n    </tr>\n    <tr>\n      <th>3</th>\n      <td>5008809</td>\n      <td>52</td>\n      <td>Ensino médio</td>\n      <td>Solteiro</td>\n      <td>1</td>\n      <td>Associado comercial</td>\n      <td>Vendas</td>\n      <td>8</td>\n      <td>270000.0</td>\n      <td>0</td>\n      <td>Casa/apartamento próprio</td>\n    </tr>\n    <tr>\n      <th>4</th>\n      <td>5008810</td>\n      <td>52</td>\n      <td>Ensino médio</td>\n      <td>Solteiro</td>\n      <td>1</td>\n      <td>Associado comercial</td>\n      <td>Vendas</td>\n      <td>8</td>\n      <td>270000.0</td>\n      <td>0</td>\n      <td>Casa/apartamento próprio</td>\n    </tr>\n    <tr>\n      <th>...</th>\n      <td>...</td>\n      <td>...</td>\n      <td>...</td>\n      <td>...</td>\n      <td>...</td>\n      <td>...</td>\n      <td>...</td>\n      <td>...</td>\n      <td>...</td>\n      <td>...</td>\n      <td>...</td>\n    </tr>\n    <tr>\n      <th>438457</th>\n      <td>6840104</td>\n      <td>62</td>\n      <td>Ensino médio</td>\n      <td>Divorciado</td>\n      <td>1</td>\n      <td>Pensionista</td>\n      <td>Outro</td>\n      <td>0</td>\n      <td>135000.0</td>\n      <td>0</td>\n      <td>Casa/apartamento próprio</td>\n    </tr>\n    <tr>\n      <th>438458</th>\n      <td>6840222</td>\n      <td>43</td>\n      <td>Ensino médio</td>\n      <td>Solteiro</td>\n      <td>1</td>\n      <td>Empregado</td>\n      <td>Construção Civil</td>\n      <td>8</td>\n      <td>103500.0</td>\n      <td>0</td>\n      <td>Casa/apartamento próprio</td>\n    </tr>\n    <tr>\n      <th>438459</th>\n      <td>6841878</td>\n      <td>22</td>\n      <td>Ensino superior</td>\n      <td>Solteiro</td>\n      <td>1</td>\n      <td>Associado comercial</td>\n      <td>Vendas</td>\n      <td>1</td>\n      <td>54000.0</td>\n      <td>0</td>\n      <td>Mora com os pais</td>\n    </tr>\n    <tr>\n      <th>438460</th>\n      <td>6842765</td>\n      <td>59</td>\n      <td>Ensino médio</td>\n      <td>Casado</td>\n      <td>2</td>\n      <td>Pensionista</td>\n      <td>Outro</td>\n      <td>0</td>\n      <td>72000.0</td>\n      <td>0</td>\n      <td>Casa/apartamento próprio</td>\n    </tr>\n    <tr>\n      <th>438461</th>\n      <td>6842885</td>\n      <td>51</td>\n      <td>Ensino médio</td>\n      <td>Casado</td>\n      <td>2</td>\n      <td>Empregado</td>\n      <td>Vendas</td>\n      <td>3</td>\n      <td>121500.0</td>\n      <td>0</td>\n      <td>Casa/apartamento próprio</td>\n    </tr>\n  </tbody>\n</table>\n<p>438462 rows × 11 columns</p>\n</div>"
     },
     "execution_count": 25,
     "metadata": {},
     "output_type": "execute_result"
    }
   ],
   "source": [
    "pd.read_sql_table('clientes', engine)"
   ],
   "metadata": {
    "collapsed": false,
    "ExecuteTime": {
     "end_time": "2023-12-23T18:08:41.708693800Z",
     "start_time": "2023-12-23T18:08:37.523652900Z"
    }
   },
   "id": "4da3ebb89da73775"
  },
  {
   "cell_type": "markdown",
   "source": [
    "Analisando a tabela, conseguimos identificar que o cliente 5008808 agora consta com o grau de escolaridade como Ensino superior. Deu tudo certo!\n",
    "Criar um banco de dados local;\n",
    "Escrever em um banco de dados;\n",
    "Realizar a leitura em uma consulta SQL;\n",
    "Atualizar um banco de dados."
   ],
   "metadata": {
    "collapsed": false
   },
   "id": "97ec81c03834818a"
  }
 ],
 "metadata": {
  "kernelspec": {
   "display_name": "Python 3",
   "language": "python",
   "name": "python3"
  },
  "language_info": {
   "codemirror_mode": {
    "name": "ipython",
    "version": 2
   },
   "file_extension": ".py",
   "mimetype": "text/x-python",
   "name": "python",
   "nbconvert_exporter": "python",
   "pygments_lexer": "ipython2",
   "version": "2.7.6"
  }
 },
 "nbformat": 4,
 "nbformat_minor": 5
}
